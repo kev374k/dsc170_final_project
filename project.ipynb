{
 "cells": [
  {
   "cell_type": "code",
   "execution_count": 12,
   "metadata": {},
   "outputs": [],
   "source": [
    "import arcgis\n",
    "import arcgiskey\n",
    "from arcgis.gis import GIS\n",
    "from arcgis.geometry import *\n",
    "from ipywidgets import *\n",
    "import geopandas as gpd\n",
    "import pandas as pd\n",
    "import numpy as np\n",
    "import arcgis.network as network\n",
    "import arcgis.geocoding as geocoding\n",
    "from arcgis.features import (\n",
    "    FeatureLayer,\n",
    "    FeatureSet,\n",
    "    FeatureCollection,\n",
    "    FeatureLayerCollection,\n",
    "    GeoAccessor,\n",
    "    GeoSeriesAccessor,\n",
    ")\n",
    "import arcgis.features.use_proximity as use_proximity\n",
    "from arcgis.geoenrichment import *\n",
    "from arcgis.map.symbols import PictureMarkerSymbolEsriPMS\n",
    "from arcgis.map.symbols import (\n",
    "    SimpleFillSymbolEsriSFS,\n",
    "    SimpleLineSymbolEsriSLS,\n",
    "    SimpleMarkerSymbolEsriSMS,\n",
    ")\n",
    "from shapely.geometry import (\n",
    "    Point,\n",
    "    MultiPoint,\n",
    "    LineString,\n",
    "    MultiLineString,\n",
    "    Polygon,\n",
    "    MultiPolygon,\n",
    ")\n",
    "\n",
    "gis = GIS(username = arcgiskey.username, password = arcgiskey.password)"
   ]
  },
  {
   "cell_type": "markdown",
   "metadata": {},
   "source": [
    "# 1) Project Title: Identifying points of Traffic with reasons in San Diego\n",
    "\n",
    "Team Members: Kevin Wong (A17280855) and Lukas Fullner (A16945107) \n",
    "\n",
    "Class: DSC 170 Winter 2025"
   ]
  },
  {
   "cell_type": "markdown",
   "metadata": {},
   "source": [
    "# 2) Questions we want to address, and their importance\n",
    "\n",
    "Traffic Pattern Analysis\n",
    "* How does traffic in urban, suburban, and rural areas differ? Specifically, what type of accidents happen most often in each respective category?\n",
    "* What are the most accident-prone intersections, highways, and roads in San Diego? Identify high risk areas based on accident frequency and severity\n",
    "\n",
    "Accident Causes & Trends:\n",
    "* How does traffic congestion correlate with accident occurrences?\n",
    "\n",
    "Demographic Factors: \n",
    "* Are accidents more frequent in areas with certain demographic characteristics?\n",
    "* Do different types of accidents correlate with socioeconimic factors?\n",
    "\n",
    "When traffic accidents are portrayed on the news, they are cited as being avoidable and oftentimes the cause of reckless driving, whether that be through sleepy drivers or those under the influence. However, we propose that oftentimes, traffic is not solely caused by reckless driving and individual driver behvaior. Other factors - such as socioeconomic conditions, infrastructure design, and traffic congrestion - play a significant role and are more measurable than human error. \n",
    "\n",
    "By identifying areas with high traffic volume and frequent accidents (relative to their area), we aim to create an interactive map highlighting accident-prone locations and potential contributing factors. This will provide a data-driven approach to understanding traffic safety in San Diego county and offer potential areas of improve to reduce accidents."
   ]
  },
  {
   "cell_type": "markdown",
   "metadata": {},
   "source": [
    "# 3) Background and Literature\n",
    "\n",
    "GIS in Traffic Accident Analysis\n",
    "\n",
    "* GIS has been extensively used to study the spatial distribution of traffic accidents, identifying hotspots and danger points in road traffic. For instance, the [FeGIS](https://bmdv.bund.de/SharedDocs/DE/Artikel/DG/mfund-projekte/frueherkennung-von-gefahrenstellen-im-strassenverkehr-fegis.html) (Early Detection of Dangerous Areas in road traffic) project in Germany helped identify these \"danger points\", preventing accidents through timely warnings of danger zones for pedestrians and road users. It offered an outline for proactive identification of danger for EU Road Safety Policy\n",
    "\n",
    "Statistical Methosd in Traffic Safety Research \n",
    "\n",
    "* Statistical and econometrical methods for analyzing crash data and understanding the factors that influence accident occurrences and severities are essential to our project. Researchers like [Fred Mannering](https://en.wikipedia.org/wiki/Fred_Mannering) have contributed significantly to this field, developing models that account for accident frequency and severity based on road conditions, type, and more. \n",
    "\n",
    "Tools for Spaital Analysis in Traffic Studies\n",
    "\n",
    "* Tools like [CrimeStat](https://en.wikipedia.org/wiki/CrimeStat) offer spatial statistical functionalities that can be applied to traffic accident analysis. CrimeStat's spatial analytical methods have been adapted for various applications, like finding accident hotspots and modeling travel demand related to traffic accidents."
   ]
  },
  {
   "cell_type": "code",
   "execution_count": null,
   "metadata": {},
   "outputs": [],
   "source": []
  }
 ],
 "metadata": {
  "kernelspec": {
   "display_name": "base",
   "language": "python",
   "name": "python3"
  },
  "language_info": {
   "codemirror_mode": {
    "name": "ipython",
    "version": 3
   },
   "file_extension": ".py",
   "mimetype": "text/x-python",
   "name": "python",
   "nbconvert_exporter": "python",
   "pygments_lexer": "ipython3",
   "version": "3.12.2"
  }
 },
 "nbformat": 4,
 "nbformat_minor": 2
}
