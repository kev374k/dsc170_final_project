{
 "cells": [
  {
   "cell_type": "code",
   "execution_count": 1,
   "metadata": {},
   "outputs": [],
   "source": [
    "import arcgis\n",
    "import arcgiskey\n",
    "from arcgis.gis import GIS\n",
    "from arcgis.geometry import *\n",
    "from ipywidgets import *\n",
    "import geopandas as gpd\n",
    "import pandas as pd\n",
    "import numpy as np\n",
    "import arcgis.network as network\n",
    "import arcgis.geocoding as geocoding\n",
    "from arcgis.features import (\n",
    "    FeatureLayer,\n",
    "    FeatureSet,\n",
    "    FeatureCollection,\n",
    "    FeatureLayerCollection,\n",
    "    GeoAccessor,\n",
    "    GeoSeriesAccessor,\n",
    ")\n",
    "import arcgis.features.use_proximity as use_proximity\n",
    "from arcgis.geoenrichment import *\n",
    "from arcgis.map.symbols import PictureMarkerSymbolEsriPMS\n",
    "from arcgis.map.symbols import (\n",
    "    SimpleFillSymbolEsriSFS,\n",
    "    SimpleLineSymbolEsriSLS,\n",
    "    SimpleMarkerSymbolEsriSMS,\n",
    ")\n",
    "from arcgis.map import renderers\n",
    "from arcgis.map.renderers import SimpleRenderer\n",
    "from arcgis.map.symbols import SimpleFillSymbolEsriSFS, SimpleFillSymbolStyle\n",
    "from arcgis.map.symbols import SimpleLineSymbolEsriSLS, SimpleLineSymbolStyle\n",
    "from shapely.geometry import (\n",
    "    Point,\n",
    "    MultiPoint,\n",
    "    LineString,\n",
    "    MultiLineString,\n",
    "    Polygon,\n",
    "    MultiPolygon,\n",
    ")\n",
    "\n",
    "gis = GIS(username = arcgiskey.USERNAME, password = arcgiskey.PASSWORD)"
   ]
  },
  {
   "cell_type": "markdown",
   "metadata": {},
   "source": [
    "# 1) Project Title: Identifying points of Traffic with reasons in San Diego\n",
    "\n",
    "Team Members: Kevin Wong (A17280855) and Lukas Fullner (A16945107) \n",
    "\n",
    "Class: DSC 170 Winter 2025"
   ]
  },
  {
   "cell_type": "markdown",
   "metadata": {},
   "source": [
    "# 2) Questions we want to address, and their importance\n",
    "\n",
    "Traffic Pattern Analysis\n",
    "* How does traffic in urban, suburban, and rural areas differ? Specifically, what type of accidents happen most often in each respective category?\n",
    "* What are the most accident-prone intersections, highways, and roads in San Diego? Identify high risk areas based on accident frequency and severity\n",
    "\n",
    "Accident Causes & Trends:\n",
    "* How does traffic congestion correlate with accident occurrences?\n",
    "\n",
    "Demographic Factors: \n",
    "* Are accidents more frequent in areas with certain demographic characteristics?\n",
    "* Do different types of accidents correlate with socioeconimic factors?\n",
    "\n",
    "When traffic accidents are portrayed on the news, they are cited as being avoidable and oftentimes the cause of reckless driving, whether that be through sleepy drivers or those under the influence. However, we propose that oftentimes, traffic is not solely caused by reckless driving and individual driver behvaior. Other factors - such as socioeconomic conditions, infrastructure design, and traffic congrestion - play a significant role and are more measurable than human error. \n",
    "\n",
    "By identifying areas with high traffic volume and frequent accidents (relative to their area), we aim to create an interactive map highlighting accident-prone locations and potential contributing factors. This will provide a data-driven approach to understanding traffic safety in San Diego county and offer potential areas of improve to reduce accidents."
   ]
  },
  {
   "cell_type": "markdown",
   "metadata": {},
   "source": [
    "# 3) Background and Literature\n",
    "\n",
    "GIS in Traffic Accident Analysis\n",
    "\n",
    "* GIS has been extensively used to study the spatial distribution of traffic accidents, identifying hotspots and danger points in road traffic. For instance, the [FeGIS](https://bmdv.bund.de/SharedDocs/DE/Artikel/DG/mfund-projekte/frueherkennung-von-gefahrenstellen-im-strassenverkehr-fegis.html) (Early Detection of Dangerous Areas in road traffic) project in Germany helped identify these \"danger points\", preventing accidents through timely warnings of danger zones for pedestrians and road users. It offered an outline for proactive identification of danger for EU Road Safety Policy\n",
    "\n",
    "Statistical Methods in Traffic Safety Research \n",
    "\n",
    "* Statistical and econometrical methods for analyzing crash data and understanding the factors that influence accident occurrences and severities are essential to our project. Researchers like [Fred Mannering](https://en.wikipedia.org/wiki/Fred_Mannering) have contributed significantly to this field, developing models that account for accident frequency and severity based on road conditions, type, and more. \n",
    "\n",
    "Tools for Spaital Analysis in Traffic Studies\n",
    "\n",
    "* Tools like [CrimeStat](https://en.wikipedia.org/wiki/CrimeStat) offer spatial statistical functionalities that can be applied to traffic accident analysis. CrimeStat's spatial analytical methods have been adapted for various applications, like finding accident hotspots and modeling travel demand related to traffic accidents."
   ]
  },
  {
   "cell_type": "markdown",
   "metadata": {},
   "source": [
    "# 4) Libaries and Modules\n",
    "\n",
    "* Pandas - To handle dataframes and to preprocess data\n",
    "* GeoPandas — Used to determine the geometry of certain places in San Diego. Also used to help spatial join and create buffers around areas to analyze them.\n",
    "* ArcGIS Online — Mainly used for Geoenrichment as well as mapping traffic patterns around a map of San Diego. Additionally, used to search for data in ArcGIS to see which areas have a lot of traffic and see what correlations are implied with it. "
   ]
  },
  {
   "cell_type": "markdown",
   "metadata": {},
   "source": [
    "# 5) Data Sources:\n",
    "\n",
    "SANDAG: Safety - Collions (SWITRS) 2023 \n",
    "* This data focuses on collision data for San Diego within 2022, due to it's completeness. It currently has over 10000 collisions in San Diego County. Primarily, it uses the Statewide Integrated Traffic Records System (SWITRS) as a database and process data gathered from a collision scene. We take this specifically from SANDAG due to their reliability as a data distributor for spatial data with the help of California Highway Patrol. We will be using data primarily from 2023. \n",
    "\n",
    "ArcGIS Online USA Counties \n",
    "* Used to determine the counties in the United States; additionally, used for geoenrichment to find population density"
   ]
  },
  {
   "cell_type": "code",
   "execution_count": null,
   "metadata": {},
   "outputs": [],
   "source": [
    "# read data and convert into a spatial dataframe\n",
    "data = gpd.read_file(\"data/collision_data_2022.csv\")\n",
    "data = data.drop(columns = ['Reservation sandag', 'Shape', 'CASE ID', 'X', 'Y'])\n",
    "\n",
    "# conver to floats in order to make sure the spatial references work\n",
    "data['LONGITUDE sandag'] = data['LONGITUDE sandag'].astype(float)\n",
    "data['LATITUDE sandag'] = data['LATITUDE sandag'].astype(float)\n",
    "sdf = GeoAccessor.from_xy(data, x_column='LONGITUDE sandag', y_column='LATITUDE sandag', sr = 4326)"
   ]
  },
  {
   "cell_type": "code",
   "execution_count": null,
   "metadata": {},
   "outputs": [],
   "source": [
    "# convert into a feature layer -> DON'T RUN AGAIN, ALREADY CREATED\n",
    "# feature_layer = sdf.spatial.to_featurelayer(\n",
    "#     title = \"Collision Data SD County 2022\",\n",
    "#     gis = gis, \n",
    "#     tags = [\"Collision\", \"Data\", \"2022\"],\n",
    "#     overwrite = False,\n",
    "#     sanitize_columns = True,\n",
    "#     service_name = \"Collision_Data_San_Diego_County_2022\"\n",
    "# )"
   ]
  },
  {
   "cell_type": "code",
   "execution_count": 7,
   "metadata": {},
   "outputs": [],
   "source": [
    "collision_layer = gis.content.search(query = \"owner:dsc170wi25_7\", item_type = \"Feature Layer\", outside_org = True)[0]\n",
    "collision_fl = gis.content.get(collision_layer.id).layers[0]\n",
    "collision_sdf = collision_fl.query().sdf"
   ]
  },
  {
   "cell_type": "code",
   "execution_count": 8,
   "metadata": {},
   "outputs": [
    {
     "ename": "Exception",
     "evalue": "Cannot perform query. Invalid query parameters.\n'Invalid field: STATE' parameter is invalid\n(Error Code: 400)",
     "output_type": "error",
     "traceback": [
      "\u001b[31m---------------------------------------------------------------------------\u001b[39m",
      "\u001b[31mException\u001b[39m                                 Traceback (most recent call last)",
      "\u001b[36mCell\u001b[39m\u001b[36m \u001b[39m\u001b[32mIn[8]\u001b[39m\u001b[32m, line 12\u001b[39m\n\u001b[32m     10\u001b[39m zip_codes = gis.content.search(\u001b[33m\"\u001b[39m\u001b[33mzip code\u001b[39m\u001b[33m\"\u001b[39m, item_type = \u001b[33m\"\u001b[39m\u001b[33mFeature Layer\u001b[39m\u001b[33m\"\u001b[39m, outside_org = \u001b[38;5;28;01mTrue\u001b[39;00m)[\u001b[32m2\u001b[39m]\n\u001b[32m     11\u001b[39m zip_codes_fl = gis.content.get(zip_codes.id).layers[\u001b[32m0\u001b[39m]\n\u001b[32m---> \u001b[39m\u001b[32m12\u001b[39m california_zip_codes_sdf = \u001b[43mzip_codes_fl\u001b[49m\u001b[43m.\u001b[49m\u001b[43mquery\u001b[49m\u001b[43m(\u001b[49m\u001b[43mwhere\u001b[49m\u001b[43m \u001b[49m\u001b[43m=\u001b[49m\u001b[43m \u001b[49m\u001b[33;43m\"\u001b[39;49m\u001b[33;43mSTATE = \u001b[39;49m\u001b[33;43m'\u001b[39;49m\u001b[33;43mCA\u001b[39;49m\u001b[33;43m'\u001b[39;49m\u001b[33;43m\"\u001b[39;49m\u001b[43m)\u001b[49m.sdf\n\u001b[32m     13\u001b[39m ca_zip_codes_gdf = gpd.GeoDataFrame(california_zip_codes_sdf).set_geometry(\u001b[33m\"\u001b[39m\u001b[33mSHAPE\u001b[39m\u001b[33m\"\u001b[39m)\n\u001b[32m     14\u001b[39m ca_zip_codes_gdf = ca_zip_codes_gdf.set_crs(\u001b[33m\"\u001b[39m\u001b[33m3857\u001b[39m\u001b[33m\"\u001b[39m)\n",
      "\u001b[36mFile \u001b[39m\u001b[32mc:\\Users\\lukas\\AppData\\Local\\Programs\\Python\\Python311\\Lib\\site-packages\\arcgis\\features\\layer.py:2212\u001b[39m, in \u001b[36mFeatureLayer.query\u001b[39m\u001b[34m(self, where, out_fields, time_filter, geometry_filter, return_geometry, return_count_only, return_ids_only, return_distinct_values, return_extent_only, group_by_fields_for_statistics, statistic_filter, result_offset, result_record_count, object_ids, distance, units, max_allowable_offset, out_sr, geometry_precision, gdb_version, order_by_fields, out_statistics, return_z, return_m, multipatch_option, quantization_parameters, return_centroid, return_all_records, result_type, historic_moment, sql_format, return_true_curves, return_exceeded_limit_features, as_df, datum_transformation, time_reference_unknown_client, **kwargs)\u001b[39m\n\u001b[32m   1846\u001b[39m \u001b[38;5;28;01mdef\u001b[39;00m\u001b[38;5;250m \u001b[39m\u001b[34mquery\u001b[39m(\n\u001b[32m   1847\u001b[39m     \u001b[38;5;28mself\u001b[39m,\n\u001b[32m   1848\u001b[39m     where: \u001b[38;5;28mstr\u001b[39m = \u001b[33m\"\u001b[39m\u001b[33m1=1\u001b[39m\u001b[33m\"\u001b[39m,\n\u001b[32m   (...)\u001b[39m\u001b[32m   1884\u001b[39m     **kwargs,\n\u001b[32m   1885\u001b[39m ):\n\u001b[32m   1886\u001b[39m \u001b[38;5;250m    \u001b[39m\u001b[33;03m\"\"\"\u001b[39;00m\n\u001b[32m   1887\u001b[39m \u001b[33;03m    The ``query`` method queries a :class:`~arcgis.features.FeatureLayer` based on a ``sql`` statement.\u001b[39;00m\n\u001b[32m   1888\u001b[39m \n\u001b[32m   (...)\u001b[39m\u001b[32m   2209\u001b[39m \n\u001b[32m   2210\u001b[39m \u001b[33;03m    \"\"\"\u001b[39;00m\n\u001b[32m-> \u001b[39m\u001b[32m2212\u001b[39m     \u001b[38;5;28;01mreturn\u001b[39;00m \u001b[43m_query\u001b[49m\u001b[43m.\u001b[49m\u001b[43m_common_query\u001b[49m\u001b[43m(\u001b[49m\n\u001b[32m   2213\u001b[39m \u001b[43m        \u001b[49m\u001b[43mlayer\u001b[49m\u001b[43m=\u001b[49m\u001b[38;5;28;43mself\u001b[39;49m\u001b[43m,\u001b[49m\n\u001b[32m   2214\u001b[39m \u001b[43m        \u001b[49m\u001b[43mis_layer\u001b[49m\u001b[43m=\u001b[49m\u001b[38;5;28;43;01mTrue\u001b[39;49;00m\u001b[43m,\u001b[49m\n\u001b[32m   2215\u001b[39m \u001b[43m        \u001b[49m\u001b[43mwhere\u001b[49m\u001b[43m=\u001b[49m\u001b[43mwhere\u001b[49m\u001b[43m,\u001b[49m\n\u001b[32m   2216\u001b[39m \u001b[43m        \u001b[49m\u001b[43mout_fields\u001b[49m\u001b[43m=\u001b[49m\u001b[43mout_fields\u001b[49m\u001b[43m,\u001b[49m\n\u001b[32m   2217\u001b[39m \u001b[43m        \u001b[49m\u001b[43mtime_filter\u001b[49m\u001b[43m=\u001b[49m\u001b[43mtime_filter\u001b[49m\u001b[43m,\u001b[49m\n\u001b[32m   2218\u001b[39m \u001b[43m        \u001b[49m\u001b[43mgeometry_filter\u001b[49m\u001b[43m=\u001b[49m\u001b[43mgeometry_filter\u001b[49m\u001b[43m,\u001b[49m\n\u001b[32m   2219\u001b[39m \u001b[43m        \u001b[49m\u001b[43mreturn_geometry\u001b[49m\u001b[43m=\u001b[49m\u001b[43mreturn_geometry\u001b[49m\u001b[43m,\u001b[49m\n\u001b[32m   2220\u001b[39m \u001b[43m        \u001b[49m\u001b[43mreturn_count_only\u001b[49m\u001b[43m=\u001b[49m\u001b[43mreturn_count_only\u001b[49m\u001b[43m,\u001b[49m\n\u001b[32m   2221\u001b[39m \u001b[43m        \u001b[49m\u001b[43mreturn_ids_only\u001b[49m\u001b[43m=\u001b[49m\u001b[43mreturn_ids_only\u001b[49m\u001b[43m,\u001b[49m\n\u001b[32m   2222\u001b[39m \u001b[43m        \u001b[49m\u001b[43mreturn_distinct_values\u001b[49m\u001b[43m=\u001b[49m\u001b[43mreturn_distinct_values\u001b[49m\u001b[43m,\u001b[49m\n\u001b[32m   2223\u001b[39m \u001b[43m        \u001b[49m\u001b[43mreturn_extent_only\u001b[49m\u001b[43m=\u001b[49m\u001b[43mreturn_extent_only\u001b[49m\u001b[43m,\u001b[49m\n\u001b[32m   2224\u001b[39m \u001b[43m        \u001b[49m\u001b[43mgroup_by_fields_for_statistics\u001b[49m\u001b[43m=\u001b[49m\u001b[43mgroup_by_fields_for_statistics\u001b[49m\u001b[43m,\u001b[49m\n\u001b[32m   2225\u001b[39m \u001b[43m        \u001b[49m\u001b[43mstatistic_filter\u001b[49m\u001b[43m=\u001b[49m\u001b[43mstatistic_filter\u001b[49m\u001b[43m,\u001b[49m\n\u001b[32m   2226\u001b[39m \u001b[43m        \u001b[49m\u001b[43mresult_offset\u001b[49m\u001b[43m=\u001b[49m\u001b[43mresult_offset\u001b[49m\u001b[43m,\u001b[49m\n\u001b[32m   2227\u001b[39m \u001b[43m        \u001b[49m\u001b[43mresult_record_count\u001b[49m\u001b[43m=\u001b[49m\u001b[43mresult_record_count\u001b[49m\u001b[43m,\u001b[49m\n\u001b[32m   2228\u001b[39m \u001b[43m        \u001b[49m\u001b[43mobject_ids\u001b[49m\u001b[43m=\u001b[49m\u001b[43mobject_ids\u001b[49m\u001b[43m,\u001b[49m\n\u001b[32m   2229\u001b[39m \u001b[43m        \u001b[49m\u001b[43mdistance\u001b[49m\u001b[43m=\u001b[49m\u001b[43mdistance\u001b[49m\u001b[43m,\u001b[49m\n\u001b[32m   2230\u001b[39m \u001b[43m        \u001b[49m\u001b[43munits\u001b[49m\u001b[43m=\u001b[49m\u001b[43munits\u001b[49m\u001b[43m,\u001b[49m\n\u001b[32m   2231\u001b[39m \u001b[43m        \u001b[49m\u001b[43mmax_allowable_offset\u001b[49m\u001b[43m=\u001b[49m\u001b[43mmax_allowable_offset\u001b[49m\u001b[43m,\u001b[49m\n\u001b[32m   2232\u001b[39m \u001b[43m        \u001b[49m\u001b[43mout_sr\u001b[49m\u001b[43m=\u001b[49m\u001b[43mout_sr\u001b[49m\u001b[43m,\u001b[49m\n\u001b[32m   2233\u001b[39m \u001b[43m        \u001b[49m\u001b[43mgeometry_precision\u001b[49m\u001b[43m=\u001b[49m\u001b[43mgeometry_precision\u001b[49m\u001b[43m,\u001b[49m\n\u001b[32m   2234\u001b[39m \u001b[43m        \u001b[49m\u001b[43mgdb_version\u001b[49m\u001b[43m=\u001b[49m\u001b[43mgdb_version\u001b[49m\u001b[43m,\u001b[49m\n\u001b[32m   2235\u001b[39m \u001b[43m        \u001b[49m\u001b[43morder_by_fields\u001b[49m\u001b[43m=\u001b[49m\u001b[43morder_by_fields\u001b[49m\u001b[43m,\u001b[49m\n\u001b[32m   2236\u001b[39m \u001b[43m        \u001b[49m\u001b[43mout_statistics\u001b[49m\u001b[43m=\u001b[49m\u001b[43mout_statistics\u001b[49m\u001b[43m,\u001b[49m\n\u001b[32m   2237\u001b[39m \u001b[43m        \u001b[49m\u001b[43mreturn_z\u001b[49m\u001b[43m=\u001b[49m\u001b[43mreturn_z\u001b[49m\u001b[43m,\u001b[49m\n\u001b[32m   2238\u001b[39m \u001b[43m        \u001b[49m\u001b[43mreturn_m\u001b[49m\u001b[43m=\u001b[49m\u001b[43mreturn_m\u001b[49m\u001b[43m,\u001b[49m\n\u001b[32m   2239\u001b[39m \u001b[43m        \u001b[49m\u001b[43mmultipatch_option\u001b[49m\u001b[43m=\u001b[49m\u001b[43mmultipatch_option\u001b[49m\u001b[43m,\u001b[49m\n\u001b[32m   2240\u001b[39m \u001b[43m        \u001b[49m\u001b[43mquantization_parameters\u001b[49m\u001b[43m=\u001b[49m\u001b[43mquantization_parameters\u001b[49m\u001b[43m,\u001b[49m\n\u001b[32m   2241\u001b[39m \u001b[43m        \u001b[49m\u001b[43mreturn_centroid\u001b[49m\u001b[43m=\u001b[49m\u001b[43mreturn_centroid\u001b[49m\u001b[43m,\u001b[49m\n\u001b[32m   2242\u001b[39m \u001b[43m        \u001b[49m\u001b[43mreturn_all_records\u001b[49m\u001b[43m=\u001b[49m\u001b[43mreturn_all_records\u001b[49m\u001b[43m,\u001b[49m\n\u001b[32m   2243\u001b[39m \u001b[43m        \u001b[49m\u001b[43mresult_type\u001b[49m\u001b[43m=\u001b[49m\u001b[43mresult_type\u001b[49m\u001b[43m,\u001b[49m\n\u001b[32m   2244\u001b[39m \u001b[43m        \u001b[49m\u001b[43mhistoric_moment\u001b[49m\u001b[43m=\u001b[49m\u001b[43mhistoric_moment\u001b[49m\u001b[43m,\u001b[49m\n\u001b[32m   2245\u001b[39m \u001b[43m        \u001b[49m\u001b[43msql_format\u001b[49m\u001b[43m=\u001b[49m\u001b[43msql_format\u001b[49m\u001b[43m,\u001b[49m\n\u001b[32m   2246\u001b[39m \u001b[43m        \u001b[49m\u001b[43mreturn_true_curves\u001b[49m\u001b[43m=\u001b[49m\u001b[43mreturn_true_curves\u001b[49m\u001b[43m,\u001b[49m\n\u001b[32m   2247\u001b[39m \u001b[43m        \u001b[49m\u001b[43mreturn_exceeded_limit_features\u001b[49m\u001b[43m=\u001b[49m\u001b[43mreturn_exceeded_limit_features\u001b[49m\u001b[43m,\u001b[49m\n\u001b[32m   2248\u001b[39m \u001b[43m        \u001b[49m\u001b[43mas_df\u001b[49m\u001b[43m=\u001b[49m\u001b[43mas_df\u001b[49m\u001b[43m,\u001b[49m\n\u001b[32m   2249\u001b[39m \u001b[43m        \u001b[49m\u001b[43mdatum_transformation\u001b[49m\u001b[43m=\u001b[49m\u001b[43mdatum_transformation\u001b[49m\u001b[43m,\u001b[49m\n\u001b[32m   2250\u001b[39m \u001b[43m        \u001b[49m\u001b[43mtime_reference_unknown_client\u001b[49m\u001b[43m=\u001b[49m\u001b[43mtime_reference_unknown_client\u001b[49m\u001b[43m,\u001b[49m\n\u001b[32m   2251\u001b[39m \u001b[43m        \u001b[49m\u001b[43m*\u001b[49m\u001b[43m*\u001b[49m\u001b[43mkwargs\u001b[49m\u001b[43m,\u001b[49m\n\u001b[32m   2252\u001b[39m \u001b[43m    \u001b[49m\u001b[43m)\u001b[49m\n",
      "\u001b[36mFile \u001b[39m\u001b[32mc:\\Users\\lukas\\AppData\\Local\\Programs\\Python\\Python311\\Lib\\site-packages\\arcgis\\_impl\\common\\_query.py:129\u001b[39m, in \u001b[36m_common_query\u001b[39m\u001b[34m(layer, is_layer, where, text, out_fields, time_filter, geometry_filter, return_geometry, return_count_only, return_ids_only, return_distinct_values, return_extent_only, group_by_fields_for_statistics, statistic_filter, result_offset, result_record_count, object_ids, distance, units, max_allowable_offset, out_sr, geometry_precision, gdb_version, order_by_fields, out_statistics, return_z, return_m, multipatch_option, quantization_parameters, return_centroid, return_all_records, result_type, historic_moment, sql_format, return_true_curves, return_exceeded_limit_features, as_df, datum_transformation, range_values, parameter_values, format_3d_objects, time_reference_unknown_client, **kwargs)\u001b[39m\n\u001b[32m    127\u001b[39m     \u001b[38;5;28;01mreturn\u001b[39;00m _query_df(layer, url, params)\n\u001b[32m    128\u001b[39m \u001b[38;5;28;01melse\u001b[39;00m:\n\u001b[32m--> \u001b[39m\u001b[32m129\u001b[39m     \u001b[38;5;28;01mreturn\u001b[39;00m \u001b[43m_query\u001b[49m\u001b[43m(\u001b[49m\u001b[43mlayer\u001b[49m\u001b[43m,\u001b[49m\u001b[43m \u001b[49m\u001b[43murl\u001b[49m\u001b[43m,\u001b[49m\u001b[43m \u001b[49m\u001b[43mparams\u001b[49m\u001b[43m,\u001b[49m\u001b[43m \u001b[49m\u001b[43mraw\u001b[49m\u001b[43m)\u001b[49m\n",
      "\u001b[36mFile \u001b[39m\u001b[32mc:\\Users\\lukas\\AppData\\Local\\Programs\\Python\\Python311\\Lib\\site-packages\\arcgis\\_impl\\common\\_query.py:334\u001b[39m, in \u001b[36m_query\u001b[39m\u001b[34m(layer, url, params, raw)\u001b[39m\n\u001b[32m    332\u001b[39m     \u001b[38;5;28;01mreturn\u001b[39;00m _process_query_result(result, params, raw, layer, url)\n\u001b[32m    333\u001b[39m \u001b[38;5;28;01mexcept\u001b[39;00m \u001b[38;5;167;01mException\u001b[39;00m \u001b[38;5;28;01mas\u001b[39;00m query_exception:\n\u001b[32m--> \u001b[39m\u001b[32m334\u001b[39m     \u001b[38;5;28;01mreturn\u001b[39;00m \u001b[43m_handle_query_exception\u001b[49m\u001b[43m(\u001b[49m\u001b[43mquery_exception\u001b[49m\u001b[43m,\u001b[49m\u001b[43m \u001b[49m\u001b[43mlayer\u001b[49m\u001b[43m,\u001b[49m\u001b[43m \u001b[49m\u001b[43murl\u001b[49m\u001b[43m,\u001b[49m\u001b[43m \u001b[49m\u001b[43mparams\u001b[49m\u001b[43m,\u001b[49m\u001b[43m \u001b[49m\u001b[43mraw\u001b[49m\u001b[43m)\u001b[49m\n",
      "\u001b[36mFile \u001b[39m\u001b[32mc:\\Users\\lukas\\AppData\\Local\\Programs\\Python\\Python311\\Lib\\site-packages\\arcgis\\_impl\\common\\_query.py:402\u001b[39m, in \u001b[36m_handle_query_exception\u001b[39m\u001b[34m(query_exception, layer, url, params, raw)\u001b[39m\n\u001b[32m    399\u001b[39m \u001b[38;5;28;01mif\u001b[39;00m _is_known_error(query_exception, error_messages):\n\u001b[32m    400\u001b[39m     \u001b[38;5;28;01mreturn\u001b[39;00m _retry_query_with_fewer_records(layer, url, params, raw)\n\u001b[32m--> \u001b[39m\u001b[32m402\u001b[39m \u001b[38;5;28;01mraise\u001b[39;00m query_exception\n",
      "\u001b[36mFile \u001b[39m\u001b[32mc:\\Users\\lukas\\AppData\\Local\\Programs\\Python\\Python311\\Lib\\site-packages\\arcgis\\_impl\\common\\_query.py:331\u001b[39m, in \u001b[36m_query\u001b[39m\u001b[34m(layer, url, params, raw)\u001b[39m\n\u001b[32m    328\u001b[39m \u001b[38;5;250m\u001b[39m\u001b[33;03m\"\"\"Returns results of the query for the provided layer and URL.\"\"\"\u001b[39;00m\n\u001b[32m    329\u001b[39m \u001b[38;5;28;01mtry\u001b[39;00m:\n\u001b[32m    330\u001b[39m     \u001b[38;5;66;03m# Perform the initial query\u001b[39;00m\n\u001b[32m--> \u001b[39m\u001b[32m331\u001b[39m     result = \u001b[43mlayer\u001b[49m\u001b[43m.\u001b[49m\u001b[43m_con\u001b[49m\u001b[43m.\u001b[49m\u001b[43mpost\u001b[49m\u001b[43m(\u001b[49m\u001b[43murl\u001b[49m\u001b[43m,\u001b[49m\u001b[43m \u001b[49m\u001b[43mparams\u001b[49m\u001b[43m,\u001b[49m\u001b[43m \u001b[49m\u001b[43mtoken\u001b[49m\u001b[43m=\u001b[49m\u001b[43mlayer\u001b[49m\u001b[43m.\u001b[49m\u001b[43m_token\u001b[49m\u001b[43m)\u001b[49m\n\u001b[32m    332\u001b[39m     \u001b[38;5;28;01mreturn\u001b[39;00m _process_query_result(result, params, raw, layer, url)\n\u001b[32m    333\u001b[39m \u001b[38;5;28;01mexcept\u001b[39;00m \u001b[38;5;167;01mException\u001b[39;00m \u001b[38;5;28;01mas\u001b[39;00m query_exception:\n",
      "\u001b[36mFile \u001b[39m\u001b[32mc:\\Users\\lukas\\AppData\\Local\\Programs\\Python\\Python311\\Lib\\site-packages\\arcgis\\gis\\_impl\\_con\\_connection.py:1504\u001b[39m, in \u001b[36mConnection.post\u001b[39m\u001b[34m(self, path, params, files, **kwargs)\u001b[39m\n\u001b[32m   1502\u001b[39m \u001b[38;5;28;01mif\u001b[39;00m return_raw_response:\n\u001b[32m   1503\u001b[39m     \u001b[38;5;28;01mreturn\u001b[39;00m resp\n\u001b[32m-> \u001b[39m\u001b[32m1504\u001b[39m \u001b[38;5;28;01mreturn\u001b[39;00m \u001b[38;5;28;43mself\u001b[39;49m\u001b[43m.\u001b[49m\u001b[43m_handle_response\u001b[49m\u001b[43m(\u001b[49m\n\u001b[32m   1505\u001b[39m \u001b[43m    \u001b[49m\u001b[43mresp\u001b[49m\u001b[43m=\u001b[49m\u001b[43mresp\u001b[49m\u001b[43m,\u001b[49m\n\u001b[32m   1506\u001b[39m \u001b[43m    \u001b[49m\u001b[43mout_path\u001b[49m\u001b[43m=\u001b[49m\u001b[43mout_path\u001b[49m\u001b[43m,\u001b[49m\n\u001b[32m   1507\u001b[39m \u001b[43m    \u001b[49m\u001b[43mfile_name\u001b[49m\u001b[43m=\u001b[49m\u001b[43mfile_name\u001b[49m\u001b[43m,\u001b[49m\n\u001b[32m   1508\u001b[39m \u001b[43m    \u001b[49m\u001b[43mtry_json\u001b[49m\u001b[43m=\u001b[49m\u001b[43mtry_json\u001b[49m\u001b[43m,\u001b[49m\n\u001b[32m   1509\u001b[39m \u001b[43m    \u001b[49m\u001b[43mforce_bytes\u001b[49m\u001b[43m=\u001b[49m\u001b[43mkwargs\u001b[49m\u001b[43m.\u001b[49m\u001b[43mpop\u001b[49m\u001b[43m(\u001b[49m\u001b[33;43m\"\u001b[39;49m\u001b[33;43mforce_bytes\u001b[39;49m\u001b[33;43m\"\u001b[39;49m\u001b[43m,\u001b[49m\u001b[43m \u001b[49m\u001b[38;5;28;43;01mFalse\u001b[39;49;00m\u001b[43m)\u001b[49m\u001b[43m,\u001b[49m\n\u001b[32m   1510\u001b[39m \u001b[43m\u001b[49m\u001b[43m)\u001b[49m\n",
      "\u001b[36mFile \u001b[39m\u001b[32mc:\\Users\\lukas\\AppData\\Local\\Programs\\Python\\Python311\\Lib\\site-packages\\arcgis\\gis\\_impl\\_con\\_connection.py:979\u001b[39m, in \u001b[36mConnection._handle_response\u001b[39m\u001b[34m(self, resp, file_name, out_path, try_json, force_bytes, ignore_error_key)\u001b[39m\n\u001b[32m    977\u001b[39m             \u001b[38;5;28;01mreturn\u001b[39;00m data\n\u001b[32m    978\u001b[39m         errorcode = data[\u001b[33m\"\u001b[39m\u001b[33merror\u001b[39m\u001b[33m\"\u001b[39m][\u001b[33m\"\u001b[39m\u001b[33mcode\u001b[39m\u001b[33m\"\u001b[39m] \u001b[38;5;28;01mif\u001b[39;00m \u001b[33m\"\u001b[39m\u001b[33mcode\u001b[39m\u001b[33m\"\u001b[39m \u001b[38;5;129;01min\u001b[39;00m data[\u001b[33m\"\u001b[39m\u001b[33merror\u001b[39m\u001b[33m\"\u001b[39m] \u001b[38;5;28;01melse\u001b[39;00m \u001b[32m0\u001b[39m\n\u001b[32m--> \u001b[39m\u001b[32m979\u001b[39m         \u001b[38;5;28;43mself\u001b[39;49m\u001b[43m.\u001b[49m\u001b[43m_handle_json_error\u001b[49m\u001b[43m(\u001b[49m\u001b[43mdata\u001b[49m\u001b[43m[\u001b[49m\u001b[33;43m\"\u001b[39;49m\u001b[33;43merror\u001b[39;49m\u001b[33;43m\"\u001b[39;49m\u001b[43m]\u001b[49m\u001b[43m,\u001b[49m\u001b[43m \u001b[49m\u001b[43merrorcode\u001b[49m\u001b[43m)\u001b[49m\n\u001b[32m    980\u001b[39m     \u001b[38;5;28;01mreturn\u001b[39;00m data\n\u001b[32m    981\u001b[39m \u001b[38;5;28;01melse\u001b[39;00m:\n",
      "\u001b[36mFile \u001b[39m\u001b[32mc:\\Users\\lukas\\AppData\\Local\\Programs\\Python\\Python311\\Lib\\site-packages\\arcgis\\gis\\_impl\\_con\\_connection.py:1002\u001b[39m, in \u001b[36mConnection._handle_json_error\u001b[39m\u001b[34m(self, error, errorcode)\u001b[39m\n\u001b[32m    999\u001b[39m                 \u001b[38;5;66;03m# _log.error(errordetail)\u001b[39;00m\n\u001b[32m   1001\u001b[39m errormessage = errormessage + \u001b[33m\"\u001b[39m\u001b[38;5;130;01m\\n\u001b[39;00m\u001b[33m(Error Code: \u001b[39m\u001b[33m\"\u001b[39m + \u001b[38;5;28mstr\u001b[39m(errorcode) + \u001b[33m\"\u001b[39m\u001b[33m)\u001b[39m\u001b[33m\"\u001b[39m\n\u001b[32m-> \u001b[39m\u001b[32m1002\u001b[39m \u001b[38;5;28;01mraise\u001b[39;00m \u001b[38;5;167;01mException\u001b[39;00m(errormessage)\n",
      "\u001b[31mException\u001b[39m: Cannot perform query. Invalid query parameters.\n'Invalid field: STATE' parameter is invalid\n(Error Code: 400)"
     ]
    }
   ],
   "source": [
    "# find county barrier for San Dieg\n",
    "counties = gis.content.search(\"USA Counties generalized\", \"Feature Layer\", outside_org=True)[4]\n",
    "counties_fl = gis.content.get(counties.id).layers[0]\n",
    "sd_county_sdf = counties_fl.query(\"NAME = 'San Diego County'\", return_geometry=True).sdf\n",
    "sd_county_gdf = gpd.GeoDataFrame(sd_county_sdf).set_geometry(\"SHAPE\")\n",
    "sd_county_gdf = sd_county_gdf.set_crs(\"4326\")\n",
    "sd_county_gdf = sd_county_gdf.to_crs(\"3857\")\n",
    "\n",
    "# find US zip codes for San Diego\n",
    "zip_codes = gis.content.search(\"zip code\", item_type = \"Feature Layer\", outside_org = True)[2]\n",
    "zip_codes_fl = gis.content.get(zip_codes.id).layers[0]\n",
    "california_zip_codes_sdf = zip_codes_fl.query(where = \"STATE = 'CA'\").sdf\n",
    "ca_zip_codes_gdf = gpd.GeoDataFrame(california_zip_codes_sdf).set_geometry(\"SHAPE\")\n",
    "ca_zip_codes_gdf = ca_zip_codes_gdf.set_crs(\"3857\")\n",
    "\n",
    "# spatial join these two to find zip codes that lie within San Diego County (add buffer to get rid of inconsistencies)\n",
    "sd_county_gdf['SHAPE'] = sd_county_gdf['SHAPE'].buffer(5000)\n",
    "sd_zip_codes = ca_zip_codes_gdf.sjoin(sd_county_gdf, predicate = 'within')\n",
    "\n",
    "# create 'density_class' based on 'pop_sqmi_l'\n",
    "def classify_density(pop_density):\n",
    "    if pop_density > 1000:\n",
    "        return \"Urban\"\n",
    "    elif pop_density > 200:\n",
    "        return \"Suburban\"\n",
    "    else:\n",
    "        return \"Rural\"\n",
    "\n",
    "# fill the missing value with data from 2023\n",
    "sd_zip_codes[\"POP_SQMI_left\"] = sd_zip_codes[\"POP_SQMI_left\"].fillna(3860)\n",
    "sd_zip_codes[\"density_class\"] = sd_zip_codes[\"POP_SQMI_left\"].apply(classify_density)"
   ]
  },
  {
   "cell_type": "code",
   "execution_count": null,
   "metadata": {},
   "outputs": [],
   "source": [
    "# convert into feature layer -> don't run again, already created\n",
    "# sd_zip_sdf = GeoAccessor.from_geodataframe(\n",
    "#     sd_zip_codes, column_name = \"SHAPE\"\n",
    "# )\n",
    "# zip_code_fl = sd_zip_sdf.spatial.to_featurelayer(\n",
    "#     title = \"San Diego County Zip Codes\",\n",
    "#     gis = gis,\n",
    "#     tags = [\"San Diego\", \"Zip Codes\", \"County\"],\n",
    "#     overwrite = False,\n",
    "#     sanitize_columns = True,\n",
    "#     service_name = \"San_Diego_County_ZipCode_Data\"\n",
    "# )"
   ]
  },
  {
   "cell_type": "code",
   "execution_count": null,
   "metadata": {},
   "outputs": [],
   "source": [
    "zip_code_layer = gis.content.search(\n",
    "    query=\"owner:dsc170wi25_7\", item_type=\"Feature Layer\"\n",
    ")[1]\n",
    "sd_zip_codes_fl = gis.content.get(zip_code_layer.id).layers[0]\n",
    "sd_zip_codes_sdf = sd_zip_codes_fl.query().sdf"
   ]
  },
  {
   "cell_type": "code",
   "execution_count": null,
   "metadata": {},
   "outputs": [
    {
     "data": {
      "application/vnd.jupyter.widget-view+json": {
       "model_id": "ecb99ce30a8e408fb65eaf481d2691e1",
       "version_major": 2,
       "version_minor": 1
      },
      "text/plain": [
       "Map(center=[3857636.3466711883, -13042616.481232138], extent={'xmin': -13075789.689488532, 'ymin': 3818273.910…"
      ]
     },
     "execution_count": 14,
     "metadata": {},
     "output_type": "execute_result"
    }
   ],
   "source": [
    "map1 = gis.map(\"San Diego, CA\")\n",
    "\n",
    "# population density renderer\n",
    "population_density_renderer = {\n",
    "    \"type\": \"uniqueValue\",\n",
    "    \"field1\": \"density_cl\",\n",
    "    \"uniqueValueInfos\": [\n",
    "        {\n",
    "            \"value\": \"Urban\",\n",
    "            \"symbol\": {\n",
    "                \"type\": \"esriSFS\",\n",
    "                \"style\": \"esriSFSSolid\",\n",
    "                \"color\": [252, 101, 66, 100],  # Transparent fill\n",
    "                \"outline\": {\n",
    "                    \"color\": [252, 101, 66, 255],  # Red outline for urban areas\n",
    "                    \"width\": 1.5,\n",
    "                },\n",
    "            },\n",
    "            \"label\": \"Urban\",\n",
    "        },\n",
    "        {\n",
    "            \"value\": \"Suburban\",\n",
    "            \"symbol\": {\n",
    "                \"type\": \"esriSFS\",\n",
    "                \"style\": \"esriSFSSolid\",\n",
    "                \"color\": [162, 190, 149, 100],  # Transparent fill\n",
    "                \"outline\": {\n",
    "                    \"color\": [162, 190, 149, 255],  # Green outline for suburban areas\n",
    "                    \"width\": 1.5,\n",
    "                },\n",
    "            },\n",
    "            \"label\": \"Suburban\",\n",
    "        },\n",
    "        {\n",
    "            \"value\": \"Rural\",\n",
    "            \"symbol\": {\n",
    "                \"type\": \"esriSFS\",\n",
    "                \"style\": \"esriSFSSolid\",\n",
    "                \"color\": [55, 94, 151, 100],  # Transparent fill\n",
    "                \"outline\": {\n",
    "                    \"color\": [55, 94, 151, 255],  # Blue outline for rural areas\n",
    "                    \"width\": 1.5,\n",
    "                },\n",
    "            },\n",
    "            \"label\": \"Rural\",\n",
    "        },\n",
    "    ],\n",
    "}\n",
    "\n",
    "map1.content.add(\n",
    "    sd_zip_codes_fl, drawing_info={\"renderer\": population_density_renderer}\n",
    ")\n",
    "map1.content.add(collision_fl)\n",
    "map1.legend.enabled = True\n",
    "map1\n"
   ]
  },
  {
   "cell_type": "markdown",
   "metadata": {},
   "source": [
    "# 6) Expected Data Cleaning\n",
    "\n",
    "Some relevant data quality issues is data age. We want to use more modern data, but also have data that is complete and accurate. We already did this with the collision data, as 2023 and 2024 data were incomplete, which means we had to settle for 2022. However, 2022 is a decent predictor of 2024 and 2025, as the bounceback from COVID had already begun. Fortunately, a topic like traffic accidents is a pretty popular and normal set that is used in data analysis, so there shouldn’t be any problems with it’s metadata. I would expect a lot of the data provided in SANDAG to be mostly reputable, but I do expect some problems with street names or areas that might not have been mapped out that well in the data. We will also encounter the issue of incomplete reporting, where the SANDAG data may not have full information reported for certain fields meaning we will have to impute some data or otherwise acount for the missing data.\n",
    "\n",
    "Additionally, some data cleaning we had to do was due to the buffer, since the boundaries of the county weren't 100% accurate to the boundaries of the zip code. We had to place a 5000 meter buffer on the county in order to get all of the zip codes in the county."
   ]
  },
  {
   "cell_type": "code",
   "execution_count": null,
   "metadata": {},
   "outputs": [],
   "source": []
  },
  {
   "cell_type": "markdown",
   "metadata": {},
   "source": [
    "# 7) Plan of Analysis\n",
    "\n",
    "* Data Exploration - Look through the data to see what exactly there is to analyze. For example, for traffic accidents, we could analyze how serious an accident is, or see what type of accident it is (this could be a car-car accident, car-person accident, car-bike accident, etc)\n",
    "* Data Analysis - We could look at concentrated places on our map where accidents occur more, and geoenrich a specific part (i.e. Downtown San Diego) to understand why something is happening. For instance, if we saw a lot of traffic in an area along with a lot of pedestrian violence, there might be a higher chance that an accident occurs. Similarly, we could also check restaurants that serve alcohol, and analyze whether or not areas near the restaurants could serve as an indication of an accident happening.\n",
    "* Machine Learning/Modeling - We want to model whether or not accidents are more likely to occur based on a number of variables that we had geoenriched. This could be the aforementioned # of restaurants that serve alcohol, or any sort of number of features that we geoenriched previously, and make sure we have a set of test areas that could be predicted. We could also predict the type of accident that happened spatially, with the same features. For our business case, we could identify certain zip codes or areas that contain a lot of traffic, and see reasons why they might be so traffic heavy compared to other zip codes. \n"
   ]
  },
  {
   "cell_type": "markdown",
   "metadata": {},
   "source": [
    "For the first question, we observed whether or not collisions were more likely to occur in urban, rural, or suburban areas, as well as which zip codes had the highest collision density. We found per square kilometer, Rural Areas only had 0.001673 collisions, Suburban Areas had 0.003585 collisions, while Urban had by far the highest collision density, with 0.021066 collisions per square kilometer. We also noticed that when we measured collision density in individual zip codes, those closest to the coast and downtown near the freeway had the highest collision rate, which is to be expected due to their frequent usage."
   ]
  },
  {
   "cell_type": "code",
   "execution_count": 15,
   "metadata": {},
   "outputs": [],
   "source": [
    "# Let's see if accidents are more prone to happening in urban, suburban, or rural areas\n",
    "collision_gdf = gpd.GeoDataFrame(collision_sdf, geometry=collision_sdf.SHAPE)\n",
    "sd_zip_codes_gdf = gpd.GeoDataFrame(sd_zip_codes_sdf, geometry=sd_zip_codes_sdf.SHAPE)\n",
    "zip_code_collisions = collision_gdf.sjoin(sd_zip_codes_gdf, predicate=\"within\")"
   ]
  },
  {
   "cell_type": "code",
   "execution_count": 16,
   "metadata": {},
   "outputs": [
    {
     "ename": "KeyError",
     "evalue": "'zip_code'",
     "output_type": "error",
     "traceback": [
      "\u001b[31m---------------------------------------------------------------------------\u001b[39m",
      "\u001b[31mKeyError\u001b[39m                                  Traceback (most recent call last)",
      "\u001b[36mCell\u001b[39m\u001b[36m \u001b[39m\u001b[32mIn[16]\u001b[39m\u001b[32m, line 2\u001b[39m\n\u001b[32m      1\u001b[39m \u001b[38;5;66;03m# see which zip codes are most accident prone\u001b[39;00m\n\u001b[32m----> \u001b[39m\u001b[32m2\u001b[39m collision_counts = \u001b[43mzip_code_collisions\u001b[49m\u001b[43m.\u001b[49m\u001b[43mgroupby\u001b[49m\u001b[43m(\u001b[49m\u001b[33;43m\"\u001b[39;49m\u001b[33;43mzip_code\u001b[39;49m\u001b[33;43m\"\u001b[39;49m\u001b[43m)\u001b[49m.size().rename(\u001b[33m\"\u001b[39m\u001b[33mTotal Collisions\u001b[39m\u001b[33m\"\u001b[39m)\n\u001b[32m      4\u001b[39m \u001b[38;5;66;03m# convert from m2 -> km2\u001b[39;00m\n\u001b[32m      5\u001b[39m total_area = zip_code_collisions.groupby(\u001b[33m\"\u001b[39m\u001b[33mzip_code\u001b[39m\u001b[33m\"\u001b[39m)[\u001b[33m'\u001b[39m\u001b[33mshape_area\u001b[39m\u001b[33m'\u001b[39m].sum().rename(\u001b[33m\"\u001b[39m\u001b[33mTotal Area\u001b[39m\u001b[33m\"\u001b[39m) / \u001b[32m1000000\u001b[39m\n",
      "\u001b[36mFile \u001b[39m\u001b[32mc:\\Users\\lukas\\AppData\\Local\\Programs\\Python\\Python311\\Lib\\site-packages\\pandas\\core\\frame.py:8869\u001b[39m, in \u001b[36mDataFrame.groupby\u001b[39m\u001b[34m(self, by, axis, level, as_index, sort, group_keys, observed, dropna)\u001b[39m\n\u001b[32m   8866\u001b[39m \u001b[38;5;28;01mif\u001b[39;00m level \u001b[38;5;129;01mis\u001b[39;00m \u001b[38;5;28;01mNone\u001b[39;00m \u001b[38;5;129;01mand\u001b[39;00m by \u001b[38;5;129;01mis\u001b[39;00m \u001b[38;5;28;01mNone\u001b[39;00m:\n\u001b[32m   8867\u001b[39m     \u001b[38;5;28;01mraise\u001b[39;00m \u001b[38;5;167;01mTypeError\u001b[39;00m(\u001b[33m\"\u001b[39m\u001b[33mYou have to supply one of \u001b[39m\u001b[33m'\u001b[39m\u001b[33mby\u001b[39m\u001b[33m'\u001b[39m\u001b[33m and \u001b[39m\u001b[33m'\u001b[39m\u001b[33mlevel\u001b[39m\u001b[33m'\u001b[39m\u001b[33m\"\u001b[39m)\n\u001b[32m-> \u001b[39m\u001b[32m8869\u001b[39m \u001b[38;5;28;01mreturn\u001b[39;00m \u001b[43mDataFrameGroupBy\u001b[49m\u001b[43m(\u001b[49m\n\u001b[32m   8870\u001b[39m \u001b[43m    \u001b[49m\u001b[43mobj\u001b[49m\u001b[43m=\u001b[49m\u001b[38;5;28;43mself\u001b[39;49m\u001b[43m,\u001b[49m\n\u001b[32m   8871\u001b[39m \u001b[43m    \u001b[49m\u001b[43mkeys\u001b[49m\u001b[43m=\u001b[49m\u001b[43mby\u001b[49m\u001b[43m,\u001b[49m\n\u001b[32m   8872\u001b[39m \u001b[43m    \u001b[49m\u001b[43maxis\u001b[49m\u001b[43m=\u001b[49m\u001b[43maxis\u001b[49m\u001b[43m,\u001b[49m\n\u001b[32m   8873\u001b[39m \u001b[43m    \u001b[49m\u001b[43mlevel\u001b[49m\u001b[43m=\u001b[49m\u001b[43mlevel\u001b[49m\u001b[43m,\u001b[49m\n\u001b[32m   8874\u001b[39m \u001b[43m    \u001b[49m\u001b[43mas_index\u001b[49m\u001b[43m=\u001b[49m\u001b[43mas_index\u001b[49m\u001b[43m,\u001b[49m\n\u001b[32m   8875\u001b[39m \u001b[43m    \u001b[49m\u001b[43msort\u001b[49m\u001b[43m=\u001b[49m\u001b[43msort\u001b[49m\u001b[43m,\u001b[49m\n\u001b[32m   8876\u001b[39m \u001b[43m    \u001b[49m\u001b[43mgroup_keys\u001b[49m\u001b[43m=\u001b[49m\u001b[43mgroup_keys\u001b[49m\u001b[43m,\u001b[49m\n\u001b[32m   8877\u001b[39m \u001b[43m    \u001b[49m\u001b[43mobserved\u001b[49m\u001b[43m=\u001b[49m\u001b[43mobserved\u001b[49m\u001b[43m,\u001b[49m\n\u001b[32m   8878\u001b[39m \u001b[43m    \u001b[49m\u001b[43mdropna\u001b[49m\u001b[43m=\u001b[49m\u001b[43mdropna\u001b[49m\u001b[43m,\u001b[49m\n\u001b[32m   8879\u001b[39m \u001b[43m\u001b[49m\u001b[43m)\u001b[49m\n",
      "\u001b[36mFile \u001b[39m\u001b[32mc:\\Users\\lukas\\AppData\\Local\\Programs\\Python\\Python311\\Lib\\site-packages\\pandas\\core\\groupby\\groupby.py:1278\u001b[39m, in \u001b[36mGroupBy.__init__\u001b[39m\u001b[34m(self, obj, keys, axis, level, grouper, exclusions, selection, as_index, sort, group_keys, observed, dropna)\u001b[39m\n\u001b[32m   1275\u001b[39m \u001b[38;5;28mself\u001b[39m.dropna = dropna\n\u001b[32m   1277\u001b[39m \u001b[38;5;28;01mif\u001b[39;00m grouper \u001b[38;5;129;01mis\u001b[39;00m \u001b[38;5;28;01mNone\u001b[39;00m:\n\u001b[32m-> \u001b[39m\u001b[32m1278\u001b[39m     grouper, exclusions, obj = \u001b[43mget_grouper\u001b[49m\u001b[43m(\u001b[49m\n\u001b[32m   1279\u001b[39m \u001b[43m        \u001b[49m\u001b[43mobj\u001b[49m\u001b[43m,\u001b[49m\n\u001b[32m   1280\u001b[39m \u001b[43m        \u001b[49m\u001b[43mkeys\u001b[49m\u001b[43m,\u001b[49m\n\u001b[32m   1281\u001b[39m \u001b[43m        \u001b[49m\u001b[43maxis\u001b[49m\u001b[43m=\u001b[49m\u001b[43maxis\u001b[49m\u001b[43m,\u001b[49m\n\u001b[32m   1282\u001b[39m \u001b[43m        \u001b[49m\u001b[43mlevel\u001b[49m\u001b[43m=\u001b[49m\u001b[43mlevel\u001b[49m\u001b[43m,\u001b[49m\n\u001b[32m   1283\u001b[39m \u001b[43m        \u001b[49m\u001b[43msort\u001b[49m\u001b[43m=\u001b[49m\u001b[43msort\u001b[49m\u001b[43m,\u001b[49m\n\u001b[32m   1284\u001b[39m \u001b[43m        \u001b[49m\u001b[43mobserved\u001b[49m\u001b[43m=\u001b[49m\u001b[38;5;28;43;01mFalse\u001b[39;49;00m\u001b[43m \u001b[49m\u001b[38;5;28;43;01mif\u001b[39;49;00m\u001b[43m \u001b[49m\u001b[43mobserved\u001b[49m\u001b[43m \u001b[49m\u001b[38;5;129;43;01mis\u001b[39;49;00m\u001b[43m \u001b[49m\u001b[43mlib\u001b[49m\u001b[43m.\u001b[49m\u001b[43mno_default\u001b[49m\u001b[43m \u001b[49m\u001b[38;5;28;43;01melse\u001b[39;49;00m\u001b[43m \u001b[49m\u001b[43mobserved\u001b[49m\u001b[43m,\u001b[49m\n\u001b[32m   1285\u001b[39m \u001b[43m        \u001b[49m\u001b[43mdropna\u001b[49m\u001b[43m=\u001b[49m\u001b[38;5;28;43mself\u001b[39;49m\u001b[43m.\u001b[49m\u001b[43mdropna\u001b[49m\u001b[43m,\u001b[49m\n\u001b[32m   1286\u001b[39m \u001b[43m    \u001b[49m\u001b[43m)\u001b[49m\n\u001b[32m   1288\u001b[39m \u001b[38;5;28;01mif\u001b[39;00m observed \u001b[38;5;129;01mis\u001b[39;00m lib.no_default:\n\u001b[32m   1289\u001b[39m     \u001b[38;5;28;01mif\u001b[39;00m \u001b[38;5;28many\u001b[39m(ping._passed_categorical \u001b[38;5;28;01mfor\u001b[39;00m ping \u001b[38;5;129;01min\u001b[39;00m grouper.groupings):\n",
      "\u001b[36mFile \u001b[39m\u001b[32mc:\\Users\\lukas\\AppData\\Local\\Programs\\Python\\Python311\\Lib\\site-packages\\pandas\\core\\groupby\\grouper.py:1009\u001b[39m, in \u001b[36mget_grouper\u001b[39m\u001b[34m(obj, key, axis, level, sort, observed, validate, dropna)\u001b[39m\n\u001b[32m   1007\u001b[39m         in_axis, level, gpr = \u001b[38;5;28;01mFalse\u001b[39;00m, gpr, \u001b[38;5;28;01mNone\u001b[39;00m\n\u001b[32m   1008\u001b[39m     \u001b[38;5;28;01melse\u001b[39;00m:\n\u001b[32m-> \u001b[39m\u001b[32m1009\u001b[39m         \u001b[38;5;28;01mraise\u001b[39;00m \u001b[38;5;167;01mKeyError\u001b[39;00m(gpr)\n\u001b[32m   1010\u001b[39m \u001b[38;5;28;01melif\u001b[39;00m \u001b[38;5;28misinstance\u001b[39m(gpr, Grouper) \u001b[38;5;129;01mand\u001b[39;00m gpr.key \u001b[38;5;129;01mis\u001b[39;00m \u001b[38;5;129;01mnot\u001b[39;00m \u001b[38;5;28;01mNone\u001b[39;00m:\n\u001b[32m   1011\u001b[39m     \u001b[38;5;66;03m# Add key to exclusions\u001b[39;00m\n\u001b[32m   1012\u001b[39m     exclusions.add(gpr.key)\n",
      "\u001b[31mKeyError\u001b[39m: 'zip_code'"
     ]
    }
   ],
   "source": [
    "# see which zip codes are most accident prone\n",
    "collision_counts = zip_code_collisions.groupby(\"zip_code\").size().rename(\"Total Collisions\")\n",
    "\n",
    "# convert from m2 -> km2\n",
    "total_area = zip_code_collisions.groupby(\"zip_code\")['shape_area'].sum().rename(\"Total Area\") / 1000000\n",
    "collision_density = (collision_counts / total_area).rename(\"Collision Density\")\n",
    "\n",
    "zip_code_collision_density = sd_zip_codes_sdf.merge(collision_density, left_on = \"zip_code\", right_index = True, how = \"outer\")\n",
    "zip_code_collision_density['Col_Dens_km'] = zip_code_collision_density['Collision Density'].fillna(0)\n",
    "zip_code_collision_density = zip_code_collision_density.set_geometry(\"SHAPE\")\n",
    "zip_code_collision_density = zip_code_collision_density.set_crs(\"3857\")"
   ]
  },
  {
   "cell_type": "code",
   "execution_count": null,
   "metadata": {},
   "outputs": [],
   "source": [
    "zip_collision_density_sdf = GeoAccessor.from_geodataframe(\n",
    "    zip_code_collision_density, column_name=\"SHAPE\"\n",
    ")\n",
    "zip_collision_density_fl = zip_collision_density_sdf.spatial.to_featurelayer(\n",
    "    title=\"San Diego County Zip Code Collision Density\",\n",
    "    gis=gis,\n",
    "    tags=[\"San Diego\", \"Zip Codes\", \"Collision Density\"],\n",
    "    overwrite=False,\n",
    "    sanitize_columns=True,\n",
    "    service_name=\"San_Diego_County_Zip_Code_Collision_Density\",\n",
    ")"
   ]
  },
  {
   "cell_type": "code",
   "execution_count": null,
   "metadata": {},
   "outputs": [],
   "source": [
    "zip_collision_layer = gis.content.search(query=\"owner:dsc170wi25_31\", item_type=\"Feature Layer\")[3]\n",
    "zip_col_fl = gis.content.get(zip_collision_layer.id).layers[0]\n",
    "zip_col_sdf = zip_col_fl.query().sdf"
   ]
  },
  {
   "cell_type": "code",
   "execution_count": 17,
   "metadata": {},
   "outputs": [
    {
     "ename": "NameError",
     "evalue": "name 'zip_col_sdf' is not defined",
     "output_type": "error",
     "traceback": [
      "\u001b[31m---------------------------------------------------------------------------\u001b[39m",
      "\u001b[31mNameError\u001b[39m                                 Traceback (most recent call last)",
      "\u001b[36mCell\u001b[39m\u001b[36m \u001b[39m\u001b[32mIn[17]\u001b[39m\u001b[32m, line 24\u001b[39m\n\u001b[32m      1\u001b[39m map2 = gis.map(\u001b[33m\"\u001b[39m\u001b[33mSan Diego, CA\u001b[39m\u001b[33m\"\u001b[39m)\n\u001b[32m      2\u001b[39m \u001b[38;5;66;03m# Apply a graduated colors renderer\u001b[39;00m\n\u001b[32m      3\u001b[39m density_renderer = {\n\u001b[32m      4\u001b[39m     \u001b[33m\"\u001b[39m\u001b[33mtype\u001b[39m\u001b[33m\"\u001b[39m: \u001b[33m\"\u001b[39m\u001b[33mclassBreaks\u001b[39m\u001b[33m\"\u001b[39m,\n\u001b[32m      5\u001b[39m     \u001b[33m\"\u001b[39m\u001b[33mfield\u001b[39m\u001b[33m\"\u001b[39m: \u001b[33m\"\u001b[39m\u001b[33mcol_dens_k\u001b[39m\u001b[33m\"\u001b[39m,\n\u001b[32m      6\u001b[39m     \u001b[33m\"\u001b[39m\u001b[33mclassificationMethod\u001b[39m\u001b[33m\"\u001b[39m: \u001b[33m\"\u001b[39m\u001b[33mesriClassifyQuantile\u001b[39m\u001b[33m\"\u001b[39m,\n\u001b[32m      7\u001b[39m     \u001b[33m\"\u001b[39m\u001b[33mminValue\u001b[39m\u001b[33m\"\u001b[39m: \u001b[32m0\u001b[39m,\n\u001b[32m      8\u001b[39m     \u001b[33m\"\u001b[39m\u001b[33mmaxValue\u001b[39m\u001b[33m\"\u001b[39m: \u001b[32m1.3\u001b[39m,\n\u001b[32m      9\u001b[39m     \u001b[33m\"\u001b[39m\u001b[33mdefaultSymbol\u001b[39m\u001b[33m\"\u001b[39m: {\n\u001b[32m     10\u001b[39m         \u001b[33m\"\u001b[39m\u001b[33mtype\u001b[39m\u001b[33m\"\u001b[39m: \u001b[33m\"\u001b[39m\u001b[33mesriSFS\u001b[39m\u001b[33m\"\u001b[39m,\n\u001b[32m     11\u001b[39m         \u001b[33m\"\u001b[39m\u001b[33mstyle\u001b[39m\u001b[33m\"\u001b[39m: \u001b[33m\"\u001b[39m\u001b[33mesriSFSSolid\u001b[39m\u001b[33m\"\u001b[39m,\n\u001b[32m     12\u001b[39m         \u001b[33m\"\u001b[39m\u001b[33mcolor\u001b[39m\u001b[33m\"\u001b[39m: [\u001b[32m255\u001b[39m, \u001b[32m255\u001b[39m, \u001b[32m255\u001b[39m, \u001b[32m100\u001b[39m],\n\u001b[32m     13\u001b[39m         \u001b[33m\"\u001b[39m\u001b[33moutline\u001b[39m\u001b[33m\"\u001b[39m: {\n\u001b[32m     14\u001b[39m             \u001b[33m\"\u001b[39m\u001b[33mtype\u001b[39m\u001b[33m\"\u001b[39m: \u001b[33m\"\u001b[39m\u001b[33mesriSLS\u001b[39m\u001b[33m\"\u001b[39m,\n\u001b[32m     15\u001b[39m             \u001b[33m\"\u001b[39m\u001b[33mstyle\u001b[39m\u001b[33m\"\u001b[39m: \u001b[33m\"\u001b[39m\u001b[33mesriSLSSolid\u001b[39m\u001b[33m\"\u001b[39m,\n\u001b[32m     16\u001b[39m             \u001b[33m\"\u001b[39m\u001b[33mcolor\u001b[39m\u001b[33m\"\u001b[39m: [\u001b[32m110\u001b[39m, \u001b[32m110\u001b[39m, \u001b[32m110\u001b[39m, \u001b[32m255\u001b[39m],\n\u001b[32m     17\u001b[39m             \u001b[33m\"\u001b[39m\u001b[33mwidth\u001b[39m\u001b[33m\"\u001b[39m: \u001b[32m0.5\u001b[39m,\n\u001b[32m     18\u001b[39m         },\n\u001b[32m     19\u001b[39m     },\n\u001b[32m     20\u001b[39m     \u001b[33m\"\u001b[39m\u001b[33mdefaultLabel\u001b[39m\u001b[33m\"\u001b[39m: \u001b[33m\"\u001b[39m\u001b[33mNo Data\u001b[39m\u001b[33m\"\u001b[39m,\n\u001b[32m     21\u001b[39m     \u001b[33m\"\u001b[39m\u001b[33mlegendOptions\u001b[39m\u001b[33m\"\u001b[39m: {\u001b[33m\"\u001b[39m\u001b[33mtitle\u001b[39m\u001b[33m\"\u001b[39m: \u001b[33m\"\u001b[39m\u001b[33mCollision Density (per sq km)\u001b[39m\u001b[33m\"\u001b[39m},\n\u001b[32m     22\u001b[39m     \u001b[33m\"\u001b[39m\u001b[33mclassBreakInfos\u001b[39m\u001b[33m\"\u001b[39m: [\n\u001b[32m     23\u001b[39m         {\n\u001b[32m---> \u001b[39m\u001b[32m24\u001b[39m             \u001b[33m\"\u001b[39m\u001b[33mclassMaxValue\u001b[39m\u001b[33m\"\u001b[39m: np.percentile(\u001b[43mzip_col_sdf\u001b[49m[\u001b[33m\"\u001b[39m\u001b[33mcol_dens_k\u001b[39m\u001b[33m\"\u001b[39m], \u001b[32m25\u001b[39m),\n\u001b[32m     25\u001b[39m             \u001b[33m\"\u001b[39m\u001b[33msymbol\u001b[39m\u001b[33m\"\u001b[39m: {\n\u001b[32m     26\u001b[39m                 \u001b[33m\"\u001b[39m\u001b[33mtype\u001b[39m\u001b[33m\"\u001b[39m: \u001b[33m\"\u001b[39m\u001b[33mesriSFS\u001b[39m\u001b[33m\"\u001b[39m,\n\u001b[32m     27\u001b[39m                 \u001b[33m\"\u001b[39m\u001b[33mstyle\u001b[39m\u001b[33m\"\u001b[39m: \u001b[33m\"\u001b[39m\u001b[33mesriSFSSolid\u001b[39m\u001b[33m\"\u001b[39m,\n\u001b[32m     28\u001b[39m                 \u001b[33m\"\u001b[39m\u001b[33mcolor\u001b[39m\u001b[33m\"\u001b[39m: [\u001b[32m204\u001b[39m, \u001b[32m236\u001b[39m, \u001b[32m230\u001b[39m, \u001b[32m100\u001b[39m],  \u001b[38;5;66;03m# Light blue-green\u001b[39;00m\n\u001b[32m     29\u001b[39m                 \u001b[33m\"\u001b[39m\u001b[33moutline\u001b[39m\u001b[33m\"\u001b[39m: {\n\u001b[32m     30\u001b[39m                     \u001b[33m\"\u001b[39m\u001b[33mcolor\u001b[39m\u001b[33m\"\u001b[39m: [\u001b[32m110\u001b[39m, \u001b[32m110\u001b[39m, \u001b[32m110\u001b[39m, \u001b[32m255\u001b[39m],\n\u001b[32m     31\u001b[39m                     \u001b[33m\"\u001b[39m\u001b[33mwidth\u001b[39m\u001b[33m\"\u001b[39m: \u001b[32m0.5\u001b[39m,\n\u001b[32m     32\u001b[39m                     \u001b[33m\"\u001b[39m\u001b[33mtype\u001b[39m\u001b[33m\"\u001b[39m: \u001b[33m\"\u001b[39m\u001b[33mesriSLS\u001b[39m\u001b[33m\"\u001b[39m,\n\u001b[32m     33\u001b[39m                     \u001b[33m\"\u001b[39m\u001b[33mstyle\u001b[39m\u001b[33m\"\u001b[39m: \u001b[33m\"\u001b[39m\u001b[33mesriSLSSolid\u001b[39m\u001b[33m\"\u001b[39m,\n\u001b[32m     34\u001b[39m                 },\n\u001b[32m     35\u001b[39m             },\n\u001b[32m     36\u001b[39m             \u001b[33m\"\u001b[39m\u001b[33mlabel\u001b[39m\u001b[33m\"\u001b[39m: \u001b[33m\"\u001b[39m\u001b[33m1st-25th Percentile\u001b[39m\u001b[33m\"\u001b[39m,\n\u001b[32m     37\u001b[39m         },\n\u001b[32m     38\u001b[39m         {\n\u001b[32m     39\u001b[39m             \u001b[33m\"\u001b[39m\u001b[33mclassMaxValue\u001b[39m\u001b[33m\"\u001b[39m: np.percentile(zip_col_sdf[\u001b[33m\"\u001b[39m\u001b[33mcol_dens_k\u001b[39m\u001b[33m\"\u001b[39m], \u001b[32m50\u001b[39m),\n\u001b[32m     40\u001b[39m             \u001b[33m\"\u001b[39m\u001b[33msymbol\u001b[39m\u001b[33m\"\u001b[39m: {\n\u001b[32m     41\u001b[39m                 \u001b[33m\"\u001b[39m\u001b[33mtype\u001b[39m\u001b[33m\"\u001b[39m: \u001b[33m\"\u001b[39m\u001b[33mesriSFS\u001b[39m\u001b[33m\"\u001b[39m,\n\u001b[32m     42\u001b[39m                 \u001b[33m\"\u001b[39m\u001b[33mstyle\u001b[39m\u001b[33m\"\u001b[39m: \u001b[33m\"\u001b[39m\u001b[33mesriSFSSolid\u001b[39m\u001b[33m\"\u001b[39m,\n\u001b[32m     43\u001b[39m                 \u001b[33m\"\u001b[39m\u001b[33mcolor\u001b[39m\u001b[33m\"\u001b[39m: [\u001b[32m153\u001b[39m, \u001b[32m216\u001b[39m, \u001b[32m201\u001b[39m, \u001b[32m100\u001b[39m],  \u001b[38;5;66;03m# Medium blue-green\u001b[39;00m\n\u001b[32m     44\u001b[39m                 \u001b[33m\"\u001b[39m\u001b[33moutline\u001b[39m\u001b[33m\"\u001b[39m: {\n\u001b[32m     45\u001b[39m                     \u001b[33m\"\u001b[39m\u001b[33mcolor\u001b[39m\u001b[33m\"\u001b[39m: [\u001b[32m110\u001b[39m, \u001b[32m110\u001b[39m, \u001b[32m110\u001b[39m, \u001b[32m255\u001b[39m],\n\u001b[32m     46\u001b[39m                     \u001b[33m\"\u001b[39m\u001b[33mwidth\u001b[39m\u001b[33m\"\u001b[39m: \u001b[32m0.5\u001b[39m,\n\u001b[32m     47\u001b[39m                     \u001b[33m\"\u001b[39m\u001b[33mtype\u001b[39m\u001b[33m\"\u001b[39m: \u001b[33m\"\u001b[39m\u001b[33mesriSLS\u001b[39m\u001b[33m\"\u001b[39m,\n\u001b[32m     48\u001b[39m                     \u001b[33m\"\u001b[39m\u001b[33mstyle\u001b[39m\u001b[33m\"\u001b[39m: \u001b[33m\"\u001b[39m\u001b[33mesriSLSSolid\u001b[39m\u001b[33m\"\u001b[39m,\n\u001b[32m     49\u001b[39m                 },\n\u001b[32m     50\u001b[39m             },\n\u001b[32m     51\u001b[39m             \u001b[33m\"\u001b[39m\u001b[33mlabel\u001b[39m\u001b[33m\"\u001b[39m: \u001b[33m\"\u001b[39m\u001b[33m25th-50th Percentile\u001b[39m\u001b[33m\"\u001b[39m,\n\u001b[32m     52\u001b[39m         },\n\u001b[32m     53\u001b[39m         {\n\u001b[32m     54\u001b[39m             \u001b[33m\"\u001b[39m\u001b[33mclassMaxValue\u001b[39m\u001b[33m\"\u001b[39m: np.percentile(zip_col_sdf[\u001b[33m\"\u001b[39m\u001b[33mcol_dens_k\u001b[39m\u001b[33m\"\u001b[39m], \u001b[32m75\u001b[39m),\n\u001b[32m     55\u001b[39m             \u001b[33m\"\u001b[39m\u001b[33msymbol\u001b[39m\u001b[33m\"\u001b[39m: {\n\u001b[32m     56\u001b[39m                 \u001b[33m\"\u001b[39m\u001b[33mtype\u001b[39m\u001b[33m\"\u001b[39m: \u001b[33m\"\u001b[39m\u001b[33mesriSFS\u001b[39m\u001b[33m\"\u001b[39m,\n\u001b[32m     57\u001b[39m                 \u001b[33m\"\u001b[39m\u001b[33mstyle\u001b[39m\u001b[33m\"\u001b[39m: \u001b[33m\"\u001b[39m\u001b[33mesriSFSSolid\u001b[39m\u001b[33m\"\u001b[39m,\n\u001b[32m     58\u001b[39m                 \u001b[33m\"\u001b[39m\u001b[33mcolor\u001b[39m\u001b[33m\"\u001b[39m: [\u001b[32m102\u001b[39m, \u001b[32m194\u001b[39m, \u001b[32m164\u001b[39m, \u001b[32m100\u001b[39m],  \u001b[38;5;66;03m# Darker blue-green\u001b[39;00m\n\u001b[32m     59\u001b[39m                 \u001b[33m\"\u001b[39m\u001b[33moutline\u001b[39m\u001b[33m\"\u001b[39m: {\n\u001b[32m     60\u001b[39m                     \u001b[33m\"\u001b[39m\u001b[33mcolor\u001b[39m\u001b[33m\"\u001b[39m: [\u001b[32m110\u001b[39m, \u001b[32m110\u001b[39m, \u001b[32m110\u001b[39m, \u001b[32m255\u001b[39m],\n\u001b[32m     61\u001b[39m                     \u001b[33m\"\u001b[39m\u001b[33mwidth\u001b[39m\u001b[33m\"\u001b[39m: \u001b[32m0.5\u001b[39m,\n\u001b[32m     62\u001b[39m                     \u001b[33m\"\u001b[39m\u001b[33mtype\u001b[39m\u001b[33m\"\u001b[39m: \u001b[33m\"\u001b[39m\u001b[33mesriSLS\u001b[39m\u001b[33m\"\u001b[39m,\n\u001b[32m     63\u001b[39m                     \u001b[33m\"\u001b[39m\u001b[33mstyle\u001b[39m\u001b[33m\"\u001b[39m: \u001b[33m\"\u001b[39m\u001b[33mesriSLSSolid\u001b[39m\u001b[33m\"\u001b[39m,\n\u001b[32m     64\u001b[39m                 },\n\u001b[32m     65\u001b[39m             },\n\u001b[32m     66\u001b[39m             \u001b[33m\"\u001b[39m\u001b[33mlabel\u001b[39m\u001b[33m\"\u001b[39m: \u001b[33m\"\u001b[39m\u001b[33m50th-75th Percentile\u001b[39m\u001b[33m\"\u001b[39m,\n\u001b[32m     67\u001b[39m         },\n\u001b[32m     68\u001b[39m         {\n\u001b[32m     69\u001b[39m             \u001b[33m\"\u001b[39m\u001b[33mclassMaxValue\u001b[39m\u001b[33m\"\u001b[39m: np.percentile(zip_col_sdf[\u001b[33m\"\u001b[39m\u001b[33mcol_dens_k\u001b[39m\u001b[33m\"\u001b[39m], \u001b[32m100\u001b[39m),\n\u001b[32m     70\u001b[39m             \u001b[33m\"\u001b[39m\u001b[33msymbol\u001b[39m\u001b[33m\"\u001b[39m: {\n\u001b[32m     71\u001b[39m                 \u001b[33m\"\u001b[39m\u001b[33mtype\u001b[39m\u001b[33m\"\u001b[39m: \u001b[33m\"\u001b[39m\u001b[33mesriSFS\u001b[39m\u001b[33m\"\u001b[39m,\n\u001b[32m     72\u001b[39m                 \u001b[33m\"\u001b[39m\u001b[33mstyle\u001b[39m\u001b[33m\"\u001b[39m: \u001b[33m\"\u001b[39m\u001b[33mesriSFSSolid\u001b[39m\u001b[33m\"\u001b[39m,\n\u001b[32m     73\u001b[39m                 \u001b[33m\"\u001b[39m\u001b[33mcolor\u001b[39m\u001b[33m\"\u001b[39m: [\u001b[32m0\u001b[39m, \u001b[32m109\u001b[39m, \u001b[32m44\u001b[39m, \u001b[32m255\u001b[39m],  \u001b[38;5;66;03m# Dark green\u001b[39;00m\n\u001b[32m     74\u001b[39m                 \u001b[33m\"\u001b[39m\u001b[33moutline\u001b[39m\u001b[33m\"\u001b[39m: {\n\u001b[32m     75\u001b[39m                     \u001b[33m\"\u001b[39m\u001b[33mcolor\u001b[39m\u001b[33m\"\u001b[39m: [\u001b[32m110\u001b[39m, \u001b[32m110\u001b[39m, \u001b[32m110\u001b[39m, \u001b[32m255\u001b[39m],\n\u001b[32m     76\u001b[39m                     \u001b[33m\"\u001b[39m\u001b[33mwidth\u001b[39m\u001b[33m\"\u001b[39m: \u001b[32m0.5\u001b[39m,\n\u001b[32m     77\u001b[39m                     \u001b[33m\"\u001b[39m\u001b[33mtype\u001b[39m\u001b[33m\"\u001b[39m: \u001b[33m\"\u001b[39m\u001b[33mesriSLS\u001b[39m\u001b[33m\"\u001b[39m,\n\u001b[32m     78\u001b[39m                     \u001b[33m\"\u001b[39m\u001b[33mstyle\u001b[39m\u001b[33m\"\u001b[39m: \u001b[33m\"\u001b[39m\u001b[33mesriSLSSolid\u001b[39m\u001b[33m\"\u001b[39m,\n\u001b[32m     79\u001b[39m                 },\n\u001b[32m     80\u001b[39m             },\n\u001b[32m     81\u001b[39m             \u001b[33m\"\u001b[39m\u001b[33mlabel\u001b[39m\u001b[33m\"\u001b[39m: \u001b[33m\"\u001b[39m\u001b[33m75th-100th Percentile\u001b[39m\u001b[33m\"\u001b[39m,\n\u001b[32m     82\u001b[39m         },\n\u001b[32m     83\u001b[39m     ],\n\u001b[32m     84\u001b[39m }\n\u001b[32m     87\u001b[39m \u001b[38;5;66;03m# Add the layer with the heatmap renderer to your map\u001b[39;00m\n\u001b[32m     88\u001b[39m map2.content.add(zip_col_fl, drawing_info={\u001b[33m\"\u001b[39m\u001b[33mrenderer\u001b[39m\u001b[33m\"\u001b[39m: density_renderer})\n",
      "\u001b[31mNameError\u001b[39m: name 'zip_col_sdf' is not defined"
     ]
    }
   ],
   "source": [
    "map2 = gis.map(\"San Diego, CA\")\n",
    "# Apply a graduated colors renderer\n",
    "density_renderer = {\n",
    "    \"type\": \"classBreaks\",\n",
    "    \"field\": \"col_dens_k\",\n",
    "    \"classificationMethod\": \"esriClassifyQuantile\",\n",
    "    \"minValue\": 0,\n",
    "    \"maxValue\": 1.3,\n",
    "    \"defaultSymbol\": {\n",
    "        \"type\": \"esriSFS\",\n",
    "        \"style\": \"esriSFSSolid\",\n",
    "        \"color\": [255, 255, 255, 100],\n",
    "        \"outline\": {\n",
    "            \"type\": \"esriSLS\",\n",
    "            \"style\": \"esriSLSSolid\",\n",
    "            \"color\": [110, 110, 110, 255],\n",
    "            \"width\": 0.5,\n",
    "        },\n",
    "    },\n",
    "    \"defaultLabel\": \"No Data\",\n",
    "    \"legendOptions\": {\"title\": \"Collision Density (per sq km)\"},\n",
    "    \"classBreakInfos\": [\n",
    "        {\n",
    "            \"classMaxValue\": np.percentile(zip_col_sdf[\"col_dens_k\"], 25),\n",
    "            \"symbol\": {\n",
    "                \"type\": \"esriSFS\",\n",
    "                \"style\": \"esriSFSSolid\",\n",
    "                \"color\": [204, 236, 230, 100],  # Light blue-green\n",
    "                \"outline\": {\n",
    "                    \"color\": [110, 110, 110, 255],\n",
    "                    \"width\": 0.5,\n",
    "                    \"type\": \"esriSLS\",\n",
    "                    \"style\": \"esriSLSSolid\",\n",
    "                },\n",
    "            },\n",
    "            \"label\": \"1st-25th Percentile\",\n",
    "        },\n",
    "        {\n",
    "            \"classMaxValue\": np.percentile(zip_col_sdf[\"col_dens_k\"], 50),\n",
    "            \"symbol\": {\n",
    "                \"type\": \"esriSFS\",\n",
    "                \"style\": \"esriSFSSolid\",\n",
    "                \"color\": [153, 216, 201, 100],  # Medium blue-green\n",
    "                \"outline\": {\n",
    "                    \"color\": [110, 110, 110, 255],\n",
    "                    \"width\": 0.5,\n",
    "                    \"type\": \"esriSLS\",\n",
    "                    \"style\": \"esriSLSSolid\",\n",
    "                },\n",
    "            },\n",
    "            \"label\": \"25th-50th Percentile\",\n",
    "        },\n",
    "        {\n",
    "            \"classMaxValue\": np.percentile(zip_col_sdf[\"col_dens_k\"], 75),\n",
    "            \"symbol\": {\n",
    "                \"type\": \"esriSFS\",\n",
    "                \"style\": \"esriSFSSolid\",\n",
    "                \"color\": [102, 194, 164, 100],  # Darker blue-green\n",
    "                \"outline\": {\n",
    "                    \"color\": [110, 110, 110, 255],\n",
    "                    \"width\": 0.5,\n",
    "                    \"type\": \"esriSLS\",\n",
    "                    \"style\": \"esriSLSSolid\",\n",
    "                },\n",
    "            },\n",
    "            \"label\": \"50th-75th Percentile\",\n",
    "        },\n",
    "        {\n",
    "            \"classMaxValue\": np.percentile(zip_col_sdf[\"col_dens_k\"], 100),\n",
    "            \"symbol\": {\n",
    "                \"type\": \"esriSFS\",\n",
    "                \"style\": \"esriSFSSolid\",\n",
    "                \"color\": [0, 109, 44, 255],  # Dark green\n",
    "                \"outline\": {\n",
    "                    \"color\": [110, 110, 110, 255],\n",
    "                    \"width\": 0.5,\n",
    "                    \"type\": \"esriSLS\",\n",
    "                    \"style\": \"esriSLSSolid\",\n",
    "                },\n",
    "            },\n",
    "            \"label\": \"75th-100th Percentile\",\n",
    "        },\n",
    "    ],\n",
    "}\n",
    "\n",
    "\n",
    "# Add the layer with the heatmap renderer to your map\n",
    "map2.content.add(zip_col_fl, drawing_info={\"renderer\": density_renderer})\n",
    "map2.legend.enabled = True\n",
    "map2\n"
   ]
  },
  {
   "cell_type": "markdown",
   "metadata": {},
   "source": []
  },
  {
   "cell_type": "code",
   "execution_count": 46,
   "metadata": {},
   "outputs": [],
   "source": [
    "# Lets now evaluate lane size relative to collisions\n",
    "# read data and convert into a spatial dataframe\n",
    "road_data = gpd.read_file(\"data/SOC_Road_data.csv\")\n",
    "road_data = road_data.drop(columns = ['Speed 2021 MPH', '2021 AADT Range', \"1 year AADT % change\", \"1 year Speed % change\"])\n",
    "\n",
    "\n",
    "\n",
    "# conver to floats in order to make sure the spatial references work\n",
    "#data['LONGITUDE sandag'] = data['LONGITUDE sandag'].astype(float)\n",
    "#data['LATITUDE sandag'] = data['LATITUDE sandag'].astype(float)\n",
    "#sdf = GeoAccessor.from_xy(data, x_column='LONGITUDE sandag', y_column='LATITUDE sandag', sr = 4326)"
   ]
  },
  {
   "cell_type": "code",
   "execution_count": 49,
   "metadata": {},
   "outputs": [
    {
     "data": {
      "text/plain": [
       "array([18.0, 16.9, 16.2, 16.5, 36.5, 35.6, 18.3, 15.5, 39.4, 36.7, 33.5,\n",
       "       29.2, 28.5, 26.0, 24.0, 22.6, 30.6, 25.0, 29.9, 25.5, 17.7, 14.5,\n",
       "       34.7, 22.3, 19.6, 17.3, 20.0, 24.4, 33.1, 33.3, 19.5, 18.4, 39.7,\n",
       "       40.3, 20.2, 29.7, 27.5, 23.3, 21.5, 21.2, 18.2, <NA>, 23.5, 26.6,\n",
       "       20.3, 27.8, 26.5, 26.7, 24.7, 18.8, 22.0, 19.8, 32.1, 18.6, 31.3,\n",
       "       32.6, 16.1, 15.2, 21.9, 25.7, 19.4, 15.4, 28.1, 26.4, 21.0, 50.0,\n",
       "       50.7, 23.4, 47.5, 43.6, 14.8, 13.3, 17.5, 14.0, 13.4, 35.9, 30.1,\n",
       "       15.9, 14.3, 25.1, 23.1, 30.0, 31.9, 25.8, 45.6, 46.2, 26.3, 23.9,\n",
       "       28.7, 27.0, 27.3, 52.9, 54.5, 52.1, 53.6, 27.2, 38.4, 36.8, 23.6,\n",
       "       22.9, 15.0, 29.6, 32.3, 30.3, 24.6, 18.9, 20.4, 34.5, 32.7, 8.1,\n",
       "       9.1, 30.9, 24.9, 23.0, 29.1, 27.9, 28.8, 34.3, 36.1, 43.4, 42.8,\n",
       "       44.2, 42.9, 33.7, 34.2, 21.8, 20.9, 20.5, 16.8, 26.2, 23.2, 30.5,\n",
       "       31.2, 31.4, 32.8, 31.0, 33.2, 31.1, 30.4, 28.6, 23.8, 34.1, 28.3,\n",
       "       29.5, 22.4, 21.6, 37.7, 35.8, 41.4, 39.9, 28.9, 23.7, 21.1, 19.9,\n",
       "       17.8, 53.4, 46.7, 36.2, 20.8, 20.1, 29.3, 24.3, 19.0, 30.8, 33.4,\n",
       "       32.9, 25.2, 31.6, 38.5, 42.0, 21.7, 27.6, 25.9, 40.9, 57.3, 54.4,\n",
       "       54.7, 45.5, 52.6, 33.0, 29.8, 51.3, 50.8, 27.1, 33.9, 12.7, 45.3,\n",
       "       48.2, 26.8, 35.3, 17.9, 28.4, 43.2, 31.8, 35.0, 39.5, 44.8, 42.4,\n",
       "       15.3, 50.4, 50.5, 43.1, 43.5, 41.2, 39.1, 42.2, 42.5, 41.1, 16.0,\n",
       "       20.6, 21.4, 41.7, 41.5, 18.7, 13.7, 24.2, 22.1, 11.9, 11.3, 10.9,\n",
       "       35.4, 19.7, 25.4, 14.2, 19.3, 18.5, 24.5, 22.5, 34.0, 40.0, 37.5,\n",
       "       30.2, 62.9, 65.0, 22.2, 28.0, 19.2, 16.6, 10.3, 8.9, 55.4, 31.5,\n",
       "       40.5, 24.1, 43.8, 26.1, 22.8, 33.8, 43.0, 40.6, 17.1, 48.9, 49.8,\n",
       "       12.5, 13.8, 11.7, 24.8, 16.7, 42.3, 38.6, 20.7, 9.0, 8.2, 10.2,\n",
       "       10.5, 46.3, 51.6, 54.1, 32.5, 44.1, 13.5, 9.4, 21.3, 13.6, 9.7,\n",
       "       10.0, 16.3, 17.2, 17, 39.2, 37.6, 26.9, 27.4, 38.1, 12.6, 39.8,\n",
       "       28.2, 8.5, 10.8, 15.8, 19.1, 27.7, 25.6, 36.6, 14.4, 11.6, 11.1,\n",
       "       37.2, 29.0, 18.1, 22.7, 16.4, 32.4, 13.9, 9.3, 7.8, 41.0, 25.3,\n",
       "       38.2, 32.0, 37.0, 15.6, 17.4, 12.2, 12.1, 15.7, 41.3, 31.7, 12.8,\n",
       "       34.9, 47.6, 47.9, 6.7, 14.9, 10.1, 11.5, 37.1, 45.2, 46.1, 17.6,\n",
       "       33.6, 34.4, 12.9, 44.3, 11.2, 13.1, 14.1, 32.2, 40.7, 49.0, 41.8,\n",
       "       41.6, 39.3, 40.1, 40.8, 34.8, 52.8, 53.8, 54.8, 59.3, 59.4, 48.3,\n",
       "       48.1, 51.9, 57.6, 59.0, 50.2, 41.9, 51.7, 53.7, 43.7, 43.9, 51.1,\n",
       "       51.2, 44.9, 30.7, 36.9, 39.0, 45.7, 46.6, 42.6, 15.1, 29.4, 34.6,\n",
       "       38.8, 39.6, 37.8, 36.3, 37.9, 38.9, 47.1, 36.4, 48.8, 46.9, 43.3,\n",
       "       35.2, 49.5, 45.1, 45.0, 45.8, 38.0, 36.0, 47.3, 5.0, 42.1, 46.0,\n",
       "       47.0, 59.1, 58.0, 37.4, 44.0, 44.7, 49.3, 51.4, 44.6, 12.4, 50.6,\n",
       "       49.9, 52.7, 11.0, 35.7, 47.8, 63.4, 44.4, 47.4, 58.7, 56.1, 46.4,\n",
       "       38.7, 38.3, 13.0, 51.0, 53.1, 11.4, 10.6, 9.5, 12.0, 14.6, 35.1,\n",
       "       14.7, 53.5, 50.3, 52.4, 54.2, 54.6, 61.8, 45.9, 46.5, 58.1, 51.5,\n",
       "       53.0, 35.5, 48.0, 47.7, 8.8, 8.3, 40.2, 48.4, 49.1, 44.5, 40.4,\n",
       "       6.9, 12.3, 55.6, 60.9, 49.2, 55.7, 37.3, 9.9, 57.1, 58.8, 54.0,\n",
       "       56.0, 58.9, 61.5, 66.1, 9.8, 53.3, 56.4, 57.4, 61.3, 60.1, 7.6,\n",
       "       8.0, 49.4, 49.7, 11.8, 7.4, 6.8, 45.4, 42.7, 46.8, 54.3, 51.8,\n",
       "       48.5, 58.4, 64.4, 48.6, 52.0, 53.2, 57.2, 65.8, 10.7, 9.2, 55.0,\n",
       "       8.6, 13.2, 10.4, 48.7, 50.1, 49.6, 7.3, 9.6, 56.3, 58.2, 7.0, 5.5,\n",
       "       58.6, 59.6, 55.9, 5.7, 4.7, 50.9, 56.9, 56.6, 8.4, 57.0, 62.4,\n",
       "       64.2, 60.8, 61.6, 56.2, 47.2, 59.7, 62.6, 66.3, 55.3, 57.7, 8.7,\n",
       "       7.1, 59.2, 52.3, 56.8, 60.6, 59.9, 63.0, 62.0, 61.2, 61.9, 61.7,\n",
       "       52.5, 6.2, 60.3, 61.4, 60.7, 55.2, 5.8, 5.9, 52.2, 5.6, 55.8, 60.2,\n",
       "       54.9, 64.1, 65.3, 55.1, 64.0, 56.5, 61.0, 57.5, 58.3, 64.8, 62.3,\n",
       "       63.8, 65.6, 55.5, 7.2, 6.0], dtype=object)"
      ]
     },
     "execution_count": 49,
     "metadata": {},
     "output_type": "execute_result"
    }
   ],
   "source": [
    "road_data['Speed 2022 MPH'].unique()"
   ]
  },
  {
   "cell_type": "code",
   "execution_count": 52,
   "metadata": {},
   "outputs": [],
   "source": [
    "cols = ['osm_id', 'Speed Limit MPH', 'Lanes', 'Length', 'Speed 2022 MPH']\n",
    "\n",
    "road_data = road_data.convert_dtypes()\n",
    "road_data['Speed 2022 MPH'] = road_data['Speed 2022 MPH'].replace('<NA>', '0')\n",
    "road_data[cols] = road_data[cols].apply(pd.to_numeric, errors='coerce', axis=1)\n",
    "#road_data['Speed 2022 MPH'] = road_data['Speed 2022 MPH'].astype(float)"
   ]
  },
  {
   "cell_type": "code",
   "execution_count": 53,
   "metadata": {},
   "outputs": [
    {
     "data": {
      "text/plain": [
       "osm_id                    Float64\n",
       "Street Name        string[python]\n",
       "Highway            string[python]\n",
       "Lanes                     Float64\n",
       "Speed Limit MPH           Float64\n",
       "Length                    Float64\n",
       "Direction          string[python]\n",
       "PeakPeriod         string[python]\n",
       "Speed 2022 MPH            Float64\n",
       "2022 AADT Range    string[python]\n",
       "geometry           string[python]\n",
       "dtype: object"
      ]
     },
     "execution_count": 53,
     "metadata": {},
     "output_type": "execute_result"
    }
   ],
   "source": [
    "road_data.dtypes"
   ]
  },
  {
   "cell_type": "code",
   "execution_count": 54,
   "metadata": {},
   "outputs": [
    {
     "data": {
      "text/html": [
       "<div>\n",
       "<style scoped>\n",
       "    .dataframe tbody tr th:only-of-type {\n",
       "        vertical-align: middle;\n",
       "    }\n",
       "\n",
       "    .dataframe tbody tr th {\n",
       "        vertical-align: top;\n",
       "    }\n",
       "\n",
       "    .dataframe thead th {\n",
       "        text-align: right;\n",
       "    }\n",
       "</style>\n",
       "<table border=\"1\" class=\"dataframe\">\n",
       "  <thead>\n",
       "    <tr style=\"text-align: right;\">\n",
       "      <th></th>\n",
       "      <th>osm_id</th>\n",
       "      <th>Street Name</th>\n",
       "      <th>Highway</th>\n",
       "      <th>Lanes</th>\n",
       "      <th>Speed Limit MPH</th>\n",
       "      <th>Length</th>\n",
       "      <th>Direction</th>\n",
       "      <th>PeakPeriod</th>\n",
       "      <th>Speed 2022 MPH</th>\n",
       "      <th>2022 AADT Range</th>\n",
       "      <th>geometry</th>\n",
       "    </tr>\n",
       "  </thead>\n",
       "  <tbody>\n",
       "    <tr>\n",
       "      <th>0</th>\n",
       "      <td>153343706.0</td>\n",
       "      <td>Orange Avenue, CA 75</td>\n",
       "      <td>primary</td>\n",
       "      <td>2.0</td>\n",
       "      <td>40.0</td>\n",
       "      <td>43.61</td>\n",
       "      <td>S</td>\n",
       "      <td>AM</td>\n",
       "      <td>18.0</td>\n",
       "      <td>10,000-19,999</td>\n",
       "      <td>LINESTRING (-117.178938176757 32.6836120192024...</td>\n",
       "    </tr>\n",
       "    <tr>\n",
       "      <th>1</th>\n",
       "      <td>153343706.0</td>\n",
       "      <td>Orange Avenue, CA 75</td>\n",
       "      <td>primary</td>\n",
       "      <td>2.0</td>\n",
       "      <td>40.0</td>\n",
       "      <td>43.61</td>\n",
       "      <td>S</td>\n",
       "      <td>PM</td>\n",
       "      <td>16.9</td>\n",
       "      <td>10,000-19,999</td>\n",
       "      <td>LINESTRING (-117.178938176757 32.6836120192024...</td>\n",
       "    </tr>\n",
       "    <tr>\n",
       "      <th>2</th>\n",
       "      <td>161508068.0</td>\n",
       "      <td>Nimitz Boulevard</td>\n",
       "      <td>primary</td>\n",
       "      <td>-1.0</td>\n",
       "      <td>40.0</td>\n",
       "      <td>41.71</td>\n",
       "      <td>SE</td>\n",
       "      <td>AM</td>\n",
       "      <td>16.2</td>\n",
       "      <td>5,000-9,999</td>\n",
       "      <td>LINESTRING (-117.221695942172 32.7260512722891...</td>\n",
       "    </tr>\n",
       "  </tbody>\n",
       "</table>\n",
       "</div>"
      ],
      "text/plain": [
       "        osm_id           Street Name  Highway  Lanes  Speed Limit MPH  Length  \\\n",
       "0  153343706.0  Orange Avenue, CA 75  primary    2.0             40.0   43.61   \n",
       "1  153343706.0  Orange Avenue, CA 75  primary    2.0             40.0   43.61   \n",
       "2  161508068.0      Nimitz Boulevard  primary   -1.0             40.0   41.71   \n",
       "\n",
       "  Direction PeakPeriod  Speed 2022 MPH 2022 AADT Range  \\\n",
       "0         S         AM            18.0   10,000-19,999   \n",
       "1         S         PM            16.9   10,000-19,999   \n",
       "2        SE         AM            16.2     5,000-9,999   \n",
       "\n",
       "                                            geometry  \n",
       "0  LINESTRING (-117.178938176757 32.6836120192024...  \n",
       "1  LINESTRING (-117.178938176757 32.6836120192024...  \n",
       "2  LINESTRING (-117.221695942172 32.7260512722891...  "
      ]
     },
     "execution_count": 54,
     "metadata": {},
     "output_type": "execute_result"
    }
   ],
   "source": [
    "road_data.head(3)"
   ]
  },
  {
   "cell_type": "code",
   "execution_count": 59,
   "metadata": {},
   "outputs": [],
   "source": [
    "from shapely.wkt import loads\n",
    "\n",
    "road_gdf = gpd.GeoDataFrame(road_data)\n",
    "road_gdf['geometry'] = road_gdf['geometry'].apply(lambda x: loads(x) if isinstance(x, str) else x)"
   ]
  },
  {
   "cell_type": "code",
   "execution_count": 64,
   "metadata": {},
   "outputs": [
    {
     "data": {
      "text/plain": [
       "0        LINESTRING (-117.17894 32.68361, -117.17892 32...\n",
       "1        LINESTRING (-117.17894 32.68361, -117.17892 32...\n",
       "2        LINESTRING (-117.2217 32.72605, -117.22163 32....\n",
       "3        LINESTRING (-117.2217 32.72605, -117.22163 32....\n",
       "4        LINESTRING (-117.19576 32.74574, -117.19493 32...\n",
       "                               ...                        \n",
       "78307    LINESTRING (-117.24993 33.3662, -117.24989 33....\n",
       "78308    LINESTRING (-117.24146 33.41379, -117.24133 33...\n",
       "78309    LINESTRING (-117.24146 33.41379, -117.24133 33...\n",
       "78310    LINESTRING (-117.23999 33.19747, -117.23999 33...\n",
       "78311    LINESTRING (-117.23999 33.19747, -117.23999 33...\n",
       "Name: geometry, Length: 78312, dtype: geometry"
      ]
     },
     "execution_count": 64,
     "metadata": {},
     "output_type": "execute_result"
    }
   ],
   "source": [
    "road_gdf = road_gdf.set_geometry('geometry')\n",
    "road_gdf = road_gdf.set_crs(4326)\n",
    "road_gdf.geometry"
   ]
  },
  {
   "cell_type": "code",
   "execution_count": 65,
   "metadata": {},
   "outputs": [
    {
     "data": {
      "text/plain": [
       "<Axes: >"
      ]
     },
     "execution_count": 65,
     "metadata": {},
     "output_type": "execute_result"
    },
    {
     "data": {
      "image/png": "[encoded data removed]",
      "text/plain": [
       "<Figure size 640x480 with 1 Axes>"
      ]
     },
     "metadata": {},
     "output_type": "display_data"
    }
   ],
   "source": [
    "road_gdf.plot()"
   ]
  },
  {
   "cell_type": "code",
   "execution_count": null,
   "metadata": {},
   "outputs": [],
   "source": [
    "# Feature layer for road data\n",
    "# road_sdf = GeoAccessor.from_geodataframe(\n",
    "#     road_gdf, column_name = \"geometry\"\n",
    "# )\n",
    "# feature_layer = road_sdf.spatial.to_featurelayer(\n",
    "#     title = \"Road Data SD County 2022\",\n",
    "#     gis = gis, \n",
    "#     tags = [\"Road\", \"Data\", \"2022\"],\n",
    "#     overwrite = False,\n",
    "#     sanitize_columns = True,\n",
    "#     service_name = \"Road_Data_San_Diego_County_2022\"\n",
    "# )"
   ]
  },
  {
   "cell_type": "code",
   "execution_count": 2,
   "metadata": {},
   "outputs": [],
   "source": [
    "road_layer = gis.content.search(query=\"owner:dsc170wi25_7 Road\", item_type=\"Feature Layer\")[0]\n",
    "road_fl = gis.content.get(road_layer.id).layers[0]\n",
    "road_sdf = road_fl.query().sdf"
   ]
  },
  {
   "cell_type": "code",
   "execution_count": 3,
   "metadata": {},
   "outputs": [
    {
     "data": {
      "text/plain": [
       "<FloatingArray>\n",
       "[2.0, -1.0, 3.0, 4.0, 1.0, 5.0, 6.0, 7.0, 0.0]\n",
       "Length: 9, dtype: Float64"
      ]
     },
     "execution_count": 3,
     "metadata": {},
     "output_type": "execute_result"
    }
   ],
   "source": [
    "road_sdf.lanes.unique()"
   ]
  },
  {
   "cell_type": "code",
   "execution_count": 5,
   "metadata": {},
   "outputs": [
    {
     "data": {
      "application/vnd.jupyter.widget-view+json": {
       "model_id": "9fba88f4f0df45f090dd8db49499751e",
       "version_major": 2,
       "version_minor": 1
      },
      "text/plain": [
       "Map(center=[3857636.3466711883, -13042616.481232138], extent={'xmin': -13075789.689488532, 'ymin': 3818273.910…"
      ]
     },
     "execution_count": 5,
     "metadata": {},
     "output_type": "execute_result"
    }
   ],
   "source": [
    "map3 = gis.map(\"San Diego, CA\")\n",
    "\n",
    "road_renderer = {\n",
    "    \"type\": \"classBreaks\",\n",
    "    \"field\": \"lanes\",  # Attribute that determines line width\n",
    "    \"defaultSymbol\": {\n",
    "        \"type\": \"esriSLS\",\n",
    "        \"style\": \"esriSLSSolid\",\n",
    "        \"color\": [128, 128, 128, 255],  # Gray color for undefined values\n",
    "        \"width\": 1  # Default width\n",
    "    },\n",
    "    \"classBreakInfos\": [\n",
    "        {\n",
    "            \"classMinValue\": 1,\n",
    "            \"classMaxValue\": 1,\n",
    "            \"symbol\": {\n",
    "                \"type\": \"esriSLS\",\n",
    "                \"style\": \"esriSLSSolid\",\n",
    "                \"color\": [0,0,255, 255], \n",
    "                \"width\": 2  \n",
    "            }\n",
    "        },\n",
    "        {\n",
    "            \"classMinValue\": 2,\n",
    "            \"classMaxValue\": 2,\n",
    "            \"symbol\": {\n",
    "                \"type\": \"esriSLS\",\n",
    "                \"style\": \"esriSLSSolid\",\n",
    "                \"color\": [64,224,208, 255],\n",
    "                \"width\": 3  \n",
    "            }\n",
    "        },\n",
    "        {\n",
    "            \"classMinValue\": 3,\n",
    "            \"classMaxValue\": 3,\n",
    "            \"symbol\": {\n",
    "                \"type\": \"esriSLS\",\n",
    "                \"style\": \"esriSLSSolid\",\n",
    "                \"color\": [0,255,127, 255], \n",
    "                \"width\": 4  \n",
    "            }\n",
    "        },\n",
    "        {\n",
    "            \"classMinValue\": 4,\n",
    "            \"classMaxValue\": 4,\n",
    "            \"symbol\": {\n",
    "                \"type\": \"esriSLS\",\n",
    "                \"style\": \"esriSLSSolid\",\n",
    "                \"color\": [127,255,0, 255],\n",
    "                \"width\": 5 \n",
    "            }\n",
    "        },\n",
    "        {\n",
    "            \"classMinValue\": 5,\n",
    "            \"classMaxValue\": 5,\n",
    "            \"symbol\": {\n",
    "                \"type\": \"esriSLS\",\n",
    "                \"style\": \"esriSLSSolid\",\n",
    "                \"color\": [255,255,0, 255], \n",
    "                \"width\": 6  \n",
    "            }\n",
    "        },\n",
    "        {\n",
    "            \"classMinValue\": 6,\n",
    "            \"classMaxValue\": 6,\n",
    "            \"symbol\": {\n",
    "                \"type\": \"esriSLS\",\n",
    "                \"style\": \"esriSLSSolid\",\n",
    "                \"color\": [255,140,0, 255], \n",
    "                \"width\": 7 \n",
    "            }\n",
    "        },\n",
    "        {\n",
    "            \"classMinValue\": 7,\n",
    "            \"classMaxValue\": 7,\n",
    "            \"symbol\": {\n",
    "                \"type\": \"esriSLS\",\n",
    "                \"style\": \"esriSLSSolid\",\n",
    "                \"color\": [220,20,60, 255],\n",
    "                \"width\": 8  \n",
    "            }\n",
    "        }\n",
    "    ]\n",
    "}\n",
    "\n",
    "map3.content.add(road_sdf, drawing_info={\"renderer\": road_renderer})\n",
    "map3.legend.enabled = True\n",
    "map3"
   ]
  },
  {
   "cell_type": "code",
   "execution_count": 9,
   "metadata": {},
   "outputs": [
    {
     "data": {
      "application/vnd.jupyter.widget-view+json": {
       "model_id": "e91f194261104a719c0732b5a4317b94",
       "version_major": 2,
       "version_minor": 1
      },
      "text/plain": [
       "Map(center=[3857636.3466711883, -13042616.481232138], extent={'xmin': -13075789.689488532, 'ymin': 3818273.910…"
      ]
     },
     "execution_count": 9,
     "metadata": {},
     "output_type": "execute_result"
    }
   ],
   "source": [
    "map4 = gis.map('San Diego, CA')\n",
    "\n",
    "map4.content.add(collision_fl)\n",
    "map4.content.add(road_sdf, drawing_info={\"renderer\": road_renderer})\n",
    "map4.legend.enabled = True\n",
    "map4"
   ]
  },
  {
   "cell_type": "markdown",
   "metadata": {},
   "source": [
    "# 8) Expected Spatial Data Integration Issues\n",
    "\n",
    "Some issues of the data could be that the San Diego county data might use NAD83 state plane EPSG:2230 while others might use EPSG:4326 which can be an easy fix. There might be temporal alignment issues however, as there could be time issues between years like 2020 or 2023. There might even be incomplete data from say, 2024. \n"
   ]
  }
 ],
 "metadata": {
  "kernelspec": {
   "display_name": "Python 3",
   "language": "python",
   "name": "python3"
  },
  "language_info": {
   "codemirror_mode": {
    "name": "ipython",
    "version": 3
   },
   "file_extension": ".py",
   "mimetype": "text/x-python",
   "name": "python",
   "nbconvert_exporter": "python",
   "pygments_lexer": "ipython3",
   "version": "3.11.9"
  }
 },
 "nbformat": 4,
 "nbformat_minor": 2
}
