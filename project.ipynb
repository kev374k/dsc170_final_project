{
 "cells": [
  {
   "cell_type": "code",
   "execution_count": 194,
   "metadata": {},
   "outputs": [],
   "source": [
    "import arcgis\n",
    "import arcgiskey\n",
    "from arcgis.gis import GIS\n",
    "from arcgis.geometry import *\n",
    "from ipywidgets import *\n",
    "import geopandas as gpd\n",
    "import pandas as pd\n",
    "import numpy as np\n",
    "import arcgis.network as network\n",
    "import arcgis.geocoding as geocoding\n",
    "from arcgis.features import (\n",
    "    FeatureLayer,\n",
    "    FeatureSet,\n",
    "    FeatureCollection,\n",
    "    FeatureLayerCollection,\n",
    "    GeoAccessor,\n",
    "    GeoSeriesAccessor,\n",
    ")\n",
    "import arcgis.features.use_proximity as use_proximity\n",
    "from arcgis.geoenrichment import *\n",
    "from arcgis.map.symbols import PictureMarkerSymbolEsriPMS\n",
    "from arcgis.map.symbols import (\n",
    "    SimpleFillSymbolEsriSFS,\n",
    "    SimpleLineSymbolEsriSLS,\n",
    "    SimpleMarkerSymbolEsriSMS,\n",
    ")\n",
    "from arcgis.map import renderers\n",
    "from shapely.geometry import (\n",
    "    Point,\n",
    "    MultiPoint,\n",
    "    LineString,\n",
    "    MultiLineString,\n",
    "    Polygon,\n",
    "    MultiPolygon,\n",
    ")\n",
    "\n",
    "gis = GIS(username = arcgiskey.USERNAME, password = arcgiskey.PASSWORD)"
   ]
  },
  {
   "cell_type": "markdown",
   "metadata": {},
   "source": [
    "# 1) Project Title: Identifying points of Traffic with reasons in San Diego\n",
    "\n",
    "Team Members: Kevin Wong (A17280855) and Lukas Fullner (A16945107) \n",
    "\n",
    "Class: DSC 170 Winter 2025"
   ]
  },
  {
   "cell_type": "markdown",
   "metadata": {},
   "source": [
    "# 2) Questions we want to address, and their importance\n",
    "\n",
    "Traffic Pattern Analysis\n",
    "* How does traffic in urban, suburban, and rural areas differ? Specifically, what type of accidents happen most often in each respective category?\n",
    "* What are the most accident-prone intersections, highways, and roads in San Diego? Identify high risk areas based on accident frequency and severity\n",
    "\n",
    "Accident Causes & Trends:\n",
    "* How does traffic congestion correlate with accident occurrences?\n",
    "\n",
    "Demographic Factors: \n",
    "* Are accidents more frequent in areas with certain demographic characteristics?\n",
    "* Do different types of accidents correlate with socioeconimic factors?\n",
    "\n",
    "When traffic accidents are portrayed on the news, they are cited as being avoidable and oftentimes the cause of reckless driving, whether that be through sleepy drivers or those under the influence. However, we propose that oftentimes, traffic is not solely caused by reckless driving and individual driver behvaior. Other factors - such as socioeconomic conditions, infrastructure design, and traffic congrestion - play a significant role and are more measurable than human error. \n",
    "\n",
    "By identifying areas with high traffic volume and frequent accidents (relative to their area), we aim to create an interactive map highlighting accident-prone locations and potential contributing factors. This will provide a data-driven approach to understanding traffic safety in San Diego county and offer potential areas of improve to reduce accidents."
   ]
  },
  {
   "cell_type": "markdown",
   "metadata": {},
   "source": [
    "# 3) Background and Literature\n",
    "\n",
    "GIS in Traffic Accident Analysis\n",
    "\n",
    "* GIS has been extensively used to study the spatial distribution of traffic accidents, identifying hotspots and danger points in road traffic. For instance, the [FeGIS](https://bmdv.bund.de/SharedDocs/DE/Artikel/DG/mfund-projekte/frueherkennung-von-gefahrenstellen-im-strassenverkehr-fegis.html) (Early Detection of Dangerous Areas in road traffic) project in Germany helped identify these \"danger points\", preventing accidents through timely warnings of danger zones for pedestrians and road users. It offered an outline for proactive identification of danger for EU Road Safety Policy\n",
    "\n",
    "Statistical Methods in Traffic Safety Research \n",
    "\n",
    "* Statistical and econometrical methods for analyzing crash data and understanding the factors that influence accident occurrences and severities are essential to our project. Researchers like [Fred Mannering](https://en.wikipedia.org/wiki/Fred_Mannering) have contributed significantly to this field, developing models that account for accident frequency and severity based on road conditions, type, and more. \n",
    "\n",
    "Tools for Spaital Analysis in Traffic Studies\n",
    "\n",
    "* Tools like [CrimeStat](https://en.wikipedia.org/wiki/CrimeStat) offer spatial statistical functionalities that can be applied to traffic accident analysis. CrimeStat's spatial analytical methods have been adapted for various applications, like finding accident hotspots and modeling travel demand related to traffic accidents."
   ]
  },
  {
   "cell_type": "markdown",
   "metadata": {},
   "source": [
    "# 4) Libaries and Modules\n",
    "\n",
    "* Pandas - To handle dataframes and to preprocess data\n",
    "* GeoPandas — Used to determine the geometry of certain places in San Diego. Also used to help spatial join and create buffers around areas to analyze them.\n",
    "* ArcGIS Online — Mainly used for Geoenrichment as well as mapping traffic patterns around a map of San Diego. Additionally, used to search for data in ArcGIS to see which areas have a lot of traffic and see what correlations are implied with it. "
   ]
  },
  {
   "cell_type": "markdown",
   "metadata": {},
   "source": [
    "# 5) Data Sources:\n",
    "\n",
    "SANDAG: Safety - Collions (SWITRS) 2023 \n",
    "* This data focuses on collision data for San Diego within 2022, due to it's completeness. It currently has over 10000 collisions in San Diego County. Primarily, it uses the Statewide Integrated Traffic Records System (SWITRS) as a database and process data gathered from a collision scene. We take this specifically from SANDAG due to their reliability as a data distributor for spatial data with the help of California Highway Patrol. We will be using data primarily from 2023. \n",
    "\n",
    "ArcGIS Online USA Counties \n",
    "* Used to determine the counties in the United States; additionally, used for geoenrichment to find population density"
   ]
  },
  {
   "cell_type": "code",
   "execution_count": 2,
   "metadata": {},
   "outputs": [],
   "source": [
    "# read data and convert into a spatial dataframe\n",
    "data = gpd.read_file(\"data/collision_data_2022.csv\")\n",
    "data = data.drop(columns = ['Reservation sandag', 'Shape', 'CASE ID', 'X', 'Y'])\n",
    "\n",
    "# conver to floats in order to make sure the spatial references work\n",
    "data['LONGITUDE sandag'] = data['LONGITUDE sandag'].astype(float)\n",
    "data['LATITUDE sandag'] = data['LATITUDE sandag'].astype(float)\n",
    "sdf = GeoAccessor.from_xy(data, x_column='LONGITUDE sandag', y_column='LATITUDE sandag', sr = 4326)"
   ]
  },
  {
   "cell_type": "code",
   "execution_count": null,
   "metadata": {},
   "outputs": [],
   "source": [
    "# convert into a feature layer -> DON'T RUN AGAIN, ALREADY CREATED\n",
    "# feature_layer = sdf.spatial.to_featurelayer(\n",
    "#     title = \"Collision Data SD County 2022\",\n",
    "#     gis = gis, \n",
    "#     tags = [\"Collision\", \"Data\", \"2022\"],\n",
    "#     overwrite = False,\n",
    "#     sanitize_columns = True,\n",
    "#     service_name = \"Collision_San_Diego_County_2022\"\n",
    "# )"
   ]
  },
  {
   "cell_type": "code",
   "execution_count": 114,
   "metadata": {},
   "outputs": [],
   "source": [
    "collision_layer = gis.content.search(query = \"owner:dsc170wi25_31\", item_type = \"Feature Layer\")[3]\n",
    "collision_fl = gis.content.get(collision_layer.id).layers[0]\n",
    "collision_sdf = collision_fl.query().sdf"
   ]
  },
  {
   "cell_type": "code",
   "execution_count": null,
   "metadata": {},
   "outputs": [],
   "source": [
    "# find county barrier for San Dieg\n",
    "counties = gis.content.search(\"USA Counties generalized\", \"Feature Layer\", outside_org=True)[4]\n",
    "counties_fl = gis.content.get(counties.id).layers[0]\n",
    "sd_county_sdf = counties_fl.query(\"NAME = 'San Diego County'\", return_geometry=True).sdf\n",
    "sd_county_gdf = gpd.GeoDataFrame(sd_county_sdf).set_geometry(\"SHAPE\")\n",
    "sd_county_gdf = sd_county_gdf.set_crs(\"4326\")\n",
    "sd_county_gdf = sd_county_gdf.to_crs(\"3857\")\n",
    "\n",
    "# find US zip codes for San Diego\n",
    "zip_codes = gis.content.search(\"zip code\", item_type = \"Feature Layer\", outside_org = True)[2]\n",
    "zip_codes_fl = gis.content.get(zip_codes.id).layers[0]\n",
    "california_zip_codes_sdf = zip_codes_fl.query(where = \"STATE = 'CA'\").sdf\n",
    "ca_zip_codes_gdf = gpd.GeoDataFrame(california_zip_codes_sdf).set_geometry(\"SHAPE\")\n",
    "ca_zip_codes_gdf = ca_zip_codes_gdf.set_crs(\"3857\")\n",
    "\n",
    "# spatial join these two to find zip codes that lie within San Diego County (add buffer to get rid of inconsistencies)\n",
    "sd_county_gdf['SHAPE'] = sd_county_gdf['SHAPE'].buffer(5000)\n",
    "sd_zip_codes = ca_zip_codes_gdf.sjoin(sd_county_gdf, predicate = 'within')\n",
    "\n",
    "# create 'density_class' based on 'pop_sqmi_l'\n",
    "def classify_density(pop_density):\n",
    "    if pop_density > 1000:\n",
    "        return \"Urban\"\n",
    "    elif pop_density > 200:\n",
    "        return \"Suburban\"\n",
    "    else:\n",
    "        return \"Rural\"\n",
    "\n",
    "# fill the missing value with data from 2023\n",
    "sd_zip_codes[\"POP_SQMI_left\"] = sd_zip_codes[\"POP_SQMI_left\"].fillna(3860)\n",
    "sd_zip_codes[\"density_class\"] = sd_zip_codes[\"POP_SQMI_left\"].apply(classify_density)"
   ]
  },
  {
   "cell_type": "code",
   "execution_count": 42,
   "metadata": {},
   "outputs": [],
   "source": [
    "# convert into feature layer -> don't run again, already created\n",
    "# sd_zip_sdf = GeoAccessor.from_geodataframe(\n",
    "#     sd_zip_codes, column_name = \"SHAPE\"\n",
    "# )\n",
    "# zip_code_fl = sd_zip_sdf.spatial.to_featurelayer(\n",
    "#     title = \"San Diego County Zip Codes\",\n",
    "#     gis = gis,\n",
    "#     tags = [\"San Diego\", \"Zip Codes\", \"County\"],\n",
    "#     overwrite = False,\n",
    "#     sanitize_columns = True,\n",
    "#     service_name = \"San_Diego_County_ZipCodes\"\n",
    "# )"
   ]
  },
  {
   "cell_type": "code",
   "execution_count": 115,
   "metadata": {},
   "outputs": [],
   "source": [
    "zip_code_layer = gis.content.search(\n",
    "    query=\"owner:dsc170wi25_31\", item_type=\"Feature Layer\"\n",
    ")[1]\n",
    "sd_zip_codes_fl = gis.content.get(zip_code_layer.id).layers[0]\n",
    "sd_zip_codes_sdf = sd_zip_codes_fl.query().sdf"
   ]
  },
  {
   "cell_type": "code",
   "execution_count": 239,
   "metadata": {},
   "outputs": [
    {
     "data": {
      "application/vnd.jupyter.widget-view+json": {
       "model_id": "d1fa321ee9de4d01901e8d4365eae7dc",
       "version_major": 2,
       "version_minor": 1
      },
      "text/plain": [
       "Map(center=[3857636.3466711883, -13042616.481232138], extent={'xmin': -13075789.689488532, 'ymin': 3818273.910…"
      ]
     },
     "execution_count": 239,
     "metadata": {},
     "output_type": "execute_result"
    }
   ],
   "source": [
    "map1 = gis.map(\"San Diego, CA\")\n",
    "\n",
    "# population density renderer\n",
    "population_density_renderer = {\n",
    "    \"type\": \"uniqueValue\",\n",
    "    \"field1\": \"density_cl\",\n",
    "    \"uniqueValueInfos\": [\n",
    "        {\n",
    "            \"value\": \"Urban\",\n",
    "            \"symbol\": {\n",
    "                \"type\": \"esriSFS\",\n",
    "                \"style\": \"esriSFSSolid\",\n",
    "                \"color\": [252, 101, 66, 100],  # Transparent fill\n",
    "                \"outline\": {\n",
    "                    \"color\": [252, 101, 66, 255],  # Red outline for urban areas\n",
    "                    \"width\": 1.5,\n",
    "                },\n",
    "            },\n",
    "            \"label\": \"Urban\",\n",
    "        },\n",
    "        {\n",
    "            \"value\": \"Suburban\",\n",
    "            \"symbol\": {\n",
    "                \"type\": \"esriSFS\",\n",
    "                \"style\": \"esriSFSSolid\",\n",
    "                \"color\": [162, 190, 149, 100],  # Transparent fill\n",
    "                \"outline\": {\n",
    "                    \"color\": [162, 190, 149, 255],  # Green outline for suburban areas\n",
    "                    \"width\": 1.5,\n",
    "                },\n",
    "            },\n",
    "            \"label\": \"Suburban\",\n",
    "        },\n",
    "        {\n",
    "            \"value\": \"Rural\",\n",
    "            \"symbol\": {\n",
    "                \"type\": \"esriSFS\",\n",
    "                \"style\": \"esriSFSSolid\",\n",
    "                \"color\": [55, 94, 151, 100],  # Transparent fill\n",
    "                \"outline\": {\n",
    "                    \"color\": [55, 94, 151, 255],  # Blue outline for rural areas\n",
    "                    \"width\": 1.5,\n",
    "                },\n",
    "            },\n",
    "            \"label\": \"Rural\",\n",
    "        },\n",
    "    ],\n",
    "}\n",
    "\n",
    "map1.content.add(\n",
    "    sd_zip_codes_fl, drawing_info={\"renderer\": population_density_renderer}\n",
    ")\n",
    "map1.content.add(collision_fl)\n",
    "map1.legend.enabled = True\n",
    "map1\n"
   ]
  },
  {
   "cell_type": "markdown",
   "metadata": {},
   "source": [
    "# 6) Expected Data Cleaning\n",
    "\n",
    "Some relevant data quality issues is data age. We want to use more modern data, but also have data that is complete and accurate. We already did this with the collision data, as 2023 and 2024 data were incomplete, which means we had to settle for 2022. However, 2022 is a decent predictor of 2024 and 2025, as the bounceback from COVID had already begun. Fortunately, a topic like traffic accidents is a pretty popular and normal set that is used in data analysis, so there shouldn’t be any problems with it’s metadata. I would expect a lot of the data provided in SANDAG to be mostly reputable, but I do expect some problems with street names or areas that might not have been mapped out that well in the data. We will also encounter the issue of incomplete reporting, where the SANDAG data may not have full information reported for certain fields meaning we will have to impute some data or otherwise acount for the missing data.\n",
    "\n",
    "Additionally, some data cleaning we had to do was due to the buffer, since the boundaries of the county weren't 100% accurate to the boundaries of the zip code. We had to place a 5000 meter buffer on the county in order to get all of the zip codes in the county."
   ]
  },
  {
   "cell_type": "markdown",
   "metadata": {},
   "source": [
    "# 7) Plan of Analysis\n",
    "\n",
    "* Data Exploration - Look through the data to see what exactly there is to analyze. For example, for traffic accidents, we could analyze how serious an accident is, or see what type of accident it is (this could be a car-car accident, car-person accident, car-bike accident, etc)\n",
    "* Data Analysis - We could look at concentrated places on our map where accidents occur more, and geoenrich a specific part (i.e. Downtown San Diego) to understand why something is happening. For instance, if we saw a lot of traffic in an area along with a lot of pedestrian violence, there might be a higher chance that an accident occurs. Similarly, we could also check restaurants that serve alcohol, and analyze whether or not areas near the restaurants could serve as an indication of an accident happening.\n",
    "* Machine Learning/Modeling - We want to model whether or not accidents are more likely to occur based on a number of variables that we had geoenriched. This could be the aforementioned # of restaurants that serve alcohol, or any sort of number of features that we geoenriched previously, and make sure we have a set of test areas that could be predicted. We could also predict the type of accident that happened spatially, with the same features. For our business case, we could identify certain zip codes or areas that contain a lot of traffic, and see reasons why they might be so traffic heavy compared to other zip codes. \n"
   ]
  },
  {
   "cell_type": "markdown",
   "metadata": {},
   "source": [
    "For the first question, we observed whether or not collisions were more likely to occur in urban, rural, or suburban areas, as well as which zip codes had the highest collision density. We found per square kilometer, Rural Areas only had 0.001673 collisions, Suburban Areas had 0.003585 collisions, while Urban had by far the highest collision density, with 0.021066 collisions per square kilometer. We also noticed that when we measured collision density in individual zip codes, those closest to the coast and downtown near the freeway had the highest collision rate, which is to be expected due to their frequent usage."
   ]
  },
  {
   "cell_type": "code",
   "execution_count": 47,
   "metadata": {},
   "outputs": [],
   "source": [
    "# Let's see if accidents are more prone to happening in urban, suburban, or rural areas\n",
    "collision_gdf = gpd.GeoDataFrame(collision_sdf, geometry=collision_sdf.SHAPE)\n",
    "sd_zip_codes_gdf = gpd.GeoDataFrame(sd_zip_codes_sdf, geometry=sd_zip_codes_sdf.SHAPE)\n",
    "zip_code_collisions = collision_gdf.sjoin(sd_zip_codes_gdf, predicate=\"within\")"
   ]
  },
  {
   "cell_type": "code",
   "execution_count": 164,
   "metadata": {},
   "outputs": [],
   "source": [
    "# see which zip codes are most accident prone\n",
    "collision_counts = zip_code_collisions.groupby(\"zip_code\").size().rename(\"Total Collisions\")\n",
    "\n",
    "# convert from m2 -> km2\n",
    "total_area = zip_code_collisions.groupby(\"zip_code\")['shape_area'].sum().rename(\"Total Area\") / 1000000\n",
    "collision_density = (collision_counts / total_area).rename(\"Collision Density\")\n",
    "\n",
    "zip_code_collision_density = sd_zip_codes_sdf.merge(collision_density, left_on = \"zip_code\", right_index = True, how = \"outer\")\n",
    "zip_code_collision_density['Col_Dens_km'] = zip_code_collision_density['Collision Density'].fillna(0)\n",
    "zip_code_collision_density = zip_code_collision_density.set_geometry(\"SHAPE\")\n",
    "zip_code_collision_density = zip_code_collision_density.set_crs(\"3857\")"
   ]
  },
  {
   "cell_type": "code",
   "execution_count": 165,
   "metadata": {},
   "outputs": [],
   "source": [
    "zip_collision_density_sdf = GeoAccessor.from_geodataframe(\n",
    "    zip_code_collision_density, column_name=\"SHAPE\"\n",
    ")\n",
    "zip_collision_density_fl = zip_collision_density_sdf.spatial.to_featurelayer(\n",
    "    title=\"San Diego County Zip Code Collision Density\",\n",
    "    gis=gis,\n",
    "    tags=[\"San Diego\", \"Zip Codes\", \"Collision Density\"],\n",
    "    overwrite=False,\n",
    "    sanitize_columns=True,\n",
    "    service_name=\"San_Diego_County_Zip_Code_Collision_Density\",\n",
    ")"
   ]
  },
  {
   "cell_type": "code",
   "execution_count": 167,
   "metadata": {},
   "outputs": [],
   "source": [
    "zip_collision_layer = gis.content.search(query=\"owner:dsc170wi25_31\", item_type=\"Feature Layer\")[3]\n",
    "zip_col_fl = gis.content.get(zip_collision_layer.id).layers[0]\n",
    "zip_col_sdf = zip_col_fl.query().sdf"
   ]
  },
  {
   "cell_type": "code",
   "execution_count": 240,
   "metadata": {},
   "outputs": [
    {
     "data": {
      "application/vnd.jupyter.widget-view+json": {
       "model_id": "7a21d9ea34d34fee96e2211803c20d6d",
       "version_major": 2,
       "version_minor": 1
      },
      "text/plain": [
       "Map(center=[3857636.3466711883, -13042616.481232138], extent={'xmin': -13075789.689488532, 'ymin': 3818273.910…"
      ]
     },
     "execution_count": 240,
     "metadata": {},
     "output_type": "execute_result"
    }
   ],
   "source": [
    "map2 = gis.map(\"San Diego, CA\")\n",
    "# Apply a graduated colors renderer\n",
    "density_renderer = {\n",
    "    \"type\": \"classBreaks\",\n",
    "    \"field\": \"col_dens_k\",\n",
    "    \"classificationMethod\": \"esriClassifyQuantile\",\n",
    "    \"minValue\": 0,\n",
    "    \"maxValue\": 1.3,\n",
    "    \"defaultSymbol\": {\n",
    "        \"type\": \"esriSFS\",\n",
    "        \"style\": \"esriSFSSolid\",\n",
    "        \"color\": [255, 255, 255, 100],\n",
    "        \"outline\": {\n",
    "            \"type\": \"esriSLS\",\n",
    "            \"style\": \"esriSLSSolid\",\n",
    "            \"color\": [110, 110, 110, 255],\n",
    "            \"width\": 0.5,\n",
    "        },\n",
    "    },\n",
    "    \"defaultLabel\": \"No Data\",\n",
    "    \"legendOptions\": {\"title\": \"Collision Density (per sq km)\"},\n",
    "    \"classBreakInfos\": [\n",
    "        {\n",
    "            \"classMaxValue\": np.percentile(zip_col_sdf[\"col_dens_k\"], 25),\n",
    "            \"symbol\": {\n",
    "                \"type\": \"esriSFS\",\n",
    "                \"style\": \"esriSFSSolid\",\n",
    "                \"color\": [204, 236, 230, 100],  # Light blue-green\n",
    "                \"outline\": {\n",
    "                    \"color\": [110, 110, 110, 255],\n",
    "                    \"width\": 0.5,\n",
    "                    \"type\": \"esriSLS\",\n",
    "                    \"style\": \"esriSLSSolid\",\n",
    "                },\n",
    "            },\n",
    "            \"label\": \"1st-25th Percentile\",\n",
    "        },\n",
    "        {\n",
    "            \"classMaxValue\": np.percentile(zip_col_sdf[\"col_dens_k\"], 50),\n",
    "            \"symbol\": {\n",
    "                \"type\": \"esriSFS\",\n",
    "                \"style\": \"esriSFSSolid\",\n",
    "                \"color\": [153, 216, 201, 100],  # Medium blue-green\n",
    "                \"outline\": {\n",
    "                    \"color\": [110, 110, 110, 255],\n",
    "                    \"width\": 0.5,\n",
    "                    \"type\": \"esriSLS\",\n",
    "                    \"style\": \"esriSLSSolid\",\n",
    "                },\n",
    "            },\n",
    "            \"label\": \"25th-50th Percentile\",\n",
    "        },\n",
    "        {\n",
    "            \"classMaxValue\": np.percentile(zip_col_sdf[\"col_dens_k\"], 75),\n",
    "            \"symbol\": {\n",
    "                \"type\": \"esriSFS\",\n",
    "                \"style\": \"esriSFSSolid\",\n",
    "                \"color\": [102, 194, 164, 100],  # Darker blue-green\n",
    "                \"outline\": {\n",
    "                    \"color\": [110, 110, 110, 255],\n",
    "                    \"width\": 0.5,\n",
    "                    \"type\": \"esriSLS\",\n",
    "                    \"style\": \"esriSLSSolid\",\n",
    "                },\n",
    "            },\n",
    "            \"label\": \"50th-75th Percentile\",\n",
    "        },\n",
    "        {\n",
    "            \"classMaxValue\": np.percentile(zip_col_sdf[\"col_dens_k\"], 100),\n",
    "            \"symbol\": {\n",
    "                \"type\": \"esriSFS\",\n",
    "                \"style\": \"esriSFSSolid\",\n",
    "                \"color\": [0, 109, 44, 255],  # Dark green\n",
    "                \"outline\": {\n",
    "                    \"color\": [110, 110, 110, 255],\n",
    "                    \"width\": 0.5,\n",
    "                    \"type\": \"esriSLS\",\n",
    "                    \"style\": \"esriSLSSolid\",\n",
    "                },\n",
    "            },\n",
    "            \"label\": \"75th-100th Percentile\",\n",
    "        },\n",
    "    ],\n",
    "}\n",
    "\n",
    "\n",
    "# Add the layer with the heatmap renderer to your map\n",
    "map2.content.add(zip_col_fl, drawing_info={\"renderer\": density_renderer})\n",
    "map2.legend.enabled = True\n",
    "map2\n"
   ]
  },
  {
   "cell_type": "markdown",
   "metadata": {},
   "source": [
    "# 8) Expected Spatial Data Integration Issues\n",
    "\n",
    "Some issues of the data could be that the San Diego county data might use NAD83 state plane EPSG:2230 while others might use EPSG:4326 which can be an easy fix. There might be temporal alignment issues however, as there could be time issues between years like 2020 or 2023. There might even be incomplete data from say, 2024. \n"
   ]
  }
 ],
 "metadata": {
  "kernelspec": {
   "display_name": "base",
   "language": "python",
   "name": "python3"
  },
  "language_info": {
   "codemirror_mode": {
    "name": "ipython",
    "version": 3
   },
   "file_extension": ".py",
   "mimetype": "text/x-python",
   "name": "python",
   "nbconvert_exporter": "python",
   "pygments_lexer": "ipython3",
   "version": "3.12.2"
  }
 },
 "nbformat": 4,
 "nbformat_minor": 2
}
