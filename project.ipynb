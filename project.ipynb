{
 "cells": [
  {
   "cell_type": "code",
   "execution_count": 1,
   "metadata": {},
   "outputs": [],
   "source": [
    "import arcgis\n",
    "import arcgiskey\n",
    "from arcgis.gis import GIS\n",
    "from arcgis.geometry import *\n",
    "from ipywidgets import *\n",
    "import geopandas as gpd\n",
    "import pandas as pd\n",
    "import numpy as np\n",
    "import arcgis.network as network\n",
    "import arcgis.geocoding as geocoding\n",
    "from arcgis.features import (\n",
    "    FeatureLayer,\n",
    "    FeatureSet,\n",
    "    FeatureCollection,\n",
    "    FeatureLayerCollection,\n",
    "    GeoAccessor,\n",
    "    GeoSeriesAccessor,\n",
    ")\n",
    "import arcgis.features.use_proximity as use_proximity\n",
    "from arcgis.geoenrichment import *\n",
    "from arcgis.map.symbols import PictureMarkerSymbolEsriPMS\n",
    "from arcgis.map.symbols import (\n",
    "    SimpleFillSymbolEsriSFS,\n",
    "    SimpleLineSymbolEsriSLS,\n",
    "    SimpleMarkerSymbolEsriSMS,\n",
    ")\n",
    "from shapely.geometry import (\n",
    "    Point,\n",
    "    MultiPoint,\n",
    "    LineString,\n",
    "    MultiLineString,\n",
    "    Polygon,\n",
    "    MultiPolygon,\n",
    ")\n",
    "\n",
    "gis = GIS(username = arcgiskey.USERNAME, password = arcgiskey.PASSWORD)"
   ]
  },
  {
   "cell_type": "markdown",
   "metadata": {},
   "source": [
    "# 1) Project Title: Identifying points of Traffic with reasons in San Diego\n",
    "\n",
    "Team Members: Kevin Wong (A17280855) and Lukas Fullner (A16945107) \n",
    "\n",
    "Class: DSC 170 Winter 2025"
   ]
  },
  {
   "cell_type": "markdown",
   "metadata": {},
   "source": [
    "# 2) Questions we want to address, and their importance\n",
    "\n",
    "Traffic Pattern Analysis\n",
    "* How does traffic in urban, suburban, and rural areas differ? Specifically, what type of accidents happen most often in each respective category?\n",
    "* What are the most accident-prone intersections, highways, and roads in San Diego? Identify high risk areas based on accident frequency and severity\n",
    "\n",
    "Accident Causes & Trends:\n",
    "* How does traffic congestion correlate with accident occurrences?\n",
    "\n",
    "Demographic Factors: \n",
    "* Are accidents more frequent in areas with certain demographic characteristics?\n",
    "* Do different types of accidents correlate with socioeconimic factors?\n",
    "\n",
    "When traffic accidents are portrayed on the news, they are cited as being avoidable and oftentimes the cause of reckless driving, whether that be through sleepy drivers or those under the influence. However, we propose that oftentimes, traffic is not solely caused by reckless driving and individual driver behvaior. Other factors - such as socioeconomic conditions, infrastructure design, and traffic congrestion - play a significant role and are more measurable than human error. \n",
    "\n",
    "By identifying areas with high traffic volume and frequent accidents (relative to their area), we aim to create an interactive map highlighting accident-prone locations and potential contributing factors. This will provide a data-driven approach to understanding traffic safety in San Diego county and offer potential areas of improve to reduce accidents."
   ]
  },
  {
   "cell_type": "markdown",
   "metadata": {},
   "source": [
    "# 3) Background and Literature\n",
    "\n",
    "GIS in Traffic Accident Analysis\n",
    "\n",
    "* GIS has been extensively used to study the spatial distribution of traffic accidents, identifying hotspots and danger points in road traffic. For instance, the [FeGIS](https://bmdv.bund.de/SharedDocs/DE/Artikel/DG/mfund-projekte/frueherkennung-von-gefahrenstellen-im-strassenverkehr-fegis.html) (Early Detection of Dangerous Areas in road traffic) project in Germany helped identify these \"danger points\", preventing accidents through timely warnings of danger zones for pedestrians and road users. It offered an outline for proactive identification of danger for EU Road Safety Policy\n",
    "\n",
    "Statistical Methosd in Traffic Safety Research \n",
    "\n",
    "* Statistical and econometrical methods for analyzing crash data and understanding the factors that influence accident occurrences and severities are essential to our project. Researchers like [Fred Mannering](https://en.wikipedia.org/wiki/Fred_Mannering) have contributed significantly to this field, developing models that account for accident frequency and severity based on road conditions, type, and more. \n",
    "\n",
    "Tools for Spaital Analysis in Traffic Studies\n",
    "\n",
    "* Tools like [CrimeStat](https://en.wikipedia.org/wiki/CrimeStat) offer spatial statistical functionalities that can be applied to traffic accident analysis. CrimeStat's spatial analytical methods have been adapted for various applications, like finding accident hotspots and modeling travel demand related to traffic accidents."
   ]
  },
  {
   "cell_type": "markdown",
   "metadata": {},
   "source": [
    "# 4) Libaries and Modules\n",
    "\n",
    "* Pandas - To handle dataframes and to preprocess data\n",
    "* GeoPandas — Used to determine the geometry of certain places in San Diego. Also used to help spatial join and create buffers around areas to analyze them.\n",
    "* ArcGIS Online — Mainly used for Geoenrichment as well as mapping traffic patterns around a map of San Diego. Additionally, used to search for data in ArcGIS to see which areas have a lot of traffic and see what correlations are implied with it. "
   ]
  },
  {
   "cell_type": "markdown",
   "metadata": {},
   "source": [
    "# 5) Data Sources:\n",
    "\n",
    "SANDAG: Safety - Collions (SWITRS) 2023 \n",
    "* This data focuses on collision data for San Diego within 2022, due to it's completeness. It currently has over 10000 collisions in San Diego County. Primarily, it uses the Statewide Integrated Traffic Records System (SWITRS) as a database and process data gathered from a collision scene. We take this specifically from SANDAG due to their reliability as a data distributor for spatial data with the help of California Highway Patrol. We will be using data primarily from 2023. "
   ]
  },
  {
   "cell_type": "code",
   "execution_count": 25,
   "metadata": {},
   "outputs": [],
   "source": [
    "# read data and convert into a spatial dataframe\n",
    "data = gpd.read_file(\"data/collision_data_2022.csv\")\n",
    "data = data.drop(columns = ['Reservation sandag', 'Shape', 'CASE ID', 'X', 'Y'])\n",
    "data['LONGITUDE sandag'] = data['LONGITUDE sandag'].astype(float)\n",
    "data['LATITUDE sandag'] = data['LATITUDE sandag'].astype(float)\n",
    "sdf = GeoAccessor.from_xy(data, x_column='LONGITUDE sandag', y_column='LATITUDE sandag', sr = 4326)"
   ]
  },
  {
   "cell_type": "code",
   "execution_count": 27,
   "metadata": {},
   "outputs": [],
   "source": [
    "# convert into a feature layer -> DON'T RUN AGAIN, ALREADY CREATED\n",
    "feature_layer = sdf.spatial.to_featurelayer(\n",
    "    title = \"Collision Data SD County 2022\",\n",
    "    gis = gis, \n",
    "    tags = [\"Collision\", \"Data\", \"2022\"],\n",
    "    overwrite = False,\n",
    "    sanitize_columns = True,\n",
    "    service_name = \"Collision_San_Diego_County_2022\"\n",
    ")"
   ]
  },
  {
   "cell_type": "code",
   "execution_count": 29,
   "metadata": {},
   "outputs": [],
   "source": [
    "collision_layer = gis.content.search(query = \"owner:dsc170wi25_31\", item_type = \"Feature Layer\")[1]\n",
    "collision_fl = gis.content.get(collision_layer.id).layers[0]"
   ]
  },
  {
   "cell_type": "code",
   "execution_count": 31,
   "metadata": {},
   "outputs": [
    {
     "data": {
      "application/vnd.jupyter.widget-view+json": {
       "model_id": "72128c993a38431da2e767c8ea8ae92b",
       "version_major": 2,
       "version_minor": 1
      },
      "text/plain": [
       "Map(center=[3857636.3466711883, -13042616.481232138], extent={'xmin': -13075789.689488532, 'ymin': 3818273.910…"
      ]
     },
     "execution_count": 31,
     "metadata": {},
     "output_type": "execute_result"
    }
   ],
   "source": [
    "map1 = gis.map(\"San Diego, CA\")\n",
    "map1.content.add(collision_fl)\n",
    "map1"
   ]
  },
  {
   "cell_type": "markdown",
   "metadata": {},
   "source": [
    "# 6) Expected Data Cleaning\n",
    "\n",
    "Some relevant data quality issues is data age. We want to use more modern data, but also have data that is complete and accurate. We already did this with the collision data, as 2023 and 2024 data were incomplete, which means we had to settle for 2022. However, 2022 is a decent predictor of 2024 and 2025, as the bounceback from COVID had already begun. Fortunately, a topic like traffic accidents is a pretty popular and normal set that is used in data analysis, so there shouldn’t be any problems with it’s metadata. I would expect a lot of the data provided in SANDAG to be mostly reputable, but I do expect some problems with street names or areas that might not have been mapped out that well in the data. We will also encounter the issue of incomplete reporting, where the SANDAG data may not have full information reported for certain fields meaning we will have to impute some data or otherwise acount for the missing data."
   ]
  },
  {
   "cell_type": "markdown",
   "metadata": {},
   "source": [
    "# 7) Plan of Analysis\n",
    "\n",
    "* Data Exploration - Look through the data to see what exactly there is to analyze. For example, for traffic accidents, we could analyze how serious an accident is, or see what type of accident it is (this could be a car-car accident, car-person accident, car-bike accident, etc)\n",
    "* Data Analysis - We could look at concentrated places on our map where accidents occur more, and geoenrich a specific part (i.e. Downtown San Diego) to understand why something is happening. For instance, if we saw a lot of traffic in an area along with a lot of pedestrian violence, there might be a higher chance that an accident occurs. Similarly, we could also check restaurants that serve alcohol, and analyze whether or not areas near the restaurants could serve as an indication of an accident happening.\n",
    "* Machine Learning/Modeling - We want to model whether or not accidents are more likely to occur based on a number of variables that we had geoenriched. This could be the aforementioned # of restaurants that serve alcohol, or any sort of number of features that we geoenriched previously, and make sure we have a set of test areas that could be predicted. We could also predict the type of accident that happened spatially, with the same features. For our business case, we could identify certain zip codes or areas that contain a lot of traffic, and see reasons why they might be so traffic heavy compared to other zip codes. \n"
   ]
  },
  {
   "cell_type": "markdown",
   "metadata": {},
   "source": [
    "# 8) Expected Spatial Data Integration Issues\n",
    "\n",
    "Some issues of the data could be that the San Diego county data might use NAD83 state plane EPSG:2230 while others might use EPSG:4326 which can be an easy fix. There might be temporal alignment issues however, as there could be time issues between years like 2020 or 2023. There might even be incomplete data from say, 2024. \n"
   ]
  },
  {
   "cell_type": "code",
   "execution_count": null,
   "metadata": {},
   "outputs": [],
   "source": []
  }
 ],
 "metadata": {
  "kernelspec": {
   "display_name": "base",
   "language": "python",
   "name": "python3"
  },
  "language_info": {
   "codemirror_mode": {
    "name": "ipython",
    "version": 3
   },
   "file_extension": ".py",
   "mimetype": "text/x-python",
   "name": "python",
   "nbconvert_exporter": "python",
   "pygments_lexer": "ipython3",
   "version": "3.12.2"
  }
 },
 "nbformat": 4,
 "nbformat_minor": 2
}
