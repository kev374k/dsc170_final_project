{
 "cells": [
  {
   "cell_type": "code",
   "execution_count": 278,
   "metadata": {},
   "outputs": [],
   "source": [
    "import arcgis\n",
    "import arcgiskey\n",
    "from arcgis.gis import GIS\n",
    "from arcgis.geometry import *\n",
    "from ipywidgets import *\n",
    "import geopandas as gpd\n",
    "import pandas as pd\n",
    "import numpy as np\n",
    "import arcgis.network as network\n",
    "import arcgis.geocoding as geocoding\n",
    "from arcgis.features import (\n",
    "    FeatureLayer,\n",
    "    FeatureSet,\n",
    "    FeatureCollection,\n",
    "    FeatureLayerCollection,\n",
    "    GeoAccessor,\n",
    "    GeoSeriesAccessor,\n",
    ")\n",
    "import arcgis.features.use_proximity as use_proximity\n",
    "from arcgis.geoenrichment import *\n",
    "from arcgis.map.symbols import PictureMarkerSymbolEsriPMS\n",
    "from arcgis.map.symbols import (\n",
    "    SimpleFillSymbolEsriSFS,\n",
    "    SimpleLineSymbolEsriSLS,\n",
    "    SimpleMarkerSymbolEsriSMS,\n",
    ")\n",
    "from arcgis.map import renderers\n",
    "from arcgis.map.renderers import SimpleRenderer\n",
    "from arcgis.map.symbols import SimpleFillSymbolEsriSFS, SimpleFillSymbolStyle\n",
    "from arcgis.map.symbols import SimpleLineSymbolEsriSLS, SimpleLineSymbolStyle\n",
    "from shapely.geometry import (\n",
    "    Point,\n",
    "    MultiPoint,\n",
    "    LineString,\n",
    "    MultiLineString,\n",
    "    Polygon,\n",
    "    MultiPolygon,\n",
    ")\n",
    "from shapely.wkt import loads\n",
    "\n",
    "\n",
    "gis = GIS(username = arcgiskey.USERNAME, password = arcgiskey.PASSWORD)"
   ]
  },
  {
   "cell_type": "markdown",
   "metadata": {},
   "source": [
    "# 1) Project Title: Identifying points of Traffic with reasons in San Diego\n",
    "\n",
    "Team Members: Kevin Wong (A17280855) and Lukas Fullner (A16945107) \n",
    "\n",
    "Class: DSC 170 Winter 2025"
   ]
  },
  {
   "cell_type": "markdown",
   "metadata": {},
   "source": [
    "# 2) Questions we want to address, and their importance\n",
    "\n",
    "Traffic Pattern Analysis\n",
    "* How does traffic in urban, suburban, and rural areas differ? Specifically, what type of accidents happen most often in each respective category?\n",
    "* What are the most accident-prone intersections, highways, and roads in San Diego? Identify high risk areas based on accident frequency and severity\n",
    "\n",
    "Demographic Factors: \n",
    "* Are accidents more frequent in areas with certain demographic characteristics?\n",
    "* Do different types of accidents correlate with socioeconimic factors?\n",
    "\n",
    "When traffic accidents are portrayed on the news, they are cited as being avoidable and oftentimes the cause of reckless driving, whether that be through sleepy drivers or those under the influence. However, we propose that oftentimes, traffic is not solely caused by reckless driving and individual driver behvaior. Other factors - such as socioeconomic conditions, infrastructure design, and traffic congrestion - play a significant role and are more measurable than human error. \n",
    "\n",
    "By identifying areas with high traffic volume and frequent accidents (relative to their area), we aim to create an interactive map highlighting accident-prone locations and potential contributing factors. This will provide a data-driven approach to understanding traffic safety in San Diego county and offer potential areas of improve to reduce accidents."
   ]
  },
  {
   "cell_type": "markdown",
   "metadata": {},
   "source": [
    "# 3) Background and Literature\n",
    "\n",
    "GIS in Traffic Accident Analysis\n",
    "\n",
    "* GIS has been extensively used to study the spatial distribution of traffic accidents, identifying hotspots and danger points in road traffic. For instance, the [FeGIS](https://bmdv.bund.de/SharedDocs/DE/Artikel/DG/mfund-projekte/frueherkennung-von-gefahrenstellen-im-strassenverkehr-fegis.html) (Early Detection of Dangerous Areas in road traffic) project in Germany helped identify these \"danger points\", preventing accidents through timely warnings of danger zones for pedestrians and road users. It offered an outline for proactive identification of danger for EU Road Safety Policy\n",
    "\n",
    "Statistical Methods in Traffic Safety Research \n",
    "\n",
    "* Statistical and econometrical methods for analyzing crash data and understanding the factors that influence accident occurrences and severities are essential to our project. Researchers like [Fred Mannering](https://en.wikipedia.org/wiki/Fred_Mannering) have contributed significantly to this field, developing models that account for accident frequency and severity based on road conditions, type, and more. \n",
    "\n",
    "Tools for Spaital Analysis in Traffic Studies\n",
    "\n",
    "* Tools like [CrimeStat](https://en.wikipedia.org/wiki/CrimeStat) offer spatial statistical functionalities that can be applied to traffic accident analysis. CrimeStat's spatial analytical methods have been adapted for various applications, like finding accident hotspots and modeling travel demand related to traffic accidents."
   ]
  },
  {
   "cell_type": "markdown",
   "metadata": {},
   "source": [
    "# 4) Libaries and Modules\n",
    "\n",
    "* Pandas - To handle dataframes and to preprocess data\n",
    "* GeoPandas — Used to determine the geometry of certain places in San Diego. Also used to help spatial join and create buffers around areas to analyze them.\n",
    "* ArcGIS Online — Mainly used for Geoenrichment as well as mapping traffic patterns around a map of San Diego. Additionally, used to search for data in ArcGIS to see which areas have a lot of traffic and see what correlations are implied with it. "
   ]
  },
  {
   "cell_type": "markdown",
   "metadata": {},
   "source": [
    "# 5) Data Sources:\n",
    "\n",
    "SANDAG: Safety - Collions (SWITRS) 2023 \n",
    "* This data focuses on collision data for San Diego within 2022, due to it's completeness. It currently has over 10000 collisions in San Diego County. Primarily, it uses the Statewide Integrated Traffic Records System (SWITRS) as a database and process data gathered from a collision scene. We take this specifically from SANDAG due to their reliability as a data distributor for spatial data with the help of California Highway Patrol. We will be using data primarily from 2023. \n",
    "\n",
    "ArcGIS Online USA Counties \n",
    "* Used to determine the counties in the United States; additionally, used for geoenrichment to find population density"
   ]
  },
  {
   "cell_type": "code",
   "execution_count": 246,
   "metadata": {},
   "outputs": [],
   "source": [
    "# read data and convert into a spatial dataframe\n",
    "data = gpd.read_file(\"data/collision_data_2022.csv\")\n",
    "data = data.drop(columns = ['Reservation sandag', 'Shape', 'CASE ID', 'X', 'Y'])\n",
    "\n",
    "# conver to floats in order to make sure the spatial references work\n",
    "data['LONGITUDE sandag'] = data['LONGITUDE sandag'].astype(float)\n",
    "data['LATITUDE sandag'] = data['LATITUDE sandag'].astype(float)\n",
    "sdf = GeoAccessor.from_xy(data, x_column='LONGITUDE sandag', y_column='LATITUDE sandag', sr = 4326)"
   ]
  },
  {
   "cell_type": "code",
   "execution_count": null,
   "metadata": {},
   "outputs": [],
   "source": [
    "# convert into a feature layer -> DON'T RUN AGAIN, ALREADY CREATED\n",
    "# feature_layer = sdf.spatial.to_featurelayer(\n",
    "#     title = \"Collision Data SD County 2022\",\n",
    "#     gis = gis, \n",
    "#     tags = [\"Collision\", \"Data\", \"2022\"],\n",
    "#     overwrite = False,\n",
    "#     sanitize_columns = True,\n",
    "#     service_name = \"Collision_Data_San_Diego_County_2022\"\n",
    "# )"
   ]
  },
  {
   "cell_type": "code",
   "execution_count": 248,
   "metadata": {},
   "outputs": [],
   "source": [
    "collision_layer = gis.content.search(query = f\"owner:{arcgiskey.USERNAME}\", item_type = \"Feature Layer\", outside_org = True)[2]\n",
    "collision_fl = gis.content.get(collision_layer.id).layers[0]\n",
    "collision_sdf = collision_fl.query().sdf"
   ]
  },
  {
   "cell_type": "code",
   "execution_count": null,
   "metadata": {},
   "outputs": [
    {
     "ename": "Exception",
     "evalue": "Cannot perform query. Invalid query parameters.\nUnable to perform query. Please check your parameters.\n(Error Code: 400)",
     "output_type": "error",
     "traceback": [
      "\u001b[0;31m---------------------------------------------------------------------------\u001b[0m",
      "\u001b[0;31mException\u001b[0m                                 Traceback (most recent call last)",
      "Cell \u001b[0;32mIn[255], line 12\u001b[0m\n\u001b[1;32m     10\u001b[0m zip_codes \u001b[38;5;241m=\u001b[39m gis\u001b[38;5;241m.\u001b[39mcontent\u001b[38;5;241m.\u001b[39msearch(\u001b[38;5;124m\"\u001b[39m\u001b[38;5;124mZip Code\u001b[39m\u001b[38;5;124m\"\u001b[39m, item_type \u001b[38;5;241m=\u001b[39m \u001b[38;5;124m\"\u001b[39m\u001b[38;5;124mFeature Layer\u001b[39m\u001b[38;5;124m\"\u001b[39m, outside_org \u001b[38;5;241m=\u001b[39m \u001b[38;5;28;01mTrue\u001b[39;00m)[\u001b[38;5;241m2\u001b[39m]\n\u001b[1;32m     11\u001b[0m zip_codes_fl \u001b[38;5;241m=\u001b[39m gis\u001b[38;5;241m.\u001b[39mcontent\u001b[38;5;241m.\u001b[39mget(zip_codes\u001b[38;5;241m.\u001b[39mid)\u001b[38;5;241m.\u001b[39mlayers[\u001b[38;5;241m0\u001b[39m]\n\u001b[0;32m---> 12\u001b[0m california_zip_codes_sdf \u001b[38;5;241m=\u001b[39m zip_codes_fl\u001b[38;5;241m.\u001b[39mquery(where \u001b[38;5;241m=\u001b[39m \u001b[38;5;124m\"\u001b[39m\u001b[38;5;124mSTATE = \u001b[39m\u001b[38;5;124m'\u001b[39m\u001b[38;5;124mCA\u001b[39m\u001b[38;5;124m'\u001b[39m\u001b[38;5;124m\"\u001b[39m)\u001b[38;5;241m.\u001b[39msdf\n\u001b[1;32m     13\u001b[0m ca_zip_codes_gdf \u001b[38;5;241m=\u001b[39m gpd\u001b[38;5;241m.\u001b[39mGeoDataFrame(california_zip_codes_sdf)\u001b[38;5;241m.\u001b[39mset_geometry(\u001b[38;5;124m\"\u001b[39m\u001b[38;5;124mSHAPE\u001b[39m\u001b[38;5;124m\"\u001b[39m)\n\u001b[1;32m     14\u001b[0m ca_zip_codes_gdf \u001b[38;5;241m=\u001b[39m ca_zip_codes_gdf\u001b[38;5;241m.\u001b[39mset_crs(\u001b[38;5;124m\"\u001b[39m\u001b[38;5;124m3857\u001b[39m\u001b[38;5;124m\"\u001b[39m)\n",
      "File \u001b[0;32m/opt/anaconda3/lib/python3.12/site-packages/arcgis/features/layer.py:2212\u001b[0m, in \u001b[0;36mFeatureLayer.query\u001b[0;34m(self, where, out_fields, time_filter, geometry_filter, return_geometry, return_count_only, return_ids_only, return_distinct_values, return_extent_only, group_by_fields_for_statistics, statistic_filter, result_offset, result_record_count, object_ids, distance, units, max_allowable_offset, out_sr, geometry_precision, gdb_version, order_by_fields, out_statistics, return_z, return_m, multipatch_option, quantization_parameters, return_centroid, return_all_records, result_type, historic_moment, sql_format, return_true_curves, return_exceeded_limit_features, as_df, datum_transformation, time_reference_unknown_client, **kwargs)\u001b[0m\n\u001b[1;32m   1846\u001b[0m \u001b[38;5;28;01mdef\u001b[39;00m \u001b[38;5;21mquery\u001b[39m(\n\u001b[1;32m   1847\u001b[0m     \u001b[38;5;28mself\u001b[39m,\n\u001b[1;32m   1848\u001b[0m     where: \u001b[38;5;28mstr\u001b[39m \u001b[38;5;241m=\u001b[39m \u001b[38;5;124m\"\u001b[39m\u001b[38;5;124m1=1\u001b[39m\u001b[38;5;124m\"\u001b[39m,\n\u001b[0;32m   (...)\u001b[0m\n\u001b[1;32m   1884\u001b[0m     \u001b[38;5;241m*\u001b[39m\u001b[38;5;241m*\u001b[39mkwargs,\n\u001b[1;32m   1885\u001b[0m ):\n\u001b[1;32m   1886\u001b[0m \u001b[38;5;250m    \u001b[39m\u001b[38;5;124;03m\"\"\"\u001b[39;00m\n\u001b[1;32m   1887\u001b[0m \u001b[38;5;124;03m    The ``query`` method queries a :class:`~arcgis.features.FeatureLayer` based on a ``sql`` statement.\u001b[39;00m\n\u001b[1;32m   1888\u001b[0m \n\u001b[0;32m   (...)\u001b[0m\n\u001b[1;32m   2209\u001b[0m \n\u001b[1;32m   2210\u001b[0m \u001b[38;5;124;03m    \"\"\"\u001b[39;00m\n\u001b[0;32m-> 2212\u001b[0m     \u001b[38;5;28;01mreturn\u001b[39;00m _query\u001b[38;5;241m.\u001b[39m_common_query(\n\u001b[1;32m   2213\u001b[0m         layer\u001b[38;5;241m=\u001b[39m\u001b[38;5;28mself\u001b[39m,\n\u001b[1;32m   2214\u001b[0m         is_layer\u001b[38;5;241m=\u001b[39m\u001b[38;5;28;01mTrue\u001b[39;00m,\n\u001b[1;32m   2215\u001b[0m         where\u001b[38;5;241m=\u001b[39mwhere,\n\u001b[1;32m   2216\u001b[0m         out_fields\u001b[38;5;241m=\u001b[39mout_fields,\n\u001b[1;32m   2217\u001b[0m         time_filter\u001b[38;5;241m=\u001b[39mtime_filter,\n\u001b[1;32m   2218\u001b[0m         geometry_filter\u001b[38;5;241m=\u001b[39mgeometry_filter,\n\u001b[1;32m   2219\u001b[0m         return_geometry\u001b[38;5;241m=\u001b[39mreturn_geometry,\n\u001b[1;32m   2220\u001b[0m         return_count_only\u001b[38;5;241m=\u001b[39mreturn_count_only,\n\u001b[1;32m   2221\u001b[0m         return_ids_only\u001b[38;5;241m=\u001b[39mreturn_ids_only,\n\u001b[1;32m   2222\u001b[0m         return_distinct_values\u001b[38;5;241m=\u001b[39mreturn_distinct_values,\n\u001b[1;32m   2223\u001b[0m         return_extent_only\u001b[38;5;241m=\u001b[39mreturn_extent_only,\n\u001b[1;32m   2224\u001b[0m         group_by_fields_for_statistics\u001b[38;5;241m=\u001b[39mgroup_by_fields_for_statistics,\n\u001b[1;32m   2225\u001b[0m         statistic_filter\u001b[38;5;241m=\u001b[39mstatistic_filter,\n\u001b[1;32m   2226\u001b[0m         result_offset\u001b[38;5;241m=\u001b[39mresult_offset,\n\u001b[1;32m   2227\u001b[0m         result_record_count\u001b[38;5;241m=\u001b[39mresult_record_count,\n\u001b[1;32m   2228\u001b[0m         object_ids\u001b[38;5;241m=\u001b[39mobject_ids,\n\u001b[1;32m   2229\u001b[0m         distance\u001b[38;5;241m=\u001b[39mdistance,\n\u001b[1;32m   2230\u001b[0m         units\u001b[38;5;241m=\u001b[39munits,\n\u001b[1;32m   2231\u001b[0m         max_allowable_offset\u001b[38;5;241m=\u001b[39mmax_allowable_offset,\n\u001b[1;32m   2232\u001b[0m         out_sr\u001b[38;5;241m=\u001b[39mout_sr,\n\u001b[1;32m   2233\u001b[0m         geometry_precision\u001b[38;5;241m=\u001b[39mgeometry_precision,\n\u001b[1;32m   2234\u001b[0m         gdb_version\u001b[38;5;241m=\u001b[39mgdb_version,\n\u001b[1;32m   2235\u001b[0m         order_by_fields\u001b[38;5;241m=\u001b[39morder_by_fields,\n\u001b[1;32m   2236\u001b[0m         out_statistics\u001b[38;5;241m=\u001b[39mout_statistics,\n\u001b[1;32m   2237\u001b[0m         return_z\u001b[38;5;241m=\u001b[39mreturn_z,\n\u001b[1;32m   2238\u001b[0m         return_m\u001b[38;5;241m=\u001b[39mreturn_m,\n\u001b[1;32m   2239\u001b[0m         multipatch_option\u001b[38;5;241m=\u001b[39mmultipatch_option,\n\u001b[1;32m   2240\u001b[0m         quantization_parameters\u001b[38;5;241m=\u001b[39mquantization_parameters,\n\u001b[1;32m   2241\u001b[0m         return_centroid\u001b[38;5;241m=\u001b[39mreturn_centroid,\n\u001b[1;32m   2242\u001b[0m         return_all_records\u001b[38;5;241m=\u001b[39mreturn_all_records,\n\u001b[1;32m   2243\u001b[0m         result_type\u001b[38;5;241m=\u001b[39mresult_type,\n\u001b[1;32m   2244\u001b[0m         historic_moment\u001b[38;5;241m=\u001b[39mhistoric_moment,\n\u001b[1;32m   2245\u001b[0m         sql_format\u001b[38;5;241m=\u001b[39msql_format,\n\u001b[1;32m   2246\u001b[0m         return_true_curves\u001b[38;5;241m=\u001b[39mreturn_true_curves,\n\u001b[1;32m   2247\u001b[0m         return_exceeded_limit_features\u001b[38;5;241m=\u001b[39mreturn_exceeded_limit_features,\n\u001b[1;32m   2248\u001b[0m         as_df\u001b[38;5;241m=\u001b[39mas_df,\n\u001b[1;32m   2249\u001b[0m         datum_transformation\u001b[38;5;241m=\u001b[39mdatum_transformation,\n\u001b[1;32m   2250\u001b[0m         time_reference_unknown_client\u001b[38;5;241m=\u001b[39mtime_reference_unknown_client,\n\u001b[1;32m   2251\u001b[0m         \u001b[38;5;241m*\u001b[39m\u001b[38;5;241m*\u001b[39mkwargs,\n\u001b[1;32m   2252\u001b[0m     )\n",
      "File \u001b[0;32m/opt/anaconda3/lib/python3.12/site-packages/arcgis/_impl/common/_query.py:129\u001b[0m, in \u001b[0;36m_common_query\u001b[0;34m(layer, is_layer, where, text, out_fields, time_filter, geometry_filter, return_geometry, return_count_only, return_ids_only, return_distinct_values, return_extent_only, group_by_fields_for_statistics, statistic_filter, result_offset, result_record_count, object_ids, distance, units, max_allowable_offset, out_sr, geometry_precision, gdb_version, order_by_fields, out_statistics, return_z, return_m, multipatch_option, quantization_parameters, return_centroid, return_all_records, result_type, historic_moment, sql_format, return_true_curves, return_exceeded_limit_features, as_df, datum_transformation, range_values, parameter_values, format_3d_objects, time_reference_unknown_client, **kwargs)\u001b[0m\n\u001b[1;32m    127\u001b[0m     \u001b[38;5;28;01mreturn\u001b[39;00m _query_df(layer, url, params)\n\u001b[1;32m    128\u001b[0m \u001b[38;5;28;01melse\u001b[39;00m:\n\u001b[0;32m--> 129\u001b[0m     \u001b[38;5;28;01mreturn\u001b[39;00m _query(layer, url, params, raw)\n",
      "File \u001b[0;32m/opt/anaconda3/lib/python3.12/site-packages/arcgis/_impl/common/_query.py:334\u001b[0m, in \u001b[0;36m_query\u001b[0;34m(layer, url, params, raw)\u001b[0m\n\u001b[1;32m    332\u001b[0m     \u001b[38;5;28;01mreturn\u001b[39;00m _process_query_result(result, params, raw, layer, url)\n\u001b[1;32m    333\u001b[0m \u001b[38;5;28;01mexcept\u001b[39;00m \u001b[38;5;167;01mException\u001b[39;00m \u001b[38;5;28;01mas\u001b[39;00m query_exception:\n\u001b[0;32m--> 334\u001b[0m     \u001b[38;5;28;01mreturn\u001b[39;00m _handle_query_exception(query_exception, layer, url, params, raw)\n",
      "File \u001b[0;32m/opt/anaconda3/lib/python3.12/site-packages/arcgis/_impl/common/_query.py:402\u001b[0m, in \u001b[0;36m_handle_query_exception\u001b[0;34m(query_exception, layer, url, params, raw)\u001b[0m\n\u001b[1;32m    399\u001b[0m \u001b[38;5;28;01mif\u001b[39;00m _is_known_error(query_exception, error_messages):\n\u001b[1;32m    400\u001b[0m     \u001b[38;5;28;01mreturn\u001b[39;00m _retry_query_with_fewer_records(layer, url, params, raw)\n\u001b[0;32m--> 402\u001b[0m \u001b[38;5;28;01mraise\u001b[39;00m query_exception\n",
      "File \u001b[0;32m/opt/anaconda3/lib/python3.12/site-packages/arcgis/_impl/common/_query.py:331\u001b[0m, in \u001b[0;36m_query\u001b[0;34m(layer, url, params, raw)\u001b[0m\n\u001b[1;32m    328\u001b[0m \u001b[38;5;250m\u001b[39m\u001b[38;5;124;03m\"\"\"Returns results of the query for the provided layer and URL.\"\"\"\u001b[39;00m\n\u001b[1;32m    329\u001b[0m \u001b[38;5;28;01mtry\u001b[39;00m:\n\u001b[1;32m    330\u001b[0m     \u001b[38;5;66;03m# Perform the initial query\u001b[39;00m\n\u001b[0;32m--> 331\u001b[0m     result \u001b[38;5;241m=\u001b[39m layer\u001b[38;5;241m.\u001b[39m_con\u001b[38;5;241m.\u001b[39mpost(url, params, token\u001b[38;5;241m=\u001b[39mlayer\u001b[38;5;241m.\u001b[39m_token)\n\u001b[1;32m    332\u001b[0m     \u001b[38;5;28;01mreturn\u001b[39;00m _process_query_result(result, params, raw, layer, url)\n\u001b[1;32m    333\u001b[0m \u001b[38;5;28;01mexcept\u001b[39;00m \u001b[38;5;167;01mException\u001b[39;00m \u001b[38;5;28;01mas\u001b[39;00m query_exception:\n",
      "File \u001b[0;32m/opt/anaconda3/lib/python3.12/site-packages/arcgis/gis/_impl/_con/_connection.py:1504\u001b[0m, in \u001b[0;36mConnection.post\u001b[0;34m(self, path, params, files, **kwargs)\u001b[0m\n\u001b[1;32m   1502\u001b[0m \u001b[38;5;28;01mif\u001b[39;00m return_raw_response:\n\u001b[1;32m   1503\u001b[0m     \u001b[38;5;28;01mreturn\u001b[39;00m resp\n\u001b[0;32m-> 1504\u001b[0m \u001b[38;5;28;01mreturn\u001b[39;00m \u001b[38;5;28mself\u001b[39m\u001b[38;5;241m.\u001b[39m_handle_response(\n\u001b[1;32m   1505\u001b[0m     resp\u001b[38;5;241m=\u001b[39mresp,\n\u001b[1;32m   1506\u001b[0m     out_path\u001b[38;5;241m=\u001b[39mout_path,\n\u001b[1;32m   1507\u001b[0m     file_name\u001b[38;5;241m=\u001b[39mfile_name,\n\u001b[1;32m   1508\u001b[0m     try_json\u001b[38;5;241m=\u001b[39mtry_json,\n\u001b[1;32m   1509\u001b[0m     force_bytes\u001b[38;5;241m=\u001b[39mkwargs\u001b[38;5;241m.\u001b[39mpop(\u001b[38;5;124m\"\u001b[39m\u001b[38;5;124mforce_bytes\u001b[39m\u001b[38;5;124m\"\u001b[39m, \u001b[38;5;28;01mFalse\u001b[39;00m),\n\u001b[1;32m   1510\u001b[0m )\n",
      "File \u001b[0;32m/opt/anaconda3/lib/python3.12/site-packages/arcgis/gis/_impl/_con/_connection.py:979\u001b[0m, in \u001b[0;36mConnection._handle_response\u001b[0;34m(self, resp, file_name, out_path, try_json, force_bytes, ignore_error_key)\u001b[0m\n\u001b[1;32m    977\u001b[0m             \u001b[38;5;28;01mreturn\u001b[39;00m data\n\u001b[1;32m    978\u001b[0m         errorcode \u001b[38;5;241m=\u001b[39m data[\u001b[38;5;124m\"\u001b[39m\u001b[38;5;124merror\u001b[39m\u001b[38;5;124m\"\u001b[39m][\u001b[38;5;124m\"\u001b[39m\u001b[38;5;124mcode\u001b[39m\u001b[38;5;124m\"\u001b[39m] \u001b[38;5;28;01mif\u001b[39;00m \u001b[38;5;124m\"\u001b[39m\u001b[38;5;124mcode\u001b[39m\u001b[38;5;124m\"\u001b[39m \u001b[38;5;129;01min\u001b[39;00m data[\u001b[38;5;124m\"\u001b[39m\u001b[38;5;124merror\u001b[39m\u001b[38;5;124m\"\u001b[39m] \u001b[38;5;28;01melse\u001b[39;00m \u001b[38;5;241m0\u001b[39m\n\u001b[0;32m--> 979\u001b[0m         \u001b[38;5;28mself\u001b[39m\u001b[38;5;241m.\u001b[39m_handle_json_error(data[\u001b[38;5;124m\"\u001b[39m\u001b[38;5;124merror\u001b[39m\u001b[38;5;124m\"\u001b[39m], errorcode)\n\u001b[1;32m    980\u001b[0m     \u001b[38;5;28;01mreturn\u001b[39;00m data\n\u001b[1;32m    981\u001b[0m \u001b[38;5;28;01melse\u001b[39;00m:\n",
      "File \u001b[0;32m/opt/anaconda3/lib/python3.12/site-packages/arcgis/gis/_impl/_con/_connection.py:1002\u001b[0m, in \u001b[0;36mConnection._handle_json_error\u001b[0;34m(self, error, errorcode)\u001b[0m\n\u001b[1;32m    999\u001b[0m                 \u001b[38;5;66;03m# _log.error(errordetail)\u001b[39;00m\n\u001b[1;32m   1001\u001b[0m errormessage \u001b[38;5;241m=\u001b[39m errormessage \u001b[38;5;241m+\u001b[39m \u001b[38;5;124m\"\u001b[39m\u001b[38;5;130;01m\\n\u001b[39;00m\u001b[38;5;124m(Error Code: \u001b[39m\u001b[38;5;124m\"\u001b[39m \u001b[38;5;241m+\u001b[39m \u001b[38;5;28mstr\u001b[39m(errorcode) \u001b[38;5;241m+\u001b[39m \u001b[38;5;124m\"\u001b[39m\u001b[38;5;124m)\u001b[39m\u001b[38;5;124m\"\u001b[39m\n\u001b[0;32m-> 1002\u001b[0m \u001b[38;5;28;01mraise\u001b[39;00m \u001b[38;5;167;01mException\u001b[39;00m(errormessage)\n",
      "\u001b[0;31mException\u001b[0m: Cannot perform query. Invalid query parameters.\nUnable to perform query. Please check your parameters.\n(Error Code: 400)"
     ]
    }
   ],
   "source": [
    "# find county barrier for San Dieg\n",
    "counties = gis.content.search(\"USA Counties generalized\", \"Feature Layer\", outside_org=True)[4]\n",
    "counties_fl = gis.content.get(counties.id).layers[0]\n",
    "sd_county_sdf = counties_fl.query(\"NAME = 'San Diego County'\", return_geometry=True).sdf\n",
    "sd_county_gdf = gpd.GeoDataFrame(sd_county_sdf).set_geometry(\"SHAPE\")\n",
    "sd_county_gdf = sd_county_gdf.set_crs(\"4326\")\n",
    "sd_county_gdf = sd_county_gdf.to_crs(\"3857\")\n",
    "\n",
    "# find US zip codes for San Diego\n",
    "zip_codes = gis.content.search(\"zip code\", item_type = \"Feature Layer\", outside_org = True)[2]\n",
    "zip_codes_fl = gis.content.get(zip_codes.id).layers[0]\n",
    "california_zip_codes_sdf = zip_codes_fl.query(where = \"STATE = 'CA'\").sdf\n",
    "ca_zip_codes_gdf = gpd.GeoDataFrame(california_zip_codes_sdf).set_geometry(\"SHAPE\")\n",
    "ca_zip_codes_gdf = ca_zip_codes_gdf.set_crs(\"3857\")\n",
    "\n",
    "# spatial join these two to find zip codes that lie within San Diego County (add buffer to get rid of inconsistencies)\n",
    "sd_county_gdf['SHAPE'] = sd_county_gdf['SHAPE'].buffer(5000)\n",
    "sd_zip_codes = ca_zip_codes_gdf.sjoin(sd_county_gdf, predicate = 'within')\n",
    "\n",
    "# create 'density_class' based on 'pop_sqmi_l'\n",
    "def classify_density(pop_density):\n",
    "    if pop_density > 1000:\n",
    "        return \"Urban\"\n",
    "    elif pop_density > 200:\n",
    "        return \"Suburban\"\n",
    "    else:\n",
    "        return \"Rural\"\n",
    "\n",
    "# fill the missing value with data from 2023\n",
    "sd_zip_codes[\"POP_SQMI_left\"] = sd_zip_codes[\"POP_SQMI_left\"].fillna(3860)\n",
    "sd_zip_codes[\"density_class\"] = sd_zip_codes[\"POP_SQMI_left\"].apply(classify_density)"
   ]
  },
  {
   "cell_type": "code",
   "execution_count": null,
   "metadata": {},
   "outputs": [],
   "source": [
    "# convert into feature layer -> don't run again, already created\n",
    "# sd_zip_sdf = GeoAccessor.from_geodataframe(\n",
    "#     sd_zip_codes, column_name = \"SHAPE\"\n",
    "# )\n",
    "# zip_code_fl = sd_zip_sdf.spatial.to_featurelayer(\n",
    "#     title = \"San Diego County Zip Codes\",\n",
    "#     gis = gis,\n",
    "#     tags = [\"San Diego\", \"Zip Codes\", \"County\"],\n",
    "#     overwrite = False,\n",
    "#     sanitize_columns = True,\n",
    "#     service_name = \"San_Diego_County_ZipCode_Data\"\n",
    "# )"
   ]
  },
  {
   "cell_type": "code",
   "execution_count": 268,
   "metadata": {},
   "outputs": [],
   "source": [
    "zip_code_layer = gis.content.search(\n",
    "    query=f\"owner:{arcgiskey.USERNAME}\", item_type=\"Feature Layer\"\n",
    ")[1]\n",
    "sd_zip_codes_fl = gis.content.get(zip_code_layer.id).layers[0]\n",
    "sd_zip_codes_sdf = sd_zip_codes_fl.query().sdf"
   ]
  },
  {
   "cell_type": "code",
   "execution_count": 269,
   "metadata": {},
   "outputs": [
    {
     "data": {
      "application/vnd.jupyter.widget-view+json": {
       "model_id": "ac930dd4db064f96a108722994b53286",
       "version_major": 2,
       "version_minor": 1
      },
      "text/plain": [
       "Map(center=[3857636.3466711883, -13042616.481232138], extent={'xmin': -13075789.689488532, 'ymin': 3818273.910…"
      ]
     },
     "execution_count": 269,
     "metadata": {},
     "output_type": "execute_result"
    }
   ],
   "source": [
    "map1 = gis.map(\"San Diego, CA\")\n",
    "\n",
    "# population density renderer\n",
    "population_density_renderer = {\n",
    "    \"type\": \"uniqueValue\",\n",
    "    \"field1\": \"density_cl\",\n",
    "    \"uniqueValueInfos\": [\n",
    "        {\n",
    "            \"value\": \"Urban\",\n",
    "            \"symbol\": {\n",
    "                \"type\": \"esriSFS\",\n",
    "                \"style\": \"esriSFSSolid\",\n",
    "                \"color\": [252, 101, 66, 100],  # Transparent fill\n",
    "                \"outline\": {\n",
    "                    \"color\": [252, 101, 66, 255],  # Red outline for urban areas\n",
    "                    \"width\": 1.5,\n",
    "                },\n",
    "            },\n",
    "            \"label\": \"Urban\",\n",
    "        },\n",
    "        {\n",
    "            \"value\": \"Suburban\",\n",
    "            \"symbol\": {\n",
    "                \"type\": \"esriSFS\",\n",
    "                \"style\": \"esriSFSSolid\",\n",
    "                \"color\": [162, 190, 149, 100],  # Transparent fill\n",
    "                \"outline\": {\n",
    "                    \"color\": [162, 190, 149, 255],  # Green outline for suburban areas\n",
    "                    \"width\": 1.5,\n",
    "                },\n",
    "            },\n",
    "            \"label\": \"Suburban\",\n",
    "        },\n",
    "        {\n",
    "            \"value\": \"Rural\",\n",
    "            \"symbol\": {\n",
    "                \"type\": \"esriSFS\",\n",
    "                \"style\": \"esriSFSSolid\",\n",
    "                \"color\": [55, 94, 151, 100],  # Transparent fill\n",
    "                \"outline\": {\n",
    "                    \"color\": [55, 94, 151, 255],  # Blue outline for rural areas\n",
    "                    \"width\": 1.5,\n",
    "                },\n",
    "            },\n",
    "            \"label\": \"Rural\",\n",
    "        },\n",
    "    ],\n",
    "}\n",
    "\n",
    "map1.content.add(\n",
    "    sd_zip_codes_fl, drawing_info={\"renderer\": population_density_renderer}\n",
    ")\n",
    "map1.content.add(collision_fl)\n",
    "map1.legend.enabled = True\n",
    "map1\n"
   ]
  },
  {
   "cell_type": "markdown",
   "metadata": {},
   "source": [
    "# 6) Expected Data Cleaning\n",
    "\n",
    "Some relevant data quality issues is data age. We want to use more modern data, but also have data that is complete and accurate. We already did this with the collision data, as 2023 and 2024 data were incomplete, which means we had to settle for 2022. However, 2022 is a decent predictor of 2024 and 2025, as the bounceback from COVID had already begun. Fortunately, a topic like traffic accidents is a pretty popular and normal set that is used in data analysis, so there shouldn’t be any problems with it’s metadata. I would expect a lot of the data provided in SANDAG to be mostly reputable, but I do expect some problems with street names or areas that might not have been mapped out that well in the data. We will also encounter the issue of incomplete reporting, where the SANDAG data may not have full information reported for certain fields meaning we will have to impute some data or otherwise acount for the missing data.\n",
    "\n",
    "Additionally, some data cleaning we had to do was due to the buffer, since the boundaries of the county weren't 100% accurate to the boundaries of the zip code. We had to place a 5000 meter buffer on the county in order to get all of the zip codes in the county."
   ]
  },
  {
   "cell_type": "markdown",
   "metadata": {},
   "source": [
    "# 7) Plan of Analysis\n",
    "\n",
    "* Data Exploration - Look through the data to see what exactly there is to analyze. For example, for traffic accidents, we could analyze how serious an accident is, or see what type of accident it is (this could be a car-car accident, car-person accident, car-bike accident, etc)\n",
    "* Data Analysis - We could look at concentrated places on our map where accidents occur more, and geoenrich a specific part (i.e. Downtown San Diego) to understand why something is happening. For instance, if we saw a lot of traffic in an area along with a lot of pedestrian violence, there might be a higher chance that an accident occurs. Similarly, we could also check restaurants that serve alcohol, and analyze whether or not areas near the restaurants could serve as an indication of an accident happening.\n",
    "* Machine Learning/Modeling - We want to model whether or not accidents are more likely to occur based on a number of variables that we had geoenriched. This could be the aforementioned # of restaurants that serve alcohol, or any sort of number of features that we geoenriched previously, and make sure we have a set of test areas that could be predicted. We could also predict the type of accident that happened spatially, with the same features. For our business case, we could identify certain zip codes or areas that contain a lot of traffic, and see reasons why they might be so traffic heavy compared to other zip codes. \n"
   ]
  },
  {
   "cell_type": "markdown",
   "metadata": {},
   "source": [
    "For the first question, we observed whether or not collisions were more likely to occur in urban, rural, or suburban areas, as well as which zip codes had the highest collision density. We found per square kilometer, Rural Areas only had 0.001673 collisions, Suburban Areas had 0.003585 collisions, while Urban had by far the highest collision density, with 0.021066 collisions per square kilometer. We also noticed that when we measured collision density in individual zip codes, those closest to the coast and downtown near the freeway had the highest collision rate, which is to be expected due to their frequent usage."
   ]
  },
  {
   "cell_type": "code",
   "execution_count": 270,
   "metadata": {},
   "outputs": [],
   "source": [
    "# Let's see if accidents are more prone to happening in urban, suburban, or rural areas\n",
    "collision_gdf = gpd.GeoDataFrame(collision_sdf, geometry=collision_sdf.SHAPE)\n",
    "sd_zip_codes_gdf = gpd.GeoDataFrame(sd_zip_codes_sdf, geometry=sd_zip_codes_sdf.SHAPE)\n",
    "zip_code_collisions = collision_gdf.sjoin(sd_zip_codes_gdf, predicate=\"within\")"
   ]
  },
  {
   "cell_type": "code",
   "execution_count": 271,
   "metadata": {},
   "outputs": [],
   "source": [
    "# see which zip codes are most accident prone\n",
    "collision_counts = zip_code_collisions.groupby(\"zip_code\").size().rename(\"Total Collisions\")\n",
    "\n",
    "# convert from m2 -> km2\n",
    "total_area = zip_code_collisions.groupby(\"zip_code\")['shape_area'].sum().rename(\"Total Area\") / 1000000\n",
    "collision_density = (collision_counts / total_area).rename(\"Collision Density\")\n",
    "\n",
    "zip_code_collision_density = sd_zip_codes_sdf.merge(collision_density, left_on = \"zip_code\", right_index = True, how = \"outer\")\n",
    "zip_code_collision_density['Col_Dens_km'] = zip_code_collision_density['Collision Density'].fillna(0)\n",
    "zip_code_collision_density = zip_code_collision_density.set_geometry(\"SHAPE\")\n",
    "zip_code_collision_density = zip_code_collision_density.set_crs(\"3857\")"
   ]
  },
  {
   "cell_type": "code",
   "execution_count": null,
   "metadata": {},
   "outputs": [],
   "source": [
    "# zip_collision_density_sdf = GeoAccessor.from_geodataframe(\n",
    "#     zip_code_collision_density, column_name=\"SHAPE\"\n",
    "# )\n",
    "# zip_collision_density_fl = zip_collision_density_sdf.spatial.to_featurelayer(\n",
    "#     title=\"San Diego County Zip Code Collision Density\",\n",
    "#     gis=gis,\n",
    "#     tags=[\"San Diego\", \"Zip Codes\", \"Collision Density\"],\n",
    "#     overwrite=False,\n",
    "#     sanitize_columns=True,\n",
    "#     service_name=\"San_Diego_County_Zip_Code_Collision_Density\",\n",
    "# )"
   ]
  },
  {
   "cell_type": "code",
   "execution_count": 273,
   "metadata": {},
   "outputs": [],
   "source": [
    "zip_collision_layer = gis.content.search(query=f\"owner:{arcgiskey.USERNAME}\", item_type=\"Feature Layer\")[3]\n",
    "zip_col_fl = gis.content.get(zip_collision_layer.id).layers[0]\n",
    "zip_col_sdf = zip_col_fl.query().sdf"
   ]
  },
  {
   "cell_type": "code",
   "execution_count": 274,
   "metadata": {},
   "outputs": [
    {
     "data": {
      "application/vnd.jupyter.widget-view+json": {
       "model_id": "c7da378856a74f9d929f3c0444eb0a74",
       "version_major": 2,
       "version_minor": 1
      },
      "text/plain": [
       "Map(center=[3857636.3466711883, -13042616.481232138], extent={'xmin': -13075789.689488532, 'ymin': 3818273.910…"
      ]
     },
     "execution_count": 274,
     "metadata": {},
     "output_type": "execute_result"
    }
   ],
   "source": [
    "map2 = gis.map(\"San Diego, CA\")\n",
    "# Apply a graduated colors renderer\n",
    "density_renderer = {\n",
    "    \"type\": \"classBreaks\",\n",
    "    \"field\": \"col_dens_k\",\n",
    "    \"classificationMethod\": \"esriClassifyQuantile\",\n",
    "    \"minValue\": 0,\n",
    "    \"maxValue\": 1.3,\n",
    "    \"defaultSymbol\": {\n",
    "        \"type\": \"esriSFS\",\n",
    "        \"style\": \"esriSFSSolid\",\n",
    "        \"color\": [255, 255, 255, 100],\n",
    "        \"outline\": {\n",
    "            \"type\": \"esriSLS\",\n",
    "            \"style\": \"esriSLSSolid\",\n",
    "            \"color\": [110, 110, 110, 255],\n",
    "            \"width\": 0.5,\n",
    "        },\n",
    "    },\n",
    "    \"defaultLabel\": \"No Data\",\n",
    "    \"legendOptions\": {\"title\": \"Collision Density (per sq km)\"},\n",
    "    \"classBreakInfos\": [\n",
    "        {\n",
    "            \"classMaxValue\": np.percentile(zip_col_sdf[\"col_dens_k\"], 25),\n",
    "            \"symbol\": {\n",
    "                \"type\": \"esriSFS\",\n",
    "                \"style\": \"esriSFSSolid\",\n",
    "                \"color\": [204, 236, 230, 100],  # Light blue-green\n",
    "                \"outline\": {\n",
    "                    \"color\": [110, 110, 110, 255],\n",
    "                    \"width\": 0.5,\n",
    "                    \"type\": \"esriSLS\",\n",
    "                    \"style\": \"esriSLSSolid\",\n",
    "                },\n",
    "            },\n",
    "            \"label\": \"1st-25th Percentile\",\n",
    "        },\n",
    "        {\n",
    "            \"classMaxValue\": np.percentile(zip_col_sdf[\"col_dens_k\"], 50),\n",
    "            \"symbol\": {\n",
    "                \"type\": \"esriSFS\",\n",
    "                \"style\": \"esriSFSSolid\",\n",
    "                \"color\": [153, 216, 201, 100],  # Medium blue-green\n",
    "                \"outline\": {\n",
    "                    \"color\": [110, 110, 110, 255],\n",
    "                    \"width\": 0.5,\n",
    "                    \"type\": \"esriSLS\",\n",
    "                    \"style\": \"esriSLSSolid\",\n",
    "                },\n",
    "            },\n",
    "            \"label\": \"25th-50th Percentile\",\n",
    "        },\n",
    "        {\n",
    "            \"classMaxValue\": np.percentile(zip_col_sdf[\"col_dens_k\"], 75),\n",
    "            \"symbol\": {\n",
    "                \"type\": \"esriSFS\",\n",
    "                \"style\": \"esriSFSSolid\",\n",
    "                \"color\": [102, 194, 164, 100],  # Darker blue-green\n",
    "                \"outline\": {\n",
    "                    \"color\": [110, 110, 110, 255],\n",
    "                    \"width\": 0.5,\n",
    "                    \"type\": \"esriSLS\",\n",
    "                    \"style\": \"esriSLSSolid\",\n",
    "                },\n",
    "            },\n",
    "            \"label\": \"50th-75th Percentile\",\n",
    "        },\n",
    "        {\n",
    "            \"classMaxValue\": np.percentile(zip_col_sdf[\"col_dens_k\"], 100),\n",
    "            \"symbol\": {\n",
    "                \"type\": \"esriSFS\",\n",
    "                \"style\": \"esriSFSSolid\",\n",
    "                \"color\": [0, 109, 44, 255],  # Dark green\n",
    "                \"outline\": {\n",
    "                    \"color\": [110, 110, 110, 255],\n",
    "                    \"width\": 0.5,\n",
    "                    \"type\": \"esriSLS\",\n",
    "                    \"style\": \"esriSLSSolid\",\n",
    "                },\n",
    "            },\n",
    "            \"label\": \"75th-100th Percentile\",\n",
    "        },\n",
    "    ],\n",
    "}\n",
    "\n",
    "\n",
    "# Add the layer with the heatmap renderer to your map\n",
    "map2.content.add(zip_col_fl, drawing_info={\"renderer\": density_renderer})\n",
    "map2.legend.enabled = True\n",
    "map2\n"
   ]
  },
  {
   "cell_type": "markdown",
   "metadata": {},
   "source": [
    "Here, let's answer the question about the roads and highways that are most prone to collisions."
   ]
  },
  {
   "cell_type": "code",
   "execution_count": 275,
   "metadata": {},
   "outputs": [],
   "source": [
    "# Lets now evaluate lane size relative to collisions\n",
    "# read data and convert into a spatial dataframe\n",
    "road_data = gpd.read_file(\"data/SOC_Road_data.csv\")\n",
    "road_data = road_data.drop(columns = ['Speed 2021 MPH', '2021 AADT Range', \"1 year AADT % change\", \"1 year Speed % change\"])\n",
    "\n",
    "\n",
    "\n",
    "# conver to floats in order to make sure the spatial references work\n",
    "#data['LONGITUDE sandag'] = data['LONGITUDE sandag'].astype(float)\n",
    "#data['LATITUDE sandag'] = data['LATITUDE sandag'].astype(float)\n",
    "#sdf = GeoAccessor.from_xy(data, x_column='LONGITUDE sandag', y_column='LATITUDE sandag', sr = 4326)"
   ]
  },
  {
   "cell_type": "code",
   "execution_count": 276,
   "metadata": {},
   "outputs": [],
   "source": [
    "cols = ['osm_id', 'Speed Limit MPH', 'Lanes', 'Length', 'Speed 2022 MPH']\n",
    "\n",
    "road_data = road_data.convert_dtypes()\n",
    "road_data['Speed 2022 MPH'] = road_data['Speed 2022 MPH'].replace('<NA>', '0')\n",
    "road_data[cols] = road_data[cols].apply(pd.to_numeric, errors='coerce', axis=1)\n",
    "#road_data['Speed 2022 MPH'] = road_data['Speed 2022 MPH'].astype(float)"
   ]
  },
  {
   "cell_type": "code",
   "execution_count": 279,
   "metadata": {},
   "outputs": [],
   "source": [
    "road_gdf = gpd.GeoDataFrame(road_data)\n",
    "road_gdf['geometry'] = road_gdf['geometry'].apply(lambda x: loads(x) if isinstance(x, str) else x)\n",
    "road_gdf = road_gdf.set_geometry(\"geometry\")\n",
    "road_gdf = road_gdf.set_crs(4326)"
   ]
  },
  {
   "cell_type": "code",
   "execution_count": null,
   "metadata": {},
   "outputs": [],
   "source": [
    "# Feature layer for road data\n",
    "# road_sdf = GeoAccessor.from_geodataframe(\n",
    "#     road_gdf, column_name = \"geometry\"\n",
    "# )\n",
    "# feature_layer = road_sdf.spatial.to_featurelayer(\n",
    "#     title = \"Road Data SD County 2022\",\n",
    "#     gis = gis, \n",
    "#     tags = [\"Road\", \"Data\", \"2022\"],\n",
    "#     overwrite = False,\n",
    "#     sanitize_columns = True,\n",
    "#     service_name = \"Road_Data_SD_County_2022\"\n",
    "# )"
   ]
  },
  {
   "cell_type": "code",
   "execution_count": 285,
   "metadata": {},
   "outputs": [],
   "source": [
    "road_layer = gis.content.search(query=f\"owner:{arcgiskey.USERNAME} Road\", item_type=\"Feature Layer\")[0]\n",
    "road_fl = gis.content.get(road_layer.id).layers[0]\n",
    "road_sdf = road_fl.query().sdf"
   ]
  },
  {
   "cell_type": "code",
   "execution_count": 288,
   "metadata": {},
   "outputs": [
    {
     "data": {
      "application/vnd.jupyter.widget-view+json": {
       "model_id": "a351e4dd08e0469283550891776dd2be",
       "version_major": 2,
       "version_minor": 1
      },
      "text/plain": [
       "Map(center=[3857636.3466711883, -13042616.481232138], extent={'xmin': -13075789.689488532, 'ymin': 3818273.910…"
      ]
     },
     "execution_count": 288,
     "metadata": {},
     "output_type": "execute_result"
    }
   ],
   "source": [
    "map3 = gis.map(\"San Diego, CA\")\n",
    "\n",
    "road_renderer = {\n",
    "    \"type\": \"classBreaks\",\n",
    "    \"field\": \"lanes\",  # Attribute that determines line width\n",
    "    \"defaultSymbol\": {\n",
    "        \"type\": \"esriSLS\",\n",
    "        \"style\": \"esriSLSSolid\",\n",
    "        \"color\": [128, 128, 128, 255],  # Gray color for undefined values\n",
    "        \"width\": 1  # Default width\n",
    "    },\n",
    "    \"classBreakInfos\": [\n",
    "        {\n",
    "            \"classMinValue\": 1,\n",
    "            \"classMaxValue\": 1,\n",
    "            \"symbol\": {\n",
    "                \"type\": \"esriSLS\",\n",
    "                \"style\": \"esriSLSSolid\",\n",
    "                \"color\": [0,0,255, 255], \n",
    "                \"width\": 2  \n",
    "            }\n",
    "        },\n",
    "        {\n",
    "            \"classMinValue\": 2,\n",
    "            \"classMaxValue\": 2,\n",
    "            \"symbol\": {\n",
    "                \"type\": \"esriSLS\",\n",
    "                \"style\": \"esriSLSSolid\",\n",
    "                \"color\": [64,224,208, 255],\n",
    "                \"width\": 3  \n",
    "            }\n",
    "        },\n",
    "        {\n",
    "            \"classMinValue\": 3,\n",
    "            \"classMaxValue\": 3,\n",
    "            \"symbol\": {\n",
    "                \"type\": \"esriSLS\",\n",
    "                \"style\": \"esriSLSSolid\",\n",
    "                \"color\": [0,255,127, 255], \n",
    "                \"width\": 4  \n",
    "            }\n",
    "        },\n",
    "        {\n",
    "            \"classMinValue\": 4,\n",
    "            \"classMaxValue\": 4,\n",
    "            \"symbol\": {\n",
    "                \"type\": \"esriSLS\",\n",
    "                \"style\": \"esriSLSSolid\",\n",
    "                \"color\": [127,255,0, 255],\n",
    "                \"width\": 5 \n",
    "            }\n",
    "        },\n",
    "        {\n",
    "            \"classMinValue\": 5,\n",
    "            \"classMaxValue\": 5,\n",
    "            \"symbol\": {\n",
    "                \"type\": \"esriSLS\",\n",
    "                \"style\": \"esriSLSSolid\",\n",
    "                \"color\": [255,255,0, 255], \n",
    "                \"width\": 6  \n",
    "            }\n",
    "        },\n",
    "        {\n",
    "            \"classMinValue\": 6,\n",
    "            \"classMaxValue\": 6,\n",
    "            \"symbol\": {\n",
    "                \"type\": \"esriSLS\",\n",
    "                \"style\": \"esriSLSSolid\",\n",
    "                \"color\": [255,140,0, 255], \n",
    "                \"width\": 7 \n",
    "            }\n",
    "        },\n",
    "        {\n",
    "            \"classMinValue\": 7,\n",
    "            \"classMaxValue\": 7,\n",
    "            \"symbol\": {\n",
    "                \"type\": \"esriSLS\",\n",
    "                \"style\": \"esriSLSSolid\",\n",
    "                \"color\": [220,20,60, 255],\n",
    "                \"width\": 8  \n",
    "            }\n",
    "        }\n",
    "    ]\n",
    "}\n",
    "\n",
    "map3.content.add(road_sdf, drawing_info={\"renderer\": road_renderer})\n",
    "map3.legend.enabled = True\n",
    "map3"
   ]
  },
  {
   "cell_type": "code",
   "execution_count": 287,
   "metadata": {},
   "outputs": [
    {
     "data": {
      "application/vnd.jupyter.widget-view+json": {
       "model_id": "f81abef3068645f39d73a62c652660c5",
       "version_major": 2,
       "version_minor": 1
      },
      "text/plain": [
       "Map(center=[3857636.3466711883, -13042616.481232138], extent={'xmin': -13075789.689488532, 'ymin': 3818273.910…"
      ]
     },
     "execution_count": 287,
     "metadata": {},
     "output_type": "execute_result"
    }
   ],
   "source": [
    "map4 = gis.map('San Diego, CA')\n",
    "\n",
    "map4.content.add(collision_fl)\n",
    "map4.content.add(road_sdf, drawing_info={\"renderer\": road_renderer})\n",
    "map4.legend.enabled = True\n",
    "map4"
   ]
  },
  {
   "cell_type": "markdown",
   "metadata": {},
   "source": [
    "Then, we want to talk about socioeconomic issues in regards to traffic. Let's look at corresponding zip codes and see if there's an association with demographic characteristics like population density, age distribution, income levels, education levels, and more."
   ]
  },
  {
   "cell_type": "code",
   "execution_count": 296,
   "metadata": {},
   "outputs": [
    {
     "data": {
      "text/plain": [
       "array(['1yearincrements', '5yearincrements', 'Age', 'agebyracebysex',\n",
       "       'agebyracebysex2010', 'agebyracebysex2020', 'AgeDependency',\n",
       "       'AtRisk', 'AutomobilesAutomotiveProducts', 'BabyProductsToysGames',\n",
       "       'basicFactsForMobileApps', 'businesses',\n",
       "       'CivicActivitiesPoliticalAffiliation', 'classofworker', 'clothing',\n",
       "       'ClothingShoesAccessories', 'commute', 'crime',\n",
       "       'DaytimePopulation', 'disability', 'disposableincome', 'DniRates',\n",
       "       'education', 'educationalattainment', 'ElectronicsInternet',\n",
       "       'employees', 'EmploymentUnemployment', 'entertainment',\n",
       "       'financial', 'FinancialInsurance', 'food', 'foodstampsSNAP',\n",
       "       'gender', 'Generations', 'GroceryAlcoholicBeverages',\n",
       "       'groupquarters', 'Health', 'healthinsurancecoverage',\n",
       "       'HealthPersonalCare', 'HealthPersonalCareCEX', 'heatingfuel',\n",
       "       'hispanicorigin', 'HistoricalHouseholds', 'HistoricalHousing',\n",
       "       'HistoricalPopulation', 'HomeImprovementGardenLawn', 'homevalue',\n",
       "       'HouseholdGoodsFurnitureAppliances', 'householdincome',\n",
       "       'households', 'householdsbyageofhouseholder', 'HouseholdsByIncome',\n",
       "       'householdsbyraceofhouseholder', 'householdsbysize',\n",
       "       'householdtotals', 'householdtype', 'housingbyageofhouseholder',\n",
       "       'housingbyraceofhouseholder', 'housingbysize', 'housingcosts',\n",
       "       'HousingHousehold', 'housingunittotals', 'incomebyage', 'industry',\n",
       "       'industrybynaicscode', 'industrybysiccode',\n",
       "       'InternetComputerUsage', 'KeyGlobalFacts', 'KeyUSFacts',\n",
       "       'language', 'LeisureActivitiesLifestyle', 'LifeInsurancePensions',\n",
       "       'lifemodegroupsNEW', 'maritalstatustotals',\n",
       "       'MediaMagazinesNewspapers', 'MediaRadioOtherAudio',\n",
       "       'MediaTVViewing', 'miscellaneous', 'networth', 'NonHispanicOrigin',\n",
       "       'occupation', 'OwnerRenter', 'PetsPetProducts',\n",
       "       'PhonesYellowPages', 'Policy', 'population', 'populationtotals',\n",
       "       'presenceofchildren', 'PsychographicsAdvertising',\n",
       "       'PsychographicsFood', 'PsychographicsLifestyle',\n",
       "       'PsychographicsMedia', 'PsychographicsShopping',\n",
       "       'RaceAndEthnicity', 'raceandhispanicorigin', 'restaurants',\n",
       "       'RetailDemandbyNAICS', 'sales', 'schoolenrollment', 'shopping',\n",
       "       'spendingFactsForMobileApps', 'SpendingTotal', 'sports',\n",
       "       'tapestryadultsNEW', 'tapestryhouseholdsNEW', 'TapestryNEW',\n",
       "       'transportation', 'TravelCEX', 'travelMPI', 'unitsinstructure',\n",
       "       'urbanicity', 'urbanizationgroupsNEW', 'vacant',\n",
       "       'vehiclesavailable', 'veterans', 'Wealth', 'women', 'yearbuilt',\n",
       "       'yearmovedin'], dtype=object)"
      ]
     },
     "execution_count": 296,
     "metadata": {},
     "output_type": "execute_result"
    }
   ],
   "source": [
    "usa = Country(\"usa\", gis=gis)\n",
    "usa.data_collections.index.unique().values\n",
    "# usa.properties.datasets\n",
    "# usa.index.unique().values"
   ]
  },
  {
   "cell_type": "markdown",
   "metadata": {},
   "source": [
    "# 8) Expected Spatial Data Integration Issues\n",
    "\n",
    "Some issues of the data could be that the San Diego county data might use NAD83 state plane EPSG:2230 while others might use EPSG:4326 which can be an easy fix. There might be temporal alignment issues however, as there could be time issues between years like 2020 or 2023. There might even be incomplete data from say, 2024. \n"
   ]
  }
 ],
 "metadata": {
  "kernelspec": {
   "display_name": "Python 3",
   "language": "python",
   "name": "python3"
  },
  "language_info": {
   "codemirror_mode": {
    "name": "ipython",
    "version": 3
   },
   "file_extension": ".py",
   "mimetype": "text/x-python",
   "name": "python",
   "nbconvert_exporter": "python",
   "pygments_lexer": "ipython3",
   "version": "3.11.9"
  }
 },
 "nbformat": 4,
 "nbformat_minor": 2
}
